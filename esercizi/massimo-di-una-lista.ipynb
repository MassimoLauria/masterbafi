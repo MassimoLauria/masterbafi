{
 "cells": [
  {
   "cell_type": "markdown",
   "id": "77615aba",
   "metadata": {},
   "source": [
    "## Massimo in una lista\n",
    "\n",
    "In questo esercizio  cerchiamo di mettere assieme molte delle cose viste fino\n",
    "ad ora. L'esercizio richiede di scrivere una funzione che dato come parametro\n",
    "una lista di valori, calcoli il massimo.\n",
    "\n",
    "Le finestre di programmazione contengono degli esempi per verificare\n",
    "se la vostra funzione è corretta. Nel caso tutti gli esempi vengano eseguiti con\n",
    "esito positivo vi invito a provare **altri esempi ancora**. \n",
    "\n",
    "### Prima versione - numeri\n",
    "\n",
    "Assumete che l'input sia una lista di lughezza almeno 1, contentente solo numeri."
   ]
  },
  {
   "cell_type": "code",
   "execution_count": 1,
   "id": "badf1573-42c4-4dc3-9e99-dfc723a42652",
   "metadata": {
    "attributes": {
     "classes": [
      "python3.run"
     ],
     "id": ""
    }
   },
   "outputs": [],
   "source": [
    "def massimo(lista):\n",
    "    return "
   ]
  },
  {
   "cell_type": "code",
   "execution_count": 2,
   "id": "7ac83e29-ee8e-4f31-a84e-f1bcc0ac3888",
   "metadata": {
    "attributes": {
     "classes": [
      "python3.run"
     ],
     "id": ""
    }
   },
   "outputs": [
    {
     "name": "stdout",
     "output_type": "stream",
     "text": [
      "None\n",
      "None\n"
     ]
    }
   ],
   "source": [
    "print( massimo([12,2.3,6,4]) )    # deve stampare 12\n",
    "print( massimo([3.5, 23.4, 16]))  # deve stampare 23.4"
   ]
  },
  {
   "cell_type": "markdown",
   "id": "fd09eef8",
   "metadata": {},
   "source": [
    "### Seconda versione - stringhe\n",
    "\n",
    "Che modifiche dovete fare perché la funzione sia in grado di trovare il massimo\n",
    "anche in una sequenza di stringhe? A seconda di come avete scritto la prima \n",
    "versione, forse non ne dovete fare alcuna."
   ]
  },
  {
   "cell_type": "code",
   "execution_count": null,
   "id": "673e93b5-f168-4043-948f-709bdf31d92b",
   "metadata": {
    "attributes": {
     "classes": [
      "python3.run"
     ],
     "id": ""
    }
   },
   "outputs": [],
   "source": [
    "def massimo(lista):\n",
    "    return "
   ]
  },
  {
   "cell_type": "code",
   "execution_count": null,
   "id": "175b5601-f299-4a31-a15a-4c259802f8a7",
   "metadata": {
    "attributes": {
     "classes": [
      "python3.run"
     ],
     "id": ""
    }
   },
   "outputs": [],
   "source": [
    "print( massimo([12,2.3,6,4]) )    # deve stampare 12\n",
    "print( massimo([3.5, 23.4, 16]))  # deve stampare 23.4"
   ]
  },
  {
   "cell_type": "code",
   "execution_count": null,
   "id": "5546102b-cd14-4a92-8dff-80c17d7c6075",
   "metadata": {
    "attributes": {
     "classes": [
      "python3.run"
     ],
     "id": ""
    }
   },
   "outputs": [],
   "source": [
    "print( massimo(['casa', 'gatto', 'abaco']))  # deve stampare 'gatto'\n",
    "print( massimo(['python', 'java', 'c++']))   # deve stampare 'python'"
   ]
  },
  {
   "cell_type": "markdown",
   "id": "99e58e86",
   "metadata": {},
   "source": [
    "### Terza versione - lista vuota\n",
    "\n",
    "Il minimo in una lista vuota non è definito. Se la lista è vuota la funzione\n",
    "deve segnalare un `ValueError`."
   ]
  },
  {
   "cell_type": "code",
   "execution_count": 3,
   "id": "17c10abe-9739-4b99-90c6-26d05ca67f94",
   "metadata": {
    "attributes": {
     "classes": [
      "python3.run"
     ],
     "id": ""
    }
   },
   "outputs": [],
   "source": [
    "def massimo(lista):\n",
    "    return "
   ]
  },
  {
   "cell_type": "code",
   "execution_count": 4,
   "id": "47dbf9f0-5efc-436c-91ae-ed331b1a534f",
   "metadata": {
    "attributes": {
     "classes": [
      "python3.run"
     ],
     "id": ""
    }
   },
   "outputs": [
    {
     "name": "stdout",
     "output_type": "stream",
     "text": [
      "None\n",
      "None\n",
      "None\n"
     ]
    }
   ],
   "source": [
    "print( massimo([12,2.3,6,4]) )    # deve stampare 12\n",
    "print( massimo(['casa', 'gatto', 'abaco']))  # deve stampare 'gatto'\n",
    "print( massimo([]))   # deve produrre ValueError"
   ]
  },
  {
   "cell_type": "markdown",
   "id": "2b720b5b",
   "metadata": {},
   "source": [
    "### Quarta versione - elementi \n",
    "\n",
    "Se la lista contiene elementi non confrontabili (ad esempio un numero e una stringa),\n",
    "allora non è possibile calcolare il massimo nella lista. Il questo caso la funzione \n",
    "deve segnalare un `TypeError`.\n",
    "\n",
    "- verificate il comportamento della versione che avete già scritto\n",
    "- fate le modifiche necessarie"
   ]
  },
  {
   "cell_type": "code",
   "execution_count": null,
   "id": "585ac18e-a893-4bcf-aa2e-4ea41c5bc10b",
   "metadata": {
    "attributes": {
     "classes": [
      "python3.run"
     ],
     "id": ""
    }
   },
   "outputs": [],
   "source": [
    "def massimo(lista):\n",
    "    return "
   ]
  },
  {
   "cell_type": "code",
   "execution_count": null,
   "id": "9a351235-6e9f-4c63-9199-a8a5f92e5814",
   "metadata": {
    "attributes": {
     "classes": [
      "python3.run"
     ],
     "id": ""
    }
   },
   "outputs": [],
   "source": [
    "print( massimo([12,2.3,6,4]) )                # deve stampare 12\n",
    "print( massimo(['casa', 'gatto', 'abaco']))   # deve stampare 'gatto'\n",
    "print( massimo(['casa','gatto',12, 'abaco'])) # deve produrre TypeError"
   ]
  }
 ],
 "metadata": {
  "kernelspec": {
   "display_name": "Python 3",
   "language": "python",
   "name": "python3"
  },
  "language_info": {
   "codemirror_mode": {
    "name": "ipython",
    "version": 3
   },
   "file_extension": ".py",
   "mimetype": "text/x-python",
   "name": "python",
   "nbconvert_exporter": "python",
   "pygments_lexer": "ipython3",
   "version": "3.10.3"
  }
 },
 "nbformat": 4,
 "nbformat_minor": 5
}
