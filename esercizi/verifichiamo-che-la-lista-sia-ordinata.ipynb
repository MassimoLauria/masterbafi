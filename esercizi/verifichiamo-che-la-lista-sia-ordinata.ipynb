{
 "cells": [
  {
   "cell_type": "markdown",
   "id": "60e5f7ea",
   "metadata": {},
   "source": [
    "## Verifichiamo che una lista sia ordinata\n",
    "\n",
    "Vogliamo scrivere una funzione che, data una lista di valori, restituisca\n",
    "ripsettivamente `True` o `False` se la lista è ordinata o meno.\n",
    "\n",
    "Le finestre di programmazione contengono degli esempi per verificare\n",
    "se la vostra funzione è corretta. Nel caso tutti gli esempi vengano eseguiti con\n",
    "esito positivo vi invito a provare **altri esempi ancora**. \n",
    "\n",
    "**Alcune cose su cui fare attenzione:**\n",
    "\n",
    "- una lista vuota è ordinata?\n",
    "- una lista di un elemento solo è ordinata?\n",
    "- se la lista ha elementi non confrontabili (e.g. `'car'` e `15`) allora la \n",
    "  funzione deve segnalare errore."
   ]
  },
  {
   "cell_type": "code",
   "execution_count": null,
   "id": "81e27c87-48e9-44bc-95b6-528321ea729c",
   "metadata": {
    "attributes": {
     "classes": [
      "python.run"
     ],
     "id": ""
    }
   },
   "outputs": [],
   "source": [
    "def ordinata(lista):\n",
    "    return "
   ]
  },
  {
   "cell_type": "code",
   "execution_count": null,
   "id": "4c1b9625-b89a-4045-848e-b25651eaa47f",
   "metadata": {
    "attributes": {
     "classes": [
      "python.run"
     ],
     "id": ""
    }
   },
   "outputs": [],
   "source": [
    "print( ordinata( [12, 2.3, 6, 4] ))  # deve stampare False\n",
    "print( ordinata( [2.3, 4, 6, 12] ))  # deve stampare True"
   ]
  },
  {
   "cell_type": "code",
   "execution_count": null,
   "id": "ab0fa99b-84c1-4254-91ef-a39643590f82",
   "metadata": {
    "attributes": {
     "classes": [
      "python.run"
     ],
     "id": ""
    }
   },
   "outputs": [],
   "source": [
    "print( ordinata(['casa', 'gatto', 'abaco']))  # deve stampare False\n",
    "print( ordinata(['abaco', 'casa', 'gatto']))  # deve stampare True"
   ]
  },
  {
   "cell_type": "code",
   "execution_count": null,
   "id": "70ee3ad4-a564-4142-834a-cf2e7d4b0ea6",
   "metadata": {
    "attributes": {
     "classes": [
      "python.run"
     ],
     "id": ""
    }
   },
   "outputs": [],
   "source": [
    "print( ordinata(['python', 'java', 'c++']))   # deve stampare False\n",
    "print( ordinata(['c++', 'java', 'python']))   # deve stampare True"
   ]
  }
 ],
 "metadata": {
  "kernelspec": {
   "display_name": "Python 3 (ipykernel)",
   "language": "python",
   "name": "python3"
  },
  "language_info": {
   "codemirror_mode": {
    "name": "ipython",
    "version": 3
   },
   "file_extension": ".py",
   "mimetype": "text/x-python",
   "name": "python",
   "nbconvert_exporter": "python",
   "pygments_lexer": "ipython3",
   "version": "3.10.2"
  }
 },
 "nbformat": 4,
 "nbformat_minor": 5
}
