{
 "cells": [
  {
   "cell_type": "markdown",
   "id": "5ff646a1",
   "metadata": {},
   "source": [
    "## Occorrenze di parole\n",
    "\n",
    "In questo esercizio vogliamo calcolare il numero di occorrenze delle parole contenute in un testo. \n",
    "Per esempio dato il testo\n",
    "\n",
    "```\n",
    "Quanta legna taglia il taglia-legna, se ha voglia di tagliare legna? \n",
    "Legna da ardere, si intende.\n",
    "```"
   ]
  },
  {
   "cell_type": "markdown",
   "id": "c02a0f03-8077-4bdd-8c52-96a69fc01884",
   "metadata": {},
   "source": [
    "\n",
    "Si vorrebbe come risultato una cosa del genere"
   ]
  },
  {
   "cell_type": "markdown",
   "id": "29fb0ca4-2822-4cee-946e-d9586b2aa48f",
   "metadata": {},
   "source": [
    "```python\n",
    "{ 'quanta': 1, 'legna': 4, 'taglia': 2, 'il': 1, 'se': 1, 'ha': 1,\n",
    "  'voglia': 1, 'di': 1, 'tagliare': 1, 'da': 1, 'ardere': 1, \n",
    "  'si': 1, 'intende': 1}\n",
    "```"
   ]
  },
  {
   "cell_type": "markdown",
   "id": "802b8f1f",
   "metadata": {},
   "source": [
    "Per fare questo esercizio è utile utilizzare il metodo `split` delle stringhe.\n",
    "Data una stringa possiamo spezzettarla in parole con questo metodo, che restituisce \n",
    "la liste delle parole ottenute."
   ]
  },
  {
   "cell_type": "code",
   "execution_count": 4,
   "id": "f7aa66af-ef1a-4a67-b5ef-c883c4c9de4d",
   "metadata": {
    "attributes": {
     "classes": [
      "python.console"
     ],
     "id": ""
    }
   },
   "outputs": [
    {
     "data": {
      "text/plain": [
       "['Questa', 'è,', 'senza', 'dubbio,', 'una', 'grande', 'giornata!']"
      ]
     },
     "execution_count": 4,
     "metadata": {},
     "output_type": "execute_result"
    }
   ],
   "source": [
    "x=\"Questa è,  senza   dubbio,  una  grande    giornata!\"\n",
    "x.split()"
   ]
  },
  {
   "cell_type": "code",
   "execution_count": 5,
   "id": "f8144249-3d9f-486a-931a-68b9b8cf32df",
   "metadata": {
    "attributes": {
     "classes": [
      "python.console"
     ],
     "id": ""
    }
   },
   "outputs": [
    {
     "data": {
      "text/plain": [
       "['Casa', 'casa,', 'casa']"
      ]
     },
     "execution_count": 5,
     "metadata": {},
     "output_type": "execute_result"
    }
   ],
   "source": [
    "y=\"    Casa casa,    casa\"\n",
    "y.split()"
   ]
  },
  {
   "cell_type": "markdown",
   "id": "91227b6a",
   "metadata": {},
   "source": [
    "Una volta divise le parole in una lista possiamo produrre il dizionario con i\n",
    "risultati.\n",
    "\n",
    "### Primo tentativo"
   ]
  },
  {
   "cell_type": "code",
   "execution_count": 7,
   "id": "344a2ad2-b153-4964-b12c-75c42d7a5681",
   "metadata": {
    "attributes": {
     "classes": [
      "python3.run"
     ],
     "id": ""
    }
   },
   "outputs": [],
   "source": [
    "def occorrenze(testo):\n",
    "    parole = testo.split()\n",
    "        \n",
    "    risultati = {}\n",
    "    for parola in parole:\n",
    "        if parola in risultati:\n",
    "            risultati[parola] = risultati[parola] + 1\n",
    "        else:\n",
    "            risultati[parola] = 1\n",
    "    return risultati"
   ]
  },
  {
   "cell_type": "code",
   "execution_count": 8,
   "id": "c4cc421e-c60f-4dc5-b6f4-cb0c4c53acf8",
   "metadata": {
    "attributes": {
     "classes": [
      "python3.run"
     ],
     "id": ""
    }
   },
   "outputs": [
    {
     "name": "stdout",
     "output_type": "stream",
     "text": [
      "{'Questa': 1, 'è,': 1, 'senza': 1, 'dubbio,': 1, 'una': 1, 'grande': 1, 'giornata!': 1}\n"
     ]
    }
   ],
   "source": [
    "x = \"Questa è,  senza   dubbio,  una  grande    giornata!\"\n",
    "print(occorrenze(x))"
   ]
  },
  {
   "cell_type": "code",
   "execution_count": 9,
   "id": "4a00a0e0-c195-4a06-be6d-88b7f1ff63a8",
   "metadata": {
    "attributes": {
     "classes": [
      "python3.run"
     ],
     "id": ""
    }
   },
   "outputs": [
    {
     "name": "stdout",
     "output_type": "stream",
     "text": [
      "{'Casa': 1, 'casa,': 1, 'casa': 1}\n"
     ]
    }
   ],
   "source": [
    "y = \"    Casa casa,    casa\"\n",
    "print(occorrenze(y))"
   ]
  },
  {
   "cell_type": "code",
   "execution_count": 11,
   "id": "f69166db-28a0-4441-8999-c7b4591915f8",
   "metadata": {
    "attributes": {
     "classes": [
      "python3.run"
     ],
     "id": ""
    }
   },
   "outputs": [
    {
     "name": "stdout",
     "output_type": "stream",
     "text": [
      "{'Quanta': 1, 'legna': 1, 'taglia': 1, 'il': 1, 'taglia-legna,': 1, 'se': 1, 'ha': 1, 'voglia': 1, 'di': 1, 'tagliare': 1, 'legna?': 1, 'Legna': 1, 'da': 1, 'ardere,': 1, 'si': 1, 'intende.': 1}\n"
     ]
    }
   ],
   "source": [
    "z = \"Quanta legna taglia il taglia-legna, se ha voglia di tagliare legna?  Legna da ardere, si intende.\"\n",
    "print(occorrenze(z))"
   ]
  },
  {
   "cell_type": "markdown",
   "id": "a35913b9",
   "metadata": {},
   "source": [
    "Quest aversione preliminare mette in luce **due problemi**:\n",
    "\n",
    "1. la funzione `split` separa lungo gli spazi, e quindi la punteggiatura rimane \n",
    "   attaccata ad alcune parole. Qundi `casa` e `casa,` vengono considerate\n",
    "   parole diverse.\n",
    "2. due coccorrenze della stessa parola, con maiuscole diverse, vengono interpretate come\n",
    "   parole diverse.\n",
    "\n",
    "**Esercizio:** il secondo problema è il più semplice da risolvere. Si modifichi\n",
    "il programma precedente per farlo. (*Indizio:* usate il metodo `lower`).\n",
    "\n",
    "### Pulizia del testo\n",
    "\n",
    "Per risolvere il primo problema è possibile fare una pulizia di tutti i caratteri\n",
    "nel testo che non fanno parte di parole (ed esempio la punteggiatura). Un modo abbastanza semplice e corretto potrebbe essere\n",
    "- sostituire tutti i caratteri non alfabetici con degli spazi,\n",
    "- far fare a split il resto del lavoro."
   ]
  },
  {
   "cell_type": "code",
   "execution_count": 13,
   "id": "46b5053f-4b5e-48e6-a411-6151538a6eec",
   "metadata": {
    "attributes": {
     "classes": [
      "python3.run"
     ],
     "id": ""
    }
   },
   "outputs": [],
   "source": [
    "def pulizia(testo):\n",
    "    res = \"\"\n",
    "    for c in testo:\n",
    "        if c.isalpha():\n",
    "            res = res + c\n",
    "        else:\n",
    "            res = res + ' '\n",
    "    return res"
   ]
  },
  {
   "cell_type": "code",
   "execution_count": 14,
   "id": "65b23c70-2d7e-4d59-b0b9-b0e002a092eb",
   "metadata": {
    "attributes": {
     "classes": [
      "python3.run"
     ],
     "id": ""
    }
   },
   "outputs": [
    {
     "name": "stdout",
     "output_type": "stream",
     "text": [
      "Questa è   senza   dubbio   una  grande    giornata \n"
     ]
    }
   ],
   "source": [
    "x = \"Questa è,  senza   dubbio,  una  grande    giornata!\"\n",
    "print(pulizia(x))"
   ]
  },
  {
   "cell_type": "code",
   "execution_count": 15,
   "id": "3af709b8-b6e2-4421-89d4-cd0342007b11",
   "metadata": {
    "attributes": {
     "classes": [
      "python3.run"
     ],
     "id": ""
    }
   },
   "outputs": [
    {
     "name": "stdout",
     "output_type": "stream",
     "text": [
      "    Casa casa     casa\n"
     ]
    }
   ],
   "source": [
    "y = \"    Casa casa,    casa\"\n",
    "print(pulizia(y))"
   ]
  },
  {
   "cell_type": "code",
   "execution_count": 16,
   "id": "8848c140-0c10-481e-993b-97263aa4e87b",
   "metadata": {
    "attributes": {
     "classes": [
      "python3.run"
     ],
     "id": ""
    }
   },
   "outputs": [
    {
     "name": "stdout",
     "output_type": "stream",
     "text": [
      "Quanta legna taglia il taglia legna  se ha voglia di tagliare legna   Legna da ardere  si intende \n"
     ]
    }
   ],
   "source": [
    "z = \"Quanta legna taglia il taglia-legna, se ha voglia di tagliare legna?  Legna da ardere, si intende.\"\n",
    "print(pulizia(z))"
   ]
  },
  {
   "cell_type": "markdown",
   "id": "2f377d38",
   "metadata": {},
   "source": [
    "### Mettete tutto insieme\n",
    "\n",
    "Adesso mettete insieme tutto quello che avete imparato e risolvete l'esercizio"
   ]
  },
  {
   "cell_type": "code",
   "execution_count": null,
   "id": "66918d06-1b7e-4679-ad66-e8fe317d5d69",
   "metadata": {
    "attributes": {
     "classes": [
      "python3.run"
     ],
     "id": ""
    }
   },
   "outputs": [],
   "source": [
    "def occorrenze(testo):\n",
    "    return"
   ]
  },
  {
   "cell_type": "code",
   "execution_count": null,
   "id": "789a954f-51ef-4b91-b4f9-be0f369d5392",
   "metadata": {
    "attributes": {
     "classes": [
      "python3.run"
     ],
     "id": ""
    }
   },
   "outputs": [],
   "source": [
    "x = \"Questa è,  senza   dubbio,  una  grande    giornata!\"\n",
    "print(occorrenze(x))"
   ]
  },
  {
   "cell_type": "code",
   "execution_count": null,
   "id": "29c5b7e1-135d-4fc6-b960-7a58fd961eae",
   "metadata": {
    "attributes": {
     "classes": [
      "python3.run"
     ],
     "id": ""
    }
   },
   "outputs": [],
   "source": [
    "y = \"    Casa casa,    casa\"\n",
    "print(occorrenze(y))"
   ]
  },
  {
   "cell_type": "code",
   "execution_count": null,
   "id": "91686f41-c41a-4c9d-8c16-ace0f8f48f3d",
   "metadata": {
    "attributes": {
     "classes": [
      "python3.run"
     ],
     "id": ""
    }
   },
   "outputs": [],
   "source": [
    "z = \"Quanta legna taglia il taglia-legna, se ha voglia di tagliare legna?  Legna da ardere, si intende.\"\n",
    "print(occorrenze(z))"
   ]
  }
 ],
 "metadata": {
  "kernelspec": {
   "display_name": "Python 3 (ipykernel)",
   "language": "python",
   "name": "python3"
  },
  "language_info": {
   "codemirror_mode": {
    "name": "ipython",
    "version": 3
   },
   "file_extension": ".py",
   "mimetype": "text/x-python",
   "name": "python",
   "nbconvert_exporter": "python",
   "pygments_lexer": "ipython3",
   "version": "3.10.2"
  }
 },
 "nbformat": 4,
 "nbformat_minor": 5
}
