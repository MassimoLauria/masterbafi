{
 "cells": [
  {
   "cell_type": "markdown",
   "id": "1d53a81c",
   "metadata": {},
   "source": [
    "## Sperimentare con Python interattivo\n",
    "\n",
    "Per fare i primi passi con Python non è necessario scrivere un programma, possiamo farlo direttamente nella sessione interattiva.\n",
    "\n",
    "![sessione interattiva python](sessione_interattiva.png)\n",
    "\n",
    "Questa sessione è essenzialmente la stessa che ottenete lanciando il comando `python3`, seguito \n",
    "da invio, sul terminale. In quel caso i caratteri `>>>` indicano che python è pronto per fare tutto quello che gli dite.\n",
    "\n",
    "Per cominciare scrivere `2+5` e premete invio"
   ]
  },
  {
   "cell_type": "code",
   "execution_count": 1,
   "id": "d03dfdbd-0cd7-4ce9-9d43-391e64913668",
   "metadata": {},
   "outputs": [
    {
     "data": {
      "text/plain": [
       "7"
      ]
     },
     "execution_count": 1,
     "metadata": {},
     "output_type": "execute_result"
    }
   ],
   "source": [
    "2+5"
   ]
  },
  {
   "cell_type": "markdown",
   "id": "9bc3acba-e11f-4c9a-8992-9b376933d3e2",
   "metadata": {},
   "source": [
    "La sessione interattiva permette di scrivere espressioni e comandi python.\n",
    "A ogni espressione inserita python risponde con il suo risultato.\n",
    "\n",
    "Quali espressioni e comandi? Per esempio \n",
    "- numeri interi `48239`, `120000000`, \n",
    "- numeri decimali `-34.632`\n",
    "- espressioni costruite utilizzando operatori `+`,`-`,`*`,`/` e parentesi tonde."
   ]
  },
  {
   "cell_type": "markdown",
   "id": "5a95cf7a-8506-4894-9f83-62d53cbf3ab0",
   "metadata": {},
   "source": [
    "**Sperimentate!**"
   ]
  },
  {
   "cell_type": "code",
   "execution_count": null,
   "id": "2eaa0142-20c4-4850-b348-5b0953fb6ef5",
   "metadata": {},
   "outputs": [],
   "source": []
  },
  {
   "cell_type": "markdown",
   "id": "e42b55b8-dac5-4855-87dd-aba9f5fe64b7",
   "metadata": {},
   "source": [
    "Provate a scrivere altre espressioni\n",
    "- che succede se annidate più parentesi tonde e.g. `2*(2.4 - (1.0+2)*5)`;?\n",
    "- che differenza c'è tra `1.5 + 4 * 2`, `1.5 + (4 * 2)`, e `(1.5 + 4) * 2`?"
   ]
  },
  {
   "cell_type": "code",
   "execution_count": 2,
   "id": "a079c5b7",
   "metadata": {
    "attributes": {
     "classes": [
      "python3.console"
     ],
     "id": ""
    }
   },
   "outputs": [
    {
     "data": {
      "text/plain": [
       "-3.5"
      ]
     },
     "execution_count": 2,
     "metadata": {},
     "output_type": "execute_result"
    }
   ],
   "source": [
    "-4 + (2.5 - 4 / 2)"
   ]
  },
  {
   "cell_type": "markdown",
   "id": "113b2b00",
   "metadata": {},
   "source": [
    "Potete usare Python come **calcolatrice!**\n",
    "\n",
    "### Suggerimento\n",
    "\n",
    "Nella sessione interattiva, usando le freccie Su e Giù potete richiamare i comandi che avete già eseguito, e li potete ripetere o modificare.\n",
    "\n",
    "### Stringhe di testo\n",
    "\n",
    "I linguaggi di programmazione permettono di elaborare numeri ma anche di \n",
    "manipolare testi. Una *stringa* è un dato che rappresenta una sequenza di \n",
    "caratteri testuali. L'espressione `\"Gatto\"` in python è interpretata come \n",
    "un dato il cui valore è una sequenza di cinque caratteri di cui il primo è la \n",
    "g maiuscola, il secondo la a minuscola, ecc..."
   ]
  },
  {
   "cell_type": "code",
   "execution_count": 3,
   "id": "24f4ab41-0868-48e1-ac62-90a177b06f80",
   "metadata": {
    "attributes": {
     "classes": [
      "python3.console"
     ],
     "id": ""
    }
   },
   "outputs": [
    {
     "data": {
      "text/plain": [
       "'Gatto'"
      ]
     },
     "execution_count": 3,
     "metadata": {},
     "output_type": "execute_result"
    }
   ],
   "source": [
    "'Gatto'"
   ]
  },
  {
   "cell_type": "code",
   "execution_count": 4,
   "id": "c1845ad6-2094-432d-aa9c-9eb3c0c8dcfc",
   "metadata": {
    "attributes": {
     "classes": [
      "python3.console"
     ],
     "id": ""
    }
   },
   "outputs": [
    {
     "data": {
      "text/plain": [
       "'Andrà tutto bene'"
      ]
     },
     "execution_count": 4,
     "metadata": {},
     "output_type": "execute_result"
    }
   ],
   "source": [
    "\"Andrà tutto bene\""
   ]
  },
  {
   "cell_type": "code",
   "execution_count": 5,
   "id": "a2b5f208-c7cc-44b6-bfca-afa130b2dfc0",
   "metadata": {
    "attributes": {
     "classes": [
      "python3.console"
     ],
     "id": ""
    }
   },
   "outputs": [
    {
     "data": {
      "text/plain": [
       "'I cavalieri della tavola rotonda'"
      ]
     },
     "execution_count": 5,
     "metadata": {},
     "output_type": "execute_result"
    }
   ],
   "source": [
    "\"I cavalieri\" + \" della tavola rotonda\""
   ]
  },
  {
   "cell_type": "code",
   "execution_count": 6,
   "id": "6f5327a1-3e44-4626-9551-963f68519a49",
   "metadata": {
    "attributes": {
     "classes": [
      "python3.console"
     ],
     "id": ""
    }
   },
   "outputs": [
    {
     "data": {
      "text/plain": [
       "'OhmOhmOhmOhmOhm'"
      ]
     },
     "execution_count": 6,
     "metadata": {},
     "output_type": "execute_result"
    }
   ],
   "source": [
    "5 * \"Ohm\""
   ]
  },
  {
   "cell_type": "code",
   "execution_count": 7,
   "id": "bba19561-7016-443b-a5b6-037e5a2219e6",
   "metadata": {
    "attributes": {
     "classes": [
      "python3.console"
     ],
     "id": ""
    }
   },
   "outputs": [
    {
     "data": {
      "text/plain": [
       "'Tora!Tora!Tora!'"
      ]
     },
     "execution_count": 7,
     "metadata": {},
     "output_type": "execute_result"
    }
   ],
   "source": [
    "\"Tora!\" * 3"
   ]
  },
  {
   "cell_type": "markdown",
   "id": "e7a94628",
   "metadata": {},
   "source": [
    "Come potete vedere le stringhe non solo rappresentato testi, ma possono essere \n",
    "manipolate, ad esempio con l'operatore `+` che concatena due stringhe, o \n",
    "l'operatore `*` che ripete una stringa.\n",
    "\n",
    "**Lo stesso operatore ha significati diversi** a seconda dei dati su cui opera\n",
    "- l'operatore `+` tra due numeri, li somma\n",
    "- l'operatore `+` tra due stringhe, produce la stringa concatenata\n",
    "- l'operatore `+` tra un numero e una stringa produce errore"
   ]
  },
  {
   "cell_type": "code",
   "execution_count": 8,
   "id": "cb362c44",
   "metadata": {
    "attributes": {
     "classes": [
      "python3.console"
     ],
     "id": ""
    }
   },
   "outputs": [
    {
     "ename": "TypeError",
     "evalue": "unsupported operand type(s) for +: 'int' and 'str'",
     "output_type": "error",
     "traceback": [
      "\u001b[1;31m---------------------------------------------------------------------------\u001b[0m",
      "\u001b[1;31mTypeError\u001b[0m                                 Traceback (most recent call last)",
      "Input \u001b[1;32mIn [8]\u001b[0m, in \u001b[0;36m<cell line: 1>\u001b[1;34m()\u001b[0m\n\u001b[1;32m----> 1\u001b[0m \u001b[38;5;241;43m5\u001b[39;49m\u001b[43m \u001b[49m\u001b[38;5;241;43m+\u001b[39;49m\u001b[43m \u001b[49m\u001b[38;5;124;43m\"\u001b[39;49m\u001b[38;5;124;43mlune\u001b[39;49m\u001b[38;5;124;43m\"\u001b[39;49m\n",
      "\u001b[1;31mTypeError\u001b[0m: unsupported operand type(s) for +: 'int' and 'str'"
     ]
    }
   ],
   "source": [
    "5 + \"lune\""
   ]
  },
  {
   "cell_type": "markdown",
   "id": "b6230859",
   "metadata": {},
   "source": [
    "---\n",
    "Avete visto? Abbiamo inserito un codice errato e python\n",
    "1. ce lo ha segnalato\n",
    "2. è tornato ad aspettare i nostri comandi\n",
    "3. non lo va a dire a nessuno...\n",
    "\n",
    "**RICORDATE CHE POTETE SBAGLIARE QUANTO VOLETE!!**\n",
    "\n",
    "---\n",
    "\n",
    "### Piccola complicazione: apici singoli e doppi\n",
    "\n",
    "Le stringhe devono essere specificate inziando con un apice (singolo o doppio)\n",
    "e si concludono quando si incontra lo stesso tipo di apice."
   ]
  },
  {
   "cell_type": "code",
   "execution_count": null,
   "id": "00a99de3-96df-4ec9-ba14-b8b7d293f17e",
   "metadata": {
    "attributes": {
     "classes": [
      "python3.console"
     ],
     "id": ""
    }
   },
   "outputs": [],
   "source": [
    "\"stringa con apici doppi\""
   ]
  },
  {
   "cell_type": "code",
   "execution_count": null,
   "id": "82b22659-9cc7-479e-9019-e2a0d263c45e",
   "metadata": {
    "attributes": {
     "classes": [
      "python3.console"
     ],
     "id": ""
    }
   },
   "outputs": [],
   "source": [
    "'stringa con apici singoli'"
   ]
  },
  {
   "cell_type": "code",
   "execution_count": null,
   "id": "54cfc0fa-ccd4-432f-8988-2fdc9d82748e",
   "metadata": {
    "attributes": {
     "classes": [
      "python3.console"
     ],
     "id": ""
    }
   },
   "outputs": [],
   "source": [
    "uno dei due apici è obbligatorio"
   ]
  },
  {
   "cell_type": "code",
   "execution_count": null,
   "id": "e888ca45-8d27-42c5-9d31-cea4eeea8918",
   "metadata": {
    "attributes": {
     "classes": [
      "python3.console"
     ],
     "id": ""
    }
   },
   "outputs": [],
   "source": [
    "\"doppio\"  + 'singolo'"
   ]
  },
  {
   "cell_type": "code",
   "execution_count": null,
   "id": "c4096733-3803-40ab-b7e5-ccc71c5aa9f1",
   "metadata": {
    "attributes": {
     "classes": [
      "python3.console"
     ],
     "id": ""
    }
   },
   "outputs": [],
   "source": [
    "\"questa stringa contiene un apice ' che è singolo\""
   ]
  },
  {
   "cell_type": "code",
   "execution_count": null,
   "id": "094389e6-50ab-456f-a5c0-8f851011563b",
   "metadata": {
    "attributes": {
     "classes": [
      "python3.console"
     ],
     "id": ""
    }
   },
   "outputs": [],
   "source": [
    "'questa stringa contiene un apice \" che è singolo'"
   ]
  },
  {
   "cell_type": "markdown",
   "id": "2637a265",
   "metadata": {},
   "source": [
    "**Domanda** perché l'espressione seguente causa un errore?"
   ]
  },
  {
   "cell_type": "code",
   "execution_count": null,
   "id": "ececb9c2",
   "metadata": {
    "attributes": {
     "classes": [
      "python3.console"
     ],
     "id": ""
    }
   },
   "outputs": [],
   "source": [
    "'scova l'errore'"
   ]
  },
  {
   "cell_type": "markdown",
   "id": "b6e7f077",
   "metadata": {},
   "source": [
    "Se voglio mettere un apice singolo un una stringa delimitata da apici singoli\n",
    "lo posso inserire usando `\\'`, e posso fare lo stesso con un apice doppio \n",
    "usando `\\\"`."
   ]
  },
  {
   "cell_type": "code",
   "execution_count": null,
   "id": "d29f99a6-c4ba-41bd-b07c-32ce44607028",
   "metadata": {
    "attributes": {
     "classes": [
      "python3.console"
     ],
     "id": ""
    }
   },
   "outputs": [],
   "source": [
    "\"Apice doppio \\\" e apice singolo \\', insieme.\""
   ]
  },
  {
   "cell_type": "code",
   "execution_count": null,
   "id": "4d3af4be-9cb7-47f2-8e50-e0677318e4d6",
   "metadata": {
    "attributes": {
     "classes": [
      "python3.console"
     ],
     "id": ""
    }
   },
   "outputs": [],
   "source": [
    "'Apice doppio \\\" e apice singolo \\', insieme.'"
   ]
  },
  {
   "cell_type": "markdown",
   "id": "b42ac4b4",
   "metadata": {},
   "source": [
    "### Riassumendo\n",
    "\n",
    "Abbiamo visto\n",
    "- come usare Python **interattivamente**\n",
    "- dati numerici e stringhe\n",
    "- operatori per costruire espressioni complesse\n",
    "- apici singoli e doppi\n",
    "- segnalazioni di **errori** nella sessione interattiva."
   ]
  },
  {
   "cell_type": "code",
   "execution_count": null,
   "id": "d796f955-3a96-4154-9de3-2dbcb849ac35",
   "metadata": {},
   "outputs": [],
   "source": []
  }
 ],
 "metadata": {
  "kernelspec": {
   "display_name": "Python 3 (ipykernel)",
   "language": "python",
   "name": "python3"
  },
  "language_info": {
   "codemirror_mode": {
    "name": "ipython",
    "version": 3
   },
   "file_extension": ".py",
   "mimetype": "text/x-python",
   "name": "python",
   "nbconvert_exporter": "python",
   "pygments_lexer": "ipython3",
   "version": "3.10.2"
  }
 },
 "nbformat": 4,
 "nbformat_minor": 5
}
