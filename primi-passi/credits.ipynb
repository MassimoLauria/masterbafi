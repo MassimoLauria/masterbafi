{
 "cells": [
  {
   "cell_type": "markdown",
   "id": "4cd63aac",
   "metadata": {
    "tags": []
   },
   "source": [
    "## Inizio\n",
    "\n",
    "Questo è un tutorial introduttivo al linguaggio Python. Alla fine del tutorial \n",
    "si dovrebbe essere in grado di scrivere piccoli programmi Python. Impreremo\n",
    "a manipulate i seguenti **tipi di dati**,\n",
    "- numeri\n",
    "- testi \n",
    "- liste di dati in sequenza;\n",
    "- dizionari (collezione di dati chiave->valore).\n",
    "\n",
    "Per manipolare questi dati impareremo i metodi di **organizzazione del codice**\n",
    "e del **flusso di esecuzione** come\n",
    "- variabili;\n",
    "- cicli `for`;\n",
    "- funzioni;\n",
    "- metodi.\n",
    "\n",
    "E vedremo come usare e installare librerie esterne, contenenti funzionalità\n",
    "aggiuntive per le applicazioni più disparate.\n",
    "\n",
    "Questa parte è **basata** sui tutorial e le esercitazioni di\n",
    "\n",
    "   - [Django Girls](https://tutorial.djangogirls.org/it/python_introduction/)\n",
    "   - [Geek Girls carrots](https://github.com/ggcarrots/django-carrots)\n",
    "\n",
    "a cui va il mio ringraziamento per aver messo a disposizione così tanto \n",
    "materiale utile."
   ]
  }
 ],
 "metadata": {
  "kernelspec": {
   "display_name": "Python 3 (ipykernel)",
   "language": "python",
   "name": "python3"
  },
  "language_info": {
   "codemirror_mode": {
    "name": "ipython",
    "version": 3
   },
   "file_extension": ".py",
   "mimetype": "text/x-python",
   "name": "python",
   "nbconvert_exporter": "python",
   "pygments_lexer": "ipython3",
   "version": "3.10.2"
  }
 },
 "nbformat": 4,
 "nbformat_minor": 5
}
