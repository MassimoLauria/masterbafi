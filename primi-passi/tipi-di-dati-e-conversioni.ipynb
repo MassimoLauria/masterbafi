{
 "cells": [
  {
   "cell_type": "markdown",
   "id": "f51a81fb",
   "metadata": {},
   "source": [
    "## Tipi di dati e conversioni\n",
    "\n",
    "Abbiamo costruito espressioni che potevano avere come valore:\n",
    "- una stringa di testo, e.g., `\"Ciao\"`;\n",
    "- un numero intero, e.g., `23` ;\n",
    "- un numero con parte decimale, e.g., `23.1534`.\n",
    "\n",
    "In Python il valore di ogni espressione ha un *tipo* ovvero fa parte di una \n",
    "famiglia di valori che hanno caratteristiche in comune. Fino ad ora abbiamo \n",
    "visto i seguenti tipi.\n",
    "\n",
    "- Il tipo `str` delle stringhe di testo.\n",
    "- Il tipo `int` dei numeri interi (precisione infinita).\n",
    "- Il tipo `float` dei numeri decimali (precisione limitata).\n",
    "\n",
    "Il tipo di un dato indica **in quali espressioni e contesti** quel dato può \n",
    "essere utilizzato.\n",
    "\n",
    "**Esempi:**\n",
    "- l'operatore `+` può essere usato mischiando `int` e `float`;\n",
    "- l'operatore `+` può essere usato tra `str` e `str`;\n",
    "- l'operatore `+` **non** può essere usato tra `str` e `int`;\n",
    "- l'operatore `*` può essere usato tra `str` e `int`;\n",
    "- l'operatore `*` **non** può essere usato tra `str` e `str`;\n",
    "- la funzione `len` applicata ad un parametro `str` produce un `int`.\n",
    "\n",
    "Nel caso in cui viene effettuata un'operazione su dati del tipo sbagliato, \n",
    "Python segnala un `TypeError`. Provate gli esempi descriti."
   ]
  },
  {
   "cell_type": "code",
   "execution_count": 1,
   "id": "be1c7888-f3a5-425a-ad63-f38a7455fe94",
   "metadata": {
    "attributes": {
     "classes": [
      "python3.console "
     ],
     "id": ""
    }
   },
   "outputs": [
    {
     "data": {
      "text/plain": [
       "'ciaociaociao'"
      ]
     },
     "execution_count": 1,
     "metadata": {},
     "output_type": "execute_result"
    }
   ],
   "source": [
    "\"ciao\"*3"
   ]
  },
  {
   "cell_type": "code",
   "execution_count": 2,
   "id": "400d5d9d-c48b-448b-bd3a-0e4f8149cb55",
   "metadata": {
    "attributes": {
     "classes": [
      "python3.console "
     ],
     "id": ""
    }
   },
   "outputs": [
    {
     "data": {
      "text/plain": [
       "21.2"
      ]
     },
     "execution_count": 2,
     "metadata": {},
     "output_type": "execute_result"
    }
   ],
   "source": [
    "1 + 4 + len(\"abcdefg\") + 4.2 + 5"
   ]
  },
  {
   "cell_type": "code",
   "execution_count": 5,
   "id": "d36bcd80-486d-4db0-b890-47f0da7634c5",
   "metadata": {
    "attributes": {
     "classes": [
      "python3.console "
     ],
     "id": ""
    }
   },
   "outputs": [
    {
     "ename": "TypeError",
     "evalue": "can't multiply sequence by non-int of type 'str'",
     "output_type": "error",
     "traceback": [
      "\u001b[1;31m---------------------------------------------------------------------------\u001b[0m",
      "\u001b[1;31mTypeError\u001b[0m                                 Traceback (most recent call last)",
      "Input \u001b[1;32mIn [5]\u001b[0m, in \u001b[0;36m<cell line: 1>\u001b[1;34m()\u001b[0m\n\u001b[1;32m----> 1\u001b[0m \u001b[38;5;124;43m\"\u001b[39;49m\u001b[38;5;124;43mciao\u001b[39;49m\u001b[38;5;124;43m\"\u001b[39;49m\u001b[43m \u001b[49m\u001b[38;5;241;43m*\u001b[39;49m\u001b[43m \u001b[49m\u001b[38;5;124;43m\"\u001b[39;49m\u001b[38;5;124;43mciao\u001b[39;49m\u001b[38;5;124;43m\"\u001b[39;49m\n",
      "\u001b[1;31mTypeError\u001b[0m: can't multiply sequence by non-int of type 'str'"
     ]
    }
   ],
   "source": [
    "\"ciao\" * \"ciao\""
   ]
  },
  {
   "cell_type": "code",
   "execution_count": 3,
   "id": "175ed0fb-005d-488a-8c66-7fc0561899cf",
   "metadata": {
    "attributes": {
     "classes": [
      "python3.console "
     ],
     "id": ""
    }
   },
   "outputs": [
    {
     "data": {
      "text/plain": [
       "23"
      ]
     },
     "execution_count": 3,
     "metadata": {},
     "output_type": "execute_result"
    }
   ],
   "source": [
    "max(23, 12.4, 1)"
   ]
  },
  {
   "cell_type": "code",
   "execution_count": 4,
   "id": "0837d6e2-3d27-40ce-811a-1cb91dda7000",
   "metadata": {
    "attributes": {
     "classes": [
      "python3.console "
     ],
     "id": ""
    }
   },
   "outputs": [
    {
     "ename": "TypeError",
     "evalue": "'>' not supported between instances of 'str' and 'int'",
     "output_type": "error",
     "traceback": [
      "\u001b[1;31m---------------------------------------------------------------------------\u001b[0m",
      "\u001b[1;31mTypeError\u001b[0m                                 Traceback (most recent call last)",
      "Input \u001b[1;32mIn [4]\u001b[0m, in \u001b[0;36m<cell line: 1>\u001b[1;34m()\u001b[0m\n\u001b[1;32m----> 1\u001b[0m \u001b[38;5;28;43mmax\u001b[39;49m\u001b[43m(\u001b[49m\u001b[38;5;241;43m12\u001b[39;49m\u001b[43m,\u001b[49m\u001b[43m \u001b[49m\u001b[38;5;124;43m'\u001b[39;49m\u001b[38;5;124;43maa\u001b[39;49m\u001b[38;5;124;43m'\u001b[39;49m\u001b[43m)\u001b[49m\n",
      "\u001b[1;31mTypeError\u001b[0m: '>' not supported between instances of 'str' and 'int'"
     ]
    }
   ],
   "source": [
    "max(12, 'aa')"
   ]
  },
  {
   "cell_type": "markdown",
   "id": "698b5fbd",
   "metadata": {},
   "source": [
    "Osservate che *alcune operazioni* cambiano di comportamento a seconda dei tipi\n",
    "ai quali vengono applicate. Ad esempio la moltiplicazione"
   ]
  },
  {
   "cell_type": "code",
   "execution_count": 7,
   "id": "b26cf20c-0875-4345-adc2-eceaf582f9df",
   "metadata": {
    "attributes": {
     "classes": [
      "python3.console"
     ],
     "id": ""
    }
   },
   "outputs": [
    {
     "data": {
      "text/plain": [
       "16"
      ]
     },
     "execution_count": 7,
     "metadata": {},
     "output_type": "execute_result"
    }
   ],
   "source": [
    "4 * 4"
   ]
  },
  {
   "cell_type": "code",
   "execution_count": 6,
   "id": "59722df3-72b9-47ae-af76-4b0e9458fcb0",
   "metadata": {
    "attributes": {
     "classes": [
      "python3.console"
     ],
     "id": ""
    }
   },
   "outputs": [
    {
     "data": {
      "text/plain": [
       "'quattroquattroquattroquattro'"
      ]
     },
     "execution_count": 6,
     "metadata": {},
     "output_type": "execute_result"
    }
   ],
   "source": [
    "'quattro' * 4"
   ]
  },
  {
   "cell_type": "markdown",
   "id": "2c4eb81d",
   "metadata": {},
   "source": [
    "## Conversione di tipi\n",
    "\n",
    "Consideriamo la stringa `\"12.54\"`. Questa è un dato di tipo `str`, e dal punto\n",
    "di vista formale non è che l'elenco dei caratteri `'1'`, `'2'`, `'.'`, `'5'` e `'4'`.\n",
    "\n",
    "Non ha nulla a che vedere con un dato di tipo `float`, eppure è possibile convertire\n",
    "questa stringa in un numero di tipo `float`. Python ha\n",
    "delle funzioni per convertire **quando possibile** un valore \n",
    "verso un dato tipo\n",
    "\n",
    "- `float` trasforma qualcosa in un numero decimale;\n",
    "- `int` trasforma qualcosa in un intero;\n",
    "- `str` trasforma qualcosa in una stringa.\n",
    "\n",
    "Come vedete le funzioni di conversione hanno lo stesso nome dei tipi verso cui\n",
    "convertono.\n",
    "\n",
    "**Esempi di conversioni verso interi**"
   ]
  },
  {
   "cell_type": "code",
   "execution_count": null,
   "id": "aa49290a-7f40-4d39-8dfe-cca9f9973241",
   "metadata": {
    "attributes": {
     "classes": [
      "python3.console"
     ],
     "id": ""
    }
   },
   "outputs": [],
   "source": [
    "int(4.9)"
   ]
  },
  {
   "cell_type": "code",
   "execution_count": null,
   "id": "dd14e5ac-8d47-4f1c-8edd-cd01b26164c3",
   "metadata": {
    "attributes": {
     "classes": [
      "python3.console"
     ],
     "id": ""
    }
   },
   "outputs": [],
   "source": [
    "int(1246.346)"
   ]
  },
  {
   "cell_type": "code",
   "execution_count": null,
   "id": "1daf9031-b2ad-4b00-87ec-84fda2a6dc8c",
   "metadata": {
    "attributes": {
     "classes": [
      "python3.console"
     ],
     "id": ""
    }
   },
   "outputs": [],
   "source": [
    "int(4.0)"
   ]
  },
  {
   "cell_type": "code",
   "execution_count": null,
   "id": "eae34c38-1260-4051-8778-340de2f8ace3",
   "metadata": {
    "attributes": {
     "classes": [
      "python3.console"
     ],
     "id": ""
    }
   },
   "outputs": [],
   "source": [
    "int(\"1000\")"
   ]
  },
  {
   "cell_type": "code",
   "execution_count": null,
   "id": "d0ed2117-3600-4f59-b330-31c5813b3ea7",
   "metadata": {
    "attributes": {
     "classes": [
      "python3.console"
     ],
     "id": ""
    }
   },
   "outputs": [],
   "source": [
    "int(\"100\" + \"000\")  + 23"
   ]
  },
  {
   "cell_type": "code",
   "execution_count": null,
   "id": "c922fb6c-8f60-485b-9d81-7a5399f4ac33",
   "metadata": {
    "attributes": {
     "classes": [
      "python3.console"
     ],
     "id": ""
    }
   },
   "outputs": [],
   "source": [
    "int(\"la vispa teresa\")"
   ]
  },
  {
   "cell_type": "code",
   "execution_count": null,
   "id": "005d8013-ebc0-4740-9b47-f9549290e388",
   "metadata": {
    "attributes": {
     "classes": [
      "python3.console"
     ],
     "id": ""
    }
   },
   "outputs": [],
   "source": [
    "int(\"12.905\")"
   ]
  },
  {
   "cell_type": "code",
   "execution_count": null,
   "id": "82e61c0a-1b20-4a26-bedd-61a990aca226",
   "metadata": {
    "attributes": {
     "classes": [
      "python3.console"
     ],
     "id": ""
    }
   },
   "outputs": [],
   "source": [
    "float(412)"
   ]
  },
  {
   "cell_type": "code",
   "execution_count": null,
   "id": "0da0b02d-716b-45dd-bca4-b7c43cd60470",
   "metadata": {
    "attributes": {
     "classes": [
      "python3.console"
     ],
     "id": ""
    }
   },
   "outputs": [],
   "source": [
    "float(\"12.42\")  - 0.21"
   ]
  },
  {
   "cell_type": "code",
   "execution_count": null,
   "id": "22bfd895-d6c9-4c31-9267-09b308c9f216",
   "metadata": {
    "attributes": {
     "classes": [
      "python3.console"
     ],
     "id": ""
    }
   },
   "outputs": [],
   "source": [
    "float(\"1242\")"
   ]
  },
  {
   "cell_type": "code",
   "execution_count": null,
   "id": "f84b0a84-cb42-419c-bbcc-8e9f58436edb",
   "metadata": {
    "attributes": {
     "classes": [
      "python3.console"
     ],
     "id": ""
    }
   },
   "outputs": [],
   "source": [
    "float(\"la vispa teresa\")"
   ]
  },
  {
   "cell_type": "markdown",
   "id": "623f8156",
   "metadata": {},
   "source": [
    "**Esempi di conversione verso stringa**"
   ]
  },
  {
   "cell_type": "code",
   "execution_count": null,
   "id": "0f029dc7-1116-4f83-9975-e81bf1d32516",
   "metadata": {
    "attributes": {
     "classes": [
      "python3.console"
     ],
     "id": ""
    }
   },
   "outputs": [],
   "source": [
    "str(132892)"
   ]
  },
  {
   "cell_type": "code",
   "execution_count": null,
   "id": "341945e3-c5a4-4099-8907-233d772dfa43",
   "metadata": {
    "attributes": {
     "classes": [
      "python3.console"
     ],
     "id": ""
    }
   },
   "outputs": [],
   "source": [
    "str(13) + str(4)"
   ]
  },
  {
   "cell_type": "code",
   "execution_count": null,
   "id": "3e211227-96f4-4182-9516-8c404aa31e35",
   "metadata": {
    "attributes": {
     "classes": [
      "python3.console"
     ],
     "id": ""
    }
   },
   "outputs": [],
   "source": [
    "str(13 + 4)"
   ]
  },
  {
   "cell_type": "code",
   "execution_count": null,
   "id": "8739b342-5ded-4f77-98e4-5edd9425dcfb",
   "metadata": {
    "attributes": {
     "classes": [
      "python3.console"
     ],
     "id": ""
    }
   },
   "outputs": [],
   "source": [
    "str(-14.5)"
   ]
  },
  {
   "cell_type": "markdown",
   "id": "3cc43fbb",
   "metadata": {},
   "source": [
    "### Riassumendo\n",
    "\n",
    "Abbiamo visto \n",
    "- che ogni dato ha un **tipo**\n",
    "- gli operatori e le funzioni si **comportano** diversamete a seconda dei tipi\n",
    "- l'uso di tipi incompatibili **causa errore**\n",
    "- è possibile **convertire** un dato in un dato di tipo diverso"
   ]
  }
 ],
 "metadata": {
  "kernelspec": {
   "display_name": "Python 3",
   "language": "python",
   "name": "python3"
  },
  "language_info": {
   "codemirror_mode": {
    "name": "ipython",
    "version": 3
   },
   "file_extension": ".py",
   "mimetype": "text/x-python",
   "name": "python",
   "nbconvert_exporter": "python",
   "pygments_lexer": "ipython3",
   "version": "3.10.3"
  }
 },
 "nbformat": 4,
 "nbformat_minor": 5
}
