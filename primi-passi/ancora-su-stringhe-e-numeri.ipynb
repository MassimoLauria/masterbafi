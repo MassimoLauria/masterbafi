{
 "cells": [
  {
   "cell_type": "markdown",
   "id": "29d0ad30",
   "metadata": {},
   "source": [
    "## Ancora su stringhe e numeri\n",
    "\n",
    "Abbiamo costruito espressioni con numeri o con stringhe, utilizzando \n",
    "vari operatori. Naturalmente ci sono molti altri operatori per \n",
    "manipulare i numeri.\n",
    "\n",
    "###  Esponenziazione\n",
    "\n",
    "L'elevazione a potenza si esprime con due asterischi attaccati e funziona con \n",
    "esponenti positivi e negativi, interi o frazionari."
   ]
  },
  {
   "cell_type": "code",
   "execution_count": null,
   "id": "61693864-cb93-4566-bbdf-0bc4be572f66",
   "metadata": {
    "attributes": {
     "classes": [
      "python3.console"
     ],
     "id": ""
    }
   },
   "outputs": [],
   "source": [
    "12**(4+3)"
   ]
  },
  {
   "cell_type": "code",
   "execution_count": null,
   "id": "ab652100-b191-494f-9688-ab60c0487cf4",
   "metadata": {
    "attributes": {
     "classes": [
      "python3.console"
     ],
     "id": ""
    }
   },
   "outputs": [],
   "source": [
    "12**(0.5)"
   ]
  },
  {
   "cell_type": "code",
   "execution_count": null,
   "id": "3fc328ea-530c-47c3-ba38-3bde4c40447b",
   "metadata": {
    "attributes": {
     "classes": [
      "python3.console"
     ],
     "id": ""
    }
   },
   "outputs": [],
   "source": [
    "-4**12"
   ]
  },
  {
   "cell_type": "code",
   "execution_count": null,
   "id": "52786e0d-13e2-4d31-8c95-a67cfcff1d76",
   "metadata": {
    "attributes": {
     "classes": [
      "python3.console"
     ],
     "id": ""
    }
   },
   "outputs": [],
   "source": [
    "4**(-2)"
   ]
  },
  {
   "cell_type": "markdown",
   "id": "79e41fb7",
   "metadata": {},
   "source": [
    "### Divisione intera e resto\n",
    "\n",
    "Abbiamo visto che l'operatore `/` è la divisione tra numeri. Se viene usata\n",
    "con un divisore che con divide esattamente il dividendo, allora produce un \n",
    "un numero con parte decimale. È possibile avere però la **divisione intera** \n",
    "ovvero la divisione che produce sempre un risultato intero, ma che implica \n",
    "un resto. Per avere questo resto si usa invece l'operatore `%`."
   ]
  },
  {
   "cell_type": "code",
   "execution_count": null,
   "id": "8440031a-9169-4ba2-83d8-3932b26908b1",
   "metadata": {
    "attributes": {
     "classes": [
      "python3.console"
     ],
     "id": ""
    }
   },
   "outputs": [],
   "source": [
    "5 / 3"
   ]
  },
  {
   "cell_type": "code",
   "execution_count": null,
   "id": "b1cc36ea-9403-4a37-8745-9a33ffa9693c",
   "metadata": {
    "attributes": {
     "classes": [
      "python3.console"
     ],
     "id": ""
    }
   },
   "outputs": [],
   "source": [
    "10 / 4"
   ]
  },
  {
   "cell_type": "code",
   "execution_count": null,
   "id": "b00f59c4-bf24-4a28-bf71-5b93a5c9ba5d",
   "metadata": {
    "attributes": {
     "classes": [
      "python3.console"
     ],
     "id": ""
    }
   },
   "outputs": [],
   "source": [
    "5 // 3"
   ]
  },
  {
   "cell_type": "code",
   "execution_count": null,
   "id": "93784cfb-e469-4dbb-8007-b775951dfa3f",
   "metadata": {
    "attributes": {
     "classes": [
      "python3.console"
     ],
     "id": ""
    }
   },
   "outputs": [],
   "source": [
    "10 // 4"
   ]
  },
  {
   "cell_type": "code",
   "execution_count": null,
   "id": "17a56eed-3cba-40d3-ac8a-71848eb8c017",
   "metadata": {
    "attributes": {
     "classes": [
      "python3.console"
     ],
     "id": ""
    }
   },
   "outputs": [],
   "source": [
    "5 %  3"
   ]
  },
  {
   "cell_type": "code",
   "execution_count": null,
   "id": "856e28a1-23d0-469f-be23-016b2798d35d",
   "metadata": {
    "attributes": {
     "classes": [
      "python3.console"
     ],
     "id": ""
    }
   },
   "outputs": [],
   "source": [
    "10 % 4"
   ]
  },
  {
   "cell_type": "code",
   "execution_count": null,
   "id": "eef735e9-632a-46da-8c51-c34ab4543266",
   "metadata": {
    "attributes": {
     "classes": [
      "python3.console"
     ],
     "id": ""
    }
   },
   "outputs": [],
   "source": [
    "(12 * 7 + 5 ) % 7 "
   ]
  },
  {
   "cell_type": "markdown",
   "id": "7ca72b50",
   "metadata": {},
   "source": [
    "**Esercizio:** cosa succede ad usare l'operatore di divisione intera con dei\n",
    "numeri non interi? \n",
    "\n",
    "###  Funzioni (matematiche?)\n",
    "\n",
    "È possibile applicare delle funzioni ai valori. Le funzioni sono identificate \n",
    "da un nome e si utilizzano in un'espressione con la sintassi"
   ]
  },
  {
   "cell_type": "code",
   "execution_count": null,
   "id": "f101a497",
   "metadata": {},
   "outputs": [],
   "source": [
    "nomefunzione(param1,param2,param3,...) "
   ]
  },
  {
   "cell_type": "markdown",
   "id": "79265cff",
   "metadata": {},
   "source": [
    "dove il numero di parametri dipende dalla funzion utilizzata, e per alcune \n",
    "funzioni il numero di parametri è libero.\n",
    "\n",
    "Vediamo ad esempio\n",
    "- `abs` prende la versione positiva del numero\n",
    "- `min`,`max` abbastanza autoesplicativi"
   ]
  },
  {
   "cell_type": "code",
   "execution_count": null,
   "id": "9dff58e2-54f4-4a8b-808b-0282028071a8",
   "metadata": {
    "attributes": {
     "classes": [
      "python3.console"
     ],
     "id": ""
    }
   },
   "outputs": [],
   "source": [
    "abs(-2.1)"
   ]
  },
  {
   "cell_type": "code",
   "execution_count": null,
   "id": "d8f250b4-7459-4c5f-8e7f-1b444ce01284",
   "metadata": {
    "attributes": {
     "classes": [
      "python3.console"
     ],
     "id": ""
    }
   },
   "outputs": [],
   "source": [
    "abs(4.23)"
   ]
  },
  {
   "cell_type": "code",
   "execution_count": null,
   "id": "0a6960f0-f3f6-4b7e-924a-6a7290fd282c",
   "metadata": {
    "attributes": {
     "classes": [
      "python3.console"
     ],
     "id": ""
    }
   },
   "outputs": [],
   "source": [
    "min(23, 5, 3, 1, 7, 8, 784, 2.6, 4-5, 6)"
   ]
  },
  {
   "cell_type": "code",
   "execution_count": null,
   "id": "c542472d-0c83-4968-8bb3-a95c69d21ca2",
   "metadata": {
    "attributes": {
     "classes": [
      "python3.console"
     ],
     "id": ""
    }
   },
   "outputs": [],
   "source": [
    "max(23, 5, 3, 1, 7, 8, 784, 2.6, 4-5, 6)"
   ]
  },
  {
   "cell_type": "markdown",
   "id": "0839aff9",
   "metadata": {},
   "source": [
    "###  Costruzione delle espressioni\n",
    "\n",
    "Tutte queste operazioni e funzioni sono componibili a piacimento. Ed è possibile \n",
    "scrivere espressioni arbitrariamente complicate. Vediamo ad esempio:"
   ]
  },
  {
   "cell_type": "code",
   "execution_count": null,
   "id": "f61e15a5",
   "metadata": {},
   "outputs": [],
   "source": [
    "abs(-3.5) + max( 32 % 3, 12 // 7 , 12.5 - abs(13.2) ) + 83 / 4 "
   ]
  },
  {
   "cell_type": "markdown",
   "id": "29b2447a",
   "metadata": {},
   "source": [
    "**Esercizio:** riuscite a calcolare il varoe dell'espressione senza usare python? \n",
    "Dopo che ci avete provato per un po', verificate nella console sottostante."
   ]
  },
  {
   "cell_type": "markdown",
   "id": "62a82920",
   "metadata": {},
   "source": [
    "###  Precedenza degli operatori\n",
    "\n",
    "Per quanto complessa sia un'espressione, il suo valore è sempre ben definito. \n",
    "Questo perché esiste un ordine preciso con cui le operazioni vengono effettuate, grazie alle regole di precedenza degli operatori.\n",
    "L'ordine di precedenza è\n",
    "\n",
    "- parentesi e funzioni\n",
    "- esponenziazioni (da destra a sinistra)\n",
    "- divisione e moltiplicazioni (da sinistra a destra)\n",
    "- somme e sottrazioni (da sinistra a destra)"
   ]
  },
  {
   "cell_type": "code",
   "execution_count": null,
   "id": "f551b401-599c-4bd8-82f3-3bec6f7c10c8",
   "metadata": {
    "attributes": {
     "classes": [
      "python3.console"
     ],
     "id": ""
    }
   },
   "outputs": [],
   "source": [
    "3**3**3"
   ]
  },
  {
   "cell_type": "code",
   "execution_count": null,
   "id": "219437a4-bd9f-4a54-ac25-b6b5bef9a414",
   "metadata": {
    "attributes": {
     "classes": [
      "python3.console"
     ],
     "id": ""
    }
   },
   "outputs": [],
   "source": [
    "3**(3**3)"
   ]
  },
  {
   "cell_type": "code",
   "execution_count": null,
   "id": "1229fc91-d457-4f44-89d6-06a13192981c",
   "metadata": {
    "attributes": {
     "classes": [
      "python3.console"
     ],
     "id": ""
    }
   },
   "outputs": [],
   "source": [
    "(3**3)**3"
   ]
  },
  {
   "cell_type": "code",
   "execution_count": null,
   "id": "8e93346a-d322-4b3e-a523-d4e6a2eff258",
   "metadata": {
    "attributes": {
     "classes": [
      "python3.console"
     ],
     "id": ""
    }
   },
   "outputs": [],
   "source": [
    "4 * 12 + 4"
   ]
  },
  {
   "cell_type": "code",
   "execution_count": null,
   "id": "db37f5c2-5dfc-4610-827b-f534615fe57c",
   "metadata": {
    "attributes": {
     "classes": [
      "python3.console"
     ],
     "id": ""
    }
   },
   "outputs": [],
   "source": [
    "(4 * 12) + 4"
   ]
  },
  {
   "cell_type": "code",
   "execution_count": null,
   "id": "154e39e6-5365-45d8-bcd9-04afa623d68a",
   "metadata": {
    "attributes": {
     "classes": [
      "python3.console"
     ],
     "id": ""
    }
   },
   "outputs": [],
   "source": [
    "4 * (12 + 4)"
   ]
  },
  {
   "cell_type": "markdown",
   "id": "672f18a7",
   "metadata": {},
   "source": [
    "### E per le stringhe?\n",
    "\n",
    "Naturalmente in python esistono funzioni di tutti i tipi. E ce ne sono\n",
    "anche per le stringhe, tuttavia per le stringhe sono più comuni i cosiddetti \n",
    "**metodi**, che sono delle funzioni con delle partocolarità aggiuntive.\n",
    "Vediamo la funzione `len` che calcola la lunghezza di una stringa, e i metodi \n",
    "`upper` e `lower`."
   ]
  },
  {
   "cell_type": "code",
   "execution_count": null,
   "id": "5ed0d66e-cb59-49be-81d6-99e512ae380d",
   "metadata": {
    "attributes": {
     "classes": [
      "python3.console"
     ],
     "id": ""
    }
   },
   "outputs": [],
   "source": [
    "len('la vispa teresa')"
   ]
  },
  {
   "cell_type": "code",
   "execution_count": null,
   "id": "b6d61247-01fd-458e-a429-8a91acc8b9a3",
   "metadata": {
    "attributes": {
     "classes": [
      "python3.console"
     ],
     "id": ""
    }
   },
   "outputs": [],
   "source": [
    "len(\"cacio\" + \"cavallo\")"
   ]
  },
  {
   "cell_type": "code",
   "execution_count": null,
   "id": "b62ea2bd-3092-40f6-aa56-658ebf4cebb4",
   "metadata": {
    "attributes": {
     "classes": [
      "python3.console"
     ],
     "id": ""
    }
   },
   "outputs": [],
   "source": [
    "len('   gli    spazi   contano   ')"
   ]
  },
  {
   "cell_type": "code",
   "execution_count": null,
   "id": "8e11811c-0cba-4ac6-b519-104e75946089",
   "metadata": {
    "attributes": {
     "classes": [
      "python3.console"
     ],
     "id": ""
    }
   },
   "outputs": [],
   "source": [
    "len('l\\'apice è un carattere solo')"
   ]
  },
  {
   "cell_type": "code",
   "execution_count": null,
   "id": "ccbd5f94-83e5-409f-947e-2eec01bd9a3f",
   "metadata": {
    "attributes": {
     "classes": [
      "python3.console"
     ],
     "id": ""
    }
   },
   "outputs": [],
   "source": [
    "5 + len(\"aldo rossi\") / 2"
   ]
  },
  {
   "cell_type": "code",
   "execution_count": null,
   "id": "12d879b3-0e00-4a2b-bf38-ee25dc911945",
   "metadata": {
    "attributes": {
     "classes": [
      "python3.console"
     ],
     "id": ""
    }
   },
   "outputs": [],
   "source": [
    "\"Ciao\".upper()"
   ]
  },
  {
   "cell_type": "code",
   "execution_count": null,
   "id": "894181b6-7bdd-4574-bf8b-cbbabb8419ba",
   "metadata": {
    "attributes": {
     "classes": [
      "python3.console"
     ],
     "id": ""
    }
   },
   "outputs": [],
   "source": [
    "\"Arrivederci Roma\".lower()"
   ]
  },
  {
   "cell_type": "code",
   "execution_count": null,
   "id": "daccee22-7f6c-4731-8092-b7fc8d021549",
   "metadata": {
    "attributes": {
     "classes": [
      "python3.console"
     ],
     "id": ""
    }
   },
   "outputs": [],
   "source": [
    "(\"Buona\" + \" \" + \"Giornata\").lower()"
   ]
  },
  {
   "cell_type": "markdown",
   "id": "1f71ff4a",
   "metadata": {
    "tags": []
   },
   "source": [
    "*Osservazione:* poiché `len` riceve una stringa come parametro ma produce un intero,\n",
    "l'espressione `len(\"aldo rossi\")` può essere utilizzata insieme ad altri numeri,\n",
    "mentre l'espressione `5 + \"aldo rossi\" /3` causa un errore.\n",
    "\n",
    "### Differenza tra funzioni e metodi\n",
    "\n",
    "Una funzione è chiamata così\n",
    "\n",
    "`funzione(param1,param2,...)`\n",
    "\n",
    "un metodo invece si richiama così\n",
    "\n",
    "`expr.metodo(param1,param2,...)`\n",
    "\n",
    "In particolare esiste una sola funzione `len`, mentre potete pensare che si sia\n",
    "un metodo `upper` associato ad ogni stringa, e in effetti nonostante `upper` \n",
    "non abbia parametri, il risultato che produce **dipende** dall'oggetto su a \n",
    "cui è associato.\n",
    "\n",
    "Pensate ad una funzione come un macchinario nel quale mettete dei dati, mentre metodo \n",
    "invece è una specie di gadget che è associato al dato stesso.\n",
    "\n",
    "\n",
    "### Riassumendo\n",
    "\n",
    "Abbiamo visto altre operazioni sui numeri\n",
    "- exponenziazione\n",
    "- divisione intera e resto\n",
    "- l'uso di funzioni `abs`, `min`, `max`\n",
    "- precedenza tra operatori\n",
    "- funzione `len` e metodi `upper` e `lower`\n",
    "- differenza tra metodi e funzioni."
   ]
  }
 ],
 "metadata": {
  "kernelspec": {
   "display_name": "Python 3 (ipykernel)",
   "language": "python",
   "name": "python3"
  },
  "language_info": {
   "codemirror_mode": {
    "name": "ipython",
    "version": 3
   },
   "file_extension": ".py",
   "mimetype": "text/x-python",
   "name": "python",
   "nbconvert_exporter": "python",
   "pygments_lexer": "ipython3",
   "version": "3.10.2"
  }
 },
 "nbformat": 4,
 "nbformat_minor": 5
}
