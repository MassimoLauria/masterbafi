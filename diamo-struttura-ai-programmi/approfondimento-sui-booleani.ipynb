{
 "cells": [
  {
   "cell_type": "markdown",
   "id": "18f7a86e",
   "metadata": {},
   "source": [
    "## Il vero e il falso\n",
    "\n",
    "Quando abbiamo introdotto il costrutto `if`, abbiamo visto che la condizione di scelta è un'espressione che può essere vera o falsa. Questo introduce un nuovo tipo di dato,\n",
    "detto dato **booleano** (tecnicamente `bool`) che può assumere due valori: `True` e `False`."
   ]
  },
  {
   "cell_type": "code",
   "execution_count": 1,
   "id": "45b8979d-ae15-4452-a2fb-a70ea28610d4",
   "metadata": {
    "attributes": {
     "classes": [
      "python3.console"
     ],
     "id": ""
    }
   },
   "outputs": [
    {
     "data": {
      "text/plain": [
       "False"
      ]
     },
     "execution_count": 1,
     "metadata": {},
     "output_type": "execute_result"
    }
   ],
   "source": [
    "4 > 7"
   ]
  },
  {
   "cell_type": "code",
   "execution_count": 2,
   "id": "26fc39ef-399a-4c2f-bfcc-fcc40163ef87",
   "metadata": {
    "attributes": {
     "classes": [
      "python3.console"
     ],
     "id": ""
    }
   },
   "outputs": [
    {
     "data": {
      "text/plain": [
       "True"
      ]
     },
     "execution_count": 2,
     "metadata": {},
     "output_type": "execute_result"
    }
   ],
   "source": [
    "a = 12\n",
    "a + 10 < a*3"
   ]
  },
  {
   "cell_type": "code",
   "execution_count": 3,
   "id": "4ac48bc5-b424-4755-bd5f-7da3c9f4de6b",
   "metadata": {
    "attributes": {
     "classes": [
      "python3.console"
     ],
     "id": ""
    }
   },
   "outputs": [
    {
     "data": {
      "text/plain": [
       "True"
      ]
     },
     "execution_count": 3,
     "metadata": {},
     "output_type": "execute_result"
    }
   ],
   "source": [
    "esito = a >= 7\n",
    "esito"
   ]
  },
  {
   "cell_type": "code",
   "execution_count": 4,
   "id": "b005919e-3540-4482-8256-898699c18f77",
   "metadata": {
    "attributes": {
     "classes": [
      "python3.console"
     ],
     "id": ""
    }
   },
   "outputs": [
    {
     "ename": "TypeError",
     "evalue": "unsupported operand type(s) for +: 'bool' and 'str'",
     "output_type": "error",
     "traceback": [
      "\u001b[1;31m---------------------------------------------------------------------------\u001b[0m",
      "\u001b[1;31mTypeError\u001b[0m                                 Traceback (most recent call last)",
      "Input \u001b[1;32mIn [4]\u001b[0m, in \u001b[0;36m<cell line: 1>\u001b[1;34m()\u001b[0m\n\u001b[1;32m----> 1\u001b[0m \u001b[43mesito\u001b[49m\u001b[43m \u001b[49m\u001b[38;5;241;43m+\u001b[39;49m\u001b[43m \u001b[49m\u001b[38;5;124;43m\"\u001b[39;49m\u001b[38;5;124;43maaa\u001b[39;49m\u001b[38;5;124;43m\"\u001b[39;49m\n",
      "\u001b[1;31mTypeError\u001b[0m: unsupported operand type(s) for +: 'bool' and 'str'"
     ]
    }
   ],
   "source": [
    "esito + \"aaa\""
   ]
  },
  {
   "cell_type": "markdown",
   "id": "8d182ca2",
   "metadata": {},
   "source": [
    "Visto? Un valore booleano può essere memorizzato in una variabile, come qualunque altro valore. Nell'ultimo comando avete visto che Python segnala `TypeError` visto che non si può sommare un `bool` con una `str`. Che succede se sommate un `bool` e un `int`?\n",
    "\n",
    "### Confronti: uguale o diverso?\n",
    "\n",
    "Gli operatori `==` e `!=` determinano rispettivamente se due espressioni hanno \n",
    "o meno lo stesso valore. Permettono di creare un'espressione booleana da due espressioni di tipo non necessariamente booleano.\n",
    "\n",
    "- l'espressione `expr1 == expr2` vale `True` se `expr1` ha lo stesso valore di `expr2`,    e vale `False` altrimenti.\n",
    "- l'espressione `expr1 != expr2` è la negazione logica di `expr1 == expr2`"
   ]
  },
  {
   "cell_type": "code",
   "execution_count": null,
   "id": "de715d68-c69f-4dd8-8659-912df40e5d4e",
   "metadata": {
    "attributes": {
     "classes": [
      "python3.run"
     ],
     "id": ""
    }
   },
   "outputs": [],
   "source": [
    "print( \"casa\" == \"ca\" + \"sa\" )\n",
    "print( \"gatto\" != 4)\n",
    "print( \"5\" == 5)\n",
    "print( \"a\"*4  != 'aaaa')\n",
    "print( \"apici\"  == 'apici')  # gli apici non contano"
   ]
  },
  {
   "cell_type": "code",
   "execution_count": 5,
   "id": "626d7431-e7c7-4661-912a-6bae7ab29634",
   "metadata": {
    "attributes": {
     "classes": [
      "python3.run"
     ],
     "id": ""
    }
   },
   "outputs": [
    {
     "name": "stdout",
     "output_type": "stream",
     "text": [
      "Il testo in x è corto.\n"
     ]
    }
   ],
   "source": [
    "x = \"testo breve\"\n",
    "risultato = len(x) < 100\n",
    "\n",
    "if risultato:\n",
    "    print(\"Il testo in x è corto.\")"
   ]
  },
  {
   "cell_type": "markdown",
   "id": "9f6b016e",
   "metadata": {},
   "source": [
    "**Ricordate:** L'operatore boolean di uguaglianza è `==`, mentre l'assegnamento è \n",
    "denotato con `=`. Usano quello sbagliato, otterrete un errore o peggio un comportamento\n",
    "errato del programma.\n",
    "\n",
    "### Interludio: uguaglianza di due `float`\n",
    "\n",
    "Se si hanno due espressioni `float` e si vuole capite se sono uguali, non è mai consigliabile confrontarle direttamente con `!=` e `==`.\n",
    "- Le operazioni sui `float` sono approssimate.\n",
    "- Espressioni che logicamente hanno lo stesso valore, potrebbero non averlo in Python."
   ]
  },
  {
   "cell_type": "code",
   "execution_count": 6,
   "id": "ff0dc9da-b40c-4387-999f-cbdc7ce7192c",
   "metadata": {
    "attributes": {
     "classes": [
      "python3.run "
     ],
     "id": ""
    }
   },
   "outputs": [
    {
     "name": "stdout",
     "output_type": "stream",
     "text": [
      "x è : 0.0\n",
      "y è : 1e-07\n"
     ]
    }
   ],
   "source": [
    "piccolo = 0.0000001\n",
    "grandep = 10 ** 20\n",
    "granden = -grandep\n",
    "     \n",
    "x = piccolo + grandep + granden\n",
    "y = grandep + granden + piccolo\n",
    "     \n",
    "print(\"x è :\", x)\n",
    "print(\"y è :\", y)"
   ]
  },
  {
   "cell_type": "code",
   "execution_count": 7,
   "id": "c0a83412-643b-4ecb-beba-e77f2046422e",
   "metadata": {
    "attributes": {
     "classes": [
      "python3.run "
     ],
     "id": ""
    }
   },
   "outputs": [
    {
     "name": "stdout",
     "output_type": "stream",
     "text": [
      "Approssimazione insufficiente.\n"
     ]
    }
   ],
   "source": [
    "if x == y:\n",
    "    print(\"Approssimazione sufficiente.\")\n",
    "else:\n",
    "    print(\"Approssimazione insufficiente.\")    "
   ]
  },
  {
   "cell_type": "code",
   "execution_count": 8,
   "id": "a8fc4b88-a8df-4c2c-b1c8-ce6fe1c17500",
   "metadata": {
    "attributes": {
     "classes": [
      "python3.run "
     ],
     "id": ""
    }
   },
   "outputs": [
    {
     "name": "stdout",
     "output_type": "stream",
     "text": [
      "Approssimativamente uguali.\n"
     ]
    }
   ],
   "source": [
    "tolleranza = 0.000001\n",
    "if abs(x - y) < tolleranza:\n",
    "    print(\"Approssimativamente uguali.\")\n",
    "else:\n",
    "    print(\"Diversi.\")"
   ]
  },
  {
   "cell_type": "markdown",
   "id": "b25c40e8",
   "metadata": {},
   "source": [
    "### Confronti: maggiore e minore?\n",
    "\n",
    "Abbiamo già visto confronti tra numeri con `<` e `>`. In realtà Python ha \n",
    "quattro operatori per confronti del genere\n",
    "- `>` maggiore di;\n",
    "- `<` minore di;\n",
    "- `>=` maggiore di o uguale a;\n",
    "- `<=` minore di o uguale a;\n",
    "\n",
    "Il loro significato non dovrebbe essere difficile da immaginare.  Vediamo degli \n",
    "esempi."
   ]
  },
  {
   "cell_type": "code",
   "execution_count": 10,
   "id": "414a057b-9808-457b-80de-a48816fa63b2",
   "metadata": {
    "attributes": {
     "classes": [
      "python3.run"
     ],
     "id": ""
    }
   },
   "outputs": [
    {
     "name": "stdout",
     "output_type": "stream",
     "text": [
      "False\n",
      "True\n"
     ]
    }
   ],
   "source": [
    "x = 7\n",
    "print( x - 5 > 2)\n",
    "print( x - 5 >= 2)"
   ]
  },
  {
   "cell_type": "code",
   "execution_count": 12,
   "id": "f2c164b6-59fa-4482-8ea4-cd273cc7a9f0",
   "metadata": {
    "attributes": {
     "classes": [
      "python3.run"
     ],
     "id": ""
    }
   },
   "outputs": [
    {
     "name": "stdin",
     "output_type": "stream",
     "text": [
      " 12\n"
     ]
    },
    {
     "name": "stdout",
     "output_type": "stream",
     "text": [
      "Numero positivo.\n"
     ]
    }
   ],
   "source": [
    "y = int(input())\n",
    "if y < 0:\n",
    "    print(\"Numero negativo.\")\n",
    "elif y > 0:\n",
    "    print(\"Numero positivo.\")\n",
    "else:\n",
    "    print(\"Zero.\")"
   ]
  },
  {
   "cell_type": "code",
   "execution_count": 11,
   "id": "99b68f2a-7fe5-4e85-b5a0-7fa52d541b10",
   "metadata": {
    "attributes": {
     "classes": [
      "python3.run"
     ],
     "id": ""
    }
   },
   "outputs": [
    {
     "name": "stdout",
     "output_type": "stream",
     "text": [
      "La coppia (a,b) è ordinata\n"
     ]
    }
   ],
   "source": [
    "a = 10\n",
    "b = 20\n",
    "if a <=b:\n",
    "    print(\"La coppia (a,b) è ordinata\")"
   ]
  },
  {
   "cell_type": "markdown",
   "id": "f8a33e72",
   "metadata": {},
   "source": [
    "Possiamo confrontare solamente i numeri? No! \n",
    "In realtà le stringhe in Python sono confrontabili\n",
    "rispetto all'ordine lessicografico.\n",
    "Senza dare troppi dettagli su questo tipo di ordine, possiamo dire che\n",
    "- I caratteri delle cifre `0-9` sono minori dei caratteri `A-Z` che sono minori di `a-z`. Il carattere spazio `' '`è anche minore di `\"0\"`.\n",
    "- La stringa di lunghezza zero `\"\"` è la stringa più piccola di tutte"
   ]
  },
  {
   "cell_type": "code",
   "execution_count": 15,
   "id": "15aa6e50-1480-4613-b439-b875bb80a722",
   "metadata": {
    "attributes": {
     "classes": [
      "python3.run"
     ],
     "id": ""
    }
   },
   "outputs": [
    {
     "data": {
      "text/plain": [
       "True"
      ]
     },
     "execution_count": 15,
     "metadata": {},
     "output_type": "execute_result"
    }
   ],
   "source": [
    "\"0\" < \"1\""
   ]
  },
  {
   "cell_type": "code",
   "execution_count": 16,
   "id": "687340de-b365-4e28-bea3-c21f3ac9b505",
   "metadata": {
    "attributes": {
     "classes": [
      "python3.run"
     ],
     "id": ""
    }
   },
   "outputs": [
    {
     "data": {
      "text/plain": [
       "True"
      ]
     },
     "execution_count": 16,
     "metadata": {},
     "output_type": "execute_result"
    }
   ],
   "source": [
    "\"9\" < \"A\""
   ]
  },
  {
   "cell_type": "code",
   "execution_count": 17,
   "id": "4baf5e24-3cfb-4ffb-8a0a-dc9beb7bb391",
   "metadata": {
    "attributes": {
     "classes": [
      "python3.run"
     ],
     "id": ""
    }
   },
   "outputs": [
    {
     "data": {
      "text/plain": [
       "True"
      ]
     },
     "execution_count": 17,
     "metadata": {},
     "output_type": "execute_result"
    }
   ],
   "source": [
    "\"A\" < \"B\""
   ]
  },
  {
   "cell_type": "code",
   "execution_count": 18,
   "id": "9f7417cf-27ac-42c4-b6c7-b01c58d8d049",
   "metadata": {
    "attributes": {
     "classes": [
      "python3.run"
     ],
     "id": ""
    }
   },
   "outputs": [
    {
     "data": {
      "text/plain": [
       "True"
      ]
     },
     "execution_count": 18,
     "metadata": {},
     "output_type": "execute_result"
    }
   ],
   "source": [
    "\"Z\" < \"a\""
   ]
  },
  {
   "cell_type": "code",
   "execution_count": 19,
   "id": "94030dc1-2852-421f-bcc6-7aab0b124c27",
   "metadata": {
    "attributes": {
     "classes": [
      "python3.run"
     ],
     "id": ""
    }
   },
   "outputs": [
    {
     "data": {
      "text/plain": [
       "True"
      ]
     },
     "execution_count": 19,
     "metadata": {},
     "output_type": "execute_result"
    }
   ],
   "source": [
    "\"a\" < \"b\""
   ]
  },
  {
   "cell_type": "code",
   "execution_count": 20,
   "id": "23bf8fd7-ab96-4418-8d9d-c3a294b6494d",
   "metadata": {
    "attributes": {
     "classes": [
      "python3.run"
     ],
     "id": ""
    }
   },
   "outputs": [
    {
     "data": {
      "text/plain": [
       "True"
      ]
     },
     "execution_count": 20,
     "metadata": {},
     "output_type": "execute_result"
    }
   ],
   "source": [
    "\"gatto\" >= \"casa\""
   ]
  },
  {
   "cell_type": "code",
   "execution_count": 21,
   "id": "802611ac-873e-403d-85b6-5868c9e16f2f",
   "metadata": {
    "attributes": {
     "classes": [
      "python3.run"
     ],
     "id": ""
    }
   },
   "outputs": [
    {
     "data": {
      "text/plain": [
       "True"
      ]
     },
     "execution_count": 21,
     "metadata": {},
     "output_type": "execute_result"
    }
   ],
   "source": [
    "\"abaco\" < \"ala\""
   ]
  },
  {
   "cell_type": "code",
   "execution_count": 22,
   "id": "896d18e4-5d4a-45b5-87f4-ec3be3124ff4",
   "metadata": {
    "attributes": {
     "classes": [
      "python3.run"
     ],
     "id": ""
    }
   },
   "outputs": [
    {
     "data": {
      "text/plain": [
       "True"
      ]
     },
     "execution_count": 22,
     "metadata": {},
     "output_type": "execute_result"
    }
   ],
   "source": [
    "\"AdaAfd687fytch8d7382tu\" < \"ciao\""
   ]
  },
  {
   "cell_type": "code",
   "execution_count": 23,
   "id": "6f22f937-ce90-4fd5-b17d-3af197386bd1",
   "metadata": {
    "attributes": {
     "classes": [
      "python3.run"
     ],
     "id": ""
    }
   },
   "outputs": [
    {
     "data": {
      "text/plain": [
       "True"
      ]
     },
     "execution_count": 23,
     "metadata": {},
     "output_type": "execute_result"
    }
   ],
   "source": [
    "\"Casa\" < \"casa\"  # maiuscole"
   ]
  },
  {
   "cell_type": "code",
   "execution_count": 24,
   "id": "75e0ad92-b017-4eb8-bba5-05b1dd39881c",
   "metadata": {
    "attributes": {
     "classes": [
      "python3.run"
     ],
     "id": ""
    }
   },
   "outputs": [
    {
     "data": {
      "text/plain": [
       "False"
      ]
     },
     "execution_count": 24,
     "metadata": {},
     "output_type": "execute_result"
    }
   ],
   "source": [
    "\" spazio\" >= \"spazio\" # spazio"
   ]
  },
  {
   "cell_type": "code",
   "execution_count": 25,
   "id": "a190ac10-3038-4477-a434-f51862b9a1f8",
   "metadata": {
    "attributes": {
     "classes": [
      "python3.run"
     ],
     "id": ""
    }
   },
   "outputs": [
    {
     "data": {
      "text/plain": [
       "True"
      ]
     },
     "execution_count": 25,
     "metadata": {},
     "output_type": "execute_result"
    }
   ],
   "source": [
    "\"casa\" < \"casale\"  # prefisso"
   ]
  },
  {
   "cell_type": "code",
   "execution_count": 26,
   "id": "6f3dcb77-49b8-4541-abf7-6ec9afe7bf3b",
   "metadata": {
    "attributes": {
     "classes": [
      "python3.run"
     ],
     "id": ""
    }
   },
   "outputs": [
    {
     "data": {
      "text/plain": [
       "True"
      ]
     },
     "execution_count": 26,
     "metadata": {},
     "output_type": "execute_result"
    }
   ],
   "source": [
    "\"\" < \" \""
   ]
  },
  {
   "cell_type": "markdown",
   "id": "4aec7941",
   "metadata": {},
   "source": [
    "Non si possono invece confrontate numeri e stringhe. Se lo fate Python segnalerà\n",
    "un `TypeError`."
   ]
  },
  {
   "cell_type": "code",
   "execution_count": 28,
   "id": "267bec23",
   "metadata": {
    "attributes": {
     "classes": [
      "python3.run"
     ],
     "id": ""
    }
   },
   "outputs": [
    {
     "ename": "TypeError",
     "evalue": "'<' not supported between instances of 'str' and 'int'",
     "output_type": "error",
     "traceback": [
      "\u001b[1;31m---------------------------------------------------------------------------\u001b[0m",
      "\u001b[1;31mTypeError\u001b[0m                                 Traceback (most recent call last)",
      "Input \u001b[1;32mIn [28]\u001b[0m, in \u001b[0;36m<cell line: 1>\u001b[1;34m()\u001b[0m\n\u001b[1;32m----> 1\u001b[0m \u001b[38;5;124;43m\"\u001b[39;49m\u001b[38;5;124;43mquattro\u001b[39;49m\u001b[38;5;124;43m\"\u001b[39;49m\u001b[43m \u001b[49m\u001b[38;5;241;43m<\u001b[39;49m\u001b[43m \u001b[49m\u001b[38;5;241;43m5\u001b[39;49m\n",
      "\u001b[1;31mTypeError\u001b[0m: '<' not supported between instances of 'str' and 'int'"
     ]
    }
   ],
   "source": [
    "\"quattro\" < 5"
   ]
  },
  {
   "cell_type": "markdown",
   "id": "b7d33c4b-1c33-4dc1-869f-7699d9d5f9ca",
   "metadata": {},
   "source": [
    "### Operatori Logici: Negazione, Or, And\n",
    "\n",
    "Le espressioni a valore booleano possono anche essere combinate tra loro con gli operatori logici:\n",
    "\n",
    "#### Negazione logica `not`\n",
    "\n",
    "  Se `expr` è un'espressione booleana, allora `not expr` è l'espressione booleana\n",
    "  che è vera se e solo se `expr` è falsa."
   ]
  },
  {
   "cell_type": "code",
   "execution_count": 29,
   "id": "92b6e349-be30-41e1-8f68-e5f31c0c4a1c",
   "metadata": {},
   "outputs": [
    {
     "name": "stdout",
     "output_type": "stream",
     "text": [
      "True\n",
      "False\n",
      "False\n",
      "True\n",
      "True\n"
     ]
    }
   ],
   "source": [
    "print(True)\n",
    "print(not True)\n",
    "print(False)\n",
    "print(not False)\n",
    "print( not 10 < 3)"
   ]
  },
  {
   "cell_type": "code",
   "execution_count": 30,
   "id": "038c9234-c903-4994-ab9b-ea71a799754e",
   "metadata": {},
   "outputs": [
    {
     "name": "stdout",
     "output_type": "stream",
     "text": [
      "True\n"
     ]
    }
   ],
   "source": [
    "x = 12\n",
    "res = x < 10\n",
    "print( not res)"
   ]
  },
  {
   "cell_type": "markdown",
   "id": "d5b69298-61ba-4e83-b086-c31804dcb5bb",
   "metadata": {},
   "source": [
    "#### Disgiunzione logica `or`\n",
    "\n",
    "  Consideriamo due espressioni booleane `expr1` e `expr2`: il valore di `expr1 or expr2` è `True` quando **almeno una** delle due espressioni componenti è `True`. \n",
    "  \n",
    "  Notate che questo è differente dal linguaggio di tutti i giorni. In italiano se diciamo \"questo **o** quello\" indichiamo due scelte mutuamente esclusive. Non è così in Python.\n",
    "\n",
    "  È possibile concatenare tanti `or` scrivendo\n",
    "  \n",
    "  ```expr1 or expr2 or expr3 or ... or exprN```\n",
    "  \n",
    "  e anche in questo caso l'espressione finale è `True` quando **almeno una** delle espressioni componenti è `True`. Se invece **tutte** le espressioni componenti sono `False`, il risultato è `False`."
   ]
  },
  {
   "cell_type": "code",
   "execution_count": 33,
   "id": "2b0d3dc1-7ba3-4c8c-9939-f551dc4846a0",
   "metadata": {},
   "outputs": [
    {
     "name": "stdout",
     "output_type": "stream",
     "text": [
      "False\n",
      "True\n",
      "True\n",
      "True\n"
     ]
    }
   ],
   "source": [
    "print( False or False )\n",
    "print( True  or False )\n",
    "print( False or True  )\n",
    "print( True  or True  )"
   ]
  },
  {
   "cell_type": "code",
   "execution_count": 32,
   "id": "21d38118-a22d-42bc-ac3b-c7e2fc6c4756",
   "metadata": {},
   "outputs": [
    {
     "name": "stdout",
     "output_type": "stream",
     "text": [
      "Prendo l'ombrello.\n"
     ]
    }
   ],
   "source": [
    "piove = False\n",
    "nuvoloso = True\n",
    "  \n",
    "if piove or nuvoloso:\n",
    "    print(\"Prendo l'ombrello.\")"
   ]
  },
  {
   "cell_type": "code",
   "execution_count": 31,
   "id": "343d1bbc-4fbb-4b1e-a695-a75dedb7eafd",
   "metadata": {},
   "outputs": [
    {
     "name": "stdout",
     "output_type": "stream",
     "text": [
      "True\n"
     ]
    }
   ],
   "source": [
    "verifica = 2 < 1 or 3 > 5 or 12 % 2 == 0 or 7*2 == 1  \n",
    "print(verifica)"
   ]
  },
  {
   "cell_type": "markdown",
   "id": "8fc5e5d1-ff95-4c0a-a83f-e89bcf273eb0",
   "metadata": {},
   "source": [
    "#### Congiunzione logica `and`\n",
    "\n",
    "  Consideriamo due espressioni booleane `expr1` e `expr2`: il valore di `expr1 and expr2` è `True` quando **entrambe** le due espressioni sono `True`.  \n",
    "  \n",
    "  È possibile concatenare tanti `and` scrivendo\n",
    "  \n",
    "  ```expr1 and expr2 and expr3 and ... and exprN```\n",
    "  \n",
    "  e anche in questo caso l'espressione finale è `True` quando **tutte** le espressioni componenti sono `True`. Se invece **anche una sola** delle espressioni componenti è `False`, il risultato è `False`."
   ]
  },
  {
   "cell_type": "code",
   "execution_count": 37,
   "id": "94c65844-eaa1-47be-84a9-bc99e8dc0783",
   "metadata": {},
   "outputs": [
    {
     "name": "stdout",
     "output_type": "stream",
     "text": [
      "False\n",
      "False\n",
      "False\n",
      "True\n"
     ]
    }
   ],
   "source": [
    "print( False and False )\n",
    "print( True  and False )\n",
    "print( False and True  )\n",
    "print( True  and True  )"
   ]
  },
  {
   "cell_type": "code",
   "execution_count": 38,
   "id": "380a2ae0-c59c-468a-9264-04984d48f638",
   "metadata": {},
   "outputs": [],
   "source": [
    "piove = False\n",
    "ventoso = True\n",
    "  \n",
    "if piove and ventoso:\n",
    "    print(\"È tempesta\")\n"
   ]
  },
  {
   "cell_type": "markdown",
   "id": "7d335d2a-8a51-4466-bb52-f29a0b0b7456",
   "metadata": {},
   "source": [
    "**Attenzione alle maiuscole e minuscole**: le grafie di `and`, `or`, `not`, `True` e `False` devono essere esattamente queste. Altre grafie non sono ammesse."
   ]
  },
  {
   "cell_type": "code",
   "execution_count": 34,
   "id": "945d1d08-fa9d-4de0-ac92-148caa95cd5d",
   "metadata": {
    "attributes": {
     "classes": [
      "python3.console"
     ],
     "id": ""
    }
   },
   "outputs": [
    {
     "ename": "SyntaxError",
     "evalue": "invalid syntax (2132713613.py, line 1)",
     "output_type": "error",
     "traceback": [
      "\u001b[1;36m  Input \u001b[1;32mIn [34]\u001b[1;36m\u001b[0m\n\u001b[1;33m    True AND False\u001b[0m\n\u001b[1;37m         ^\u001b[0m\n\u001b[1;31mSyntaxError\u001b[0m\u001b[1;31m:\u001b[0m invalid syntax\n"
     ]
    }
   ],
   "source": [
    "True AND False"
   ]
  },
  {
   "cell_type": "code",
   "execution_count": 35,
   "id": "ee56ca8a-5e91-4fbc-890c-a268bffaf5d1",
   "metadata": {
    "attributes": {
     "classes": [
      "python3.console"
     ],
     "id": ""
    }
   },
   "outputs": [
    {
     "ename": "NameError",
     "evalue": "name 'true' is not defined",
     "output_type": "error",
     "traceback": [
      "\u001b[1;31m---------------------------------------------------------------------------\u001b[0m",
      "\u001b[1;31mNameError\u001b[0m                                 Traceback (most recent call last)",
      "Input \u001b[1;32mIn [35]\u001b[0m, in \u001b[0;36m<cell line: 1>\u001b[1;34m()\u001b[0m\n\u001b[1;32m----> 1\u001b[0m \u001b[38;5;129;01mnot\u001b[39;00m \u001b[43mtrue\u001b[49m\n",
      "\u001b[1;31mNameError\u001b[0m: name 'true' is not defined"
     ]
    }
   ],
   "source": [
    "not true"
   ]
  },
  {
   "cell_type": "code",
   "execution_count": 36,
   "id": "47b32b14-15f6-4303-a4ed-507f982792d6",
   "metadata": {
    "attributes": {
     "classes": [
      "python3.console"
     ],
     "id": ""
    }
   },
   "outputs": [
    {
     "ename": "SyntaxError",
     "evalue": "invalid syntax (3258538045.py, line 1)",
     "output_type": "error",
     "traceback": [
      "\u001b[1;36m  Input \u001b[1;32mIn [36]\u001b[1;36m\u001b[0m\n\u001b[1;33m    1 > 3 OR 3 > 1\u001b[0m\n\u001b[1;37m          ^\u001b[0m\n\u001b[1;31mSyntaxError\u001b[0m\u001b[1;31m:\u001b[0m invalid syntax\n"
     ]
    }
   ],
   "source": [
    "1 > 3 OR 3 > 1"
   ]
  },
  {
   "cell_type": "markdown",
   "id": "193ef925",
   "metadata": {},
   "source": [
    "### Riassunto\n",
    "\n",
    "Abbiamo visto\n",
    "\n",
    "- valori booleani `True` e `False`;\n",
    "- espressioni booleane con confronto di valori `==` e `!=`;\n",
    "- che non si dovrebbero usare con in `float`;\n",
    "- espressioni booleane con confronti `<`, `>`, `<=`, `>=`;\n",
    "- confronti tra stringe e ordine lessicografico;\n",
    "- operatori logici `not`, `and`, `or`."
   ]
  }
 ],
 "metadata": {
  "kernelspec": {
   "display_name": "Python 3",
   "language": "python",
   "name": "python3"
  },
  "language_info": {
   "codemirror_mode": {
    "name": "ipython",
    "version": 3
   },
   "file_extension": ".py",
   "mimetype": "text/x-python",
   "name": "python",
   "nbconvert_exporter": "python",
   "pygments_lexer": "ipython3",
   "version": "3.10.3"
  }
 },
 "nbformat": 4,
 "nbformat_minor": 5
}
