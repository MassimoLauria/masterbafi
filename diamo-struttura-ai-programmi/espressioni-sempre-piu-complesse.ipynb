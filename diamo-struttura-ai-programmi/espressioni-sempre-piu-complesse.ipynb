{
 "cells": [
  {
   "cell_type": "markdown",
   "id": "2cc575a0",
   "metadata": {},
   "source": [
    "## Espressioni sempre più complesse\n",
    "\n",
    "Ricapitoliamo i tipi visti fino ad ora\n",
    "\n",
    "- stringhe `str` (e.g. `\"ciao\"`, `\"miao\"`, `\"Elefante rosa!\"`)\n",
    "- interi `int` (e.g `22`, `42`, `7`, `100438`, `-42423`)\n",
    "- numeri approssimati `float` (e.g. `13.4`, `-0.342`, `.45`)\n",
    "- booleani `bool` (e.g. `True` e `False`)\n",
    "\n",
    "Questi tipi possono essere usati per costruire espressioni tramite\n",
    "\n",
    "- parentesi tonde `(`, `)` che possono essere annidate senza limite;\n",
    "- chiamate a funzioni o metodi , e.g., `len(\"coniglio\")`, `\"max\".upper()`;\n",
    "- operatori aritmetici `+`, `-`, `*`, `/`, `//`, `%`, `**`;\n",
    "- operatori di confronto `==`, `!=`, `<`, `>`, `<=`, `>=`;\n",
    "- operatori logici `not`, `and`, `or`.\n",
    "\n",
    "**Esercizio:** riuscite a calcolare il valore della sequente espressione senza \n",
    "eseguirla nell'interprete Python?"
   ]
  },
  {
   "cell_type": "code",
   "execution_count": 1,
   "id": "65572f96",
   "metadata": {},
   "outputs": [
    {
     "data": {
      "text/plain": [
       "True"
      ]
     },
     "execution_count": 1,
     "metadata": {},
     "output_type": "execute_result"
    }
   ],
   "source": [
    "not -5//2**4 < -1 and 3 ** 2 ** (5 + - 3) >= 2*len(\"casa\")"
   ]
  },
  {
   "cell_type": "markdown",
   "id": "1fbb8934",
   "metadata": {},
   "source": [
    "### Precedenze degli operatori\n",
    "\n",
    "Proabilmente l'ostacolo più grande nell'esercizio precedente è sapere quali operatori\n",
    "applicare prima o dopo. Le precedenze in Python sono più o meno le stesse\n",
    "di altri linguaggi di programmazione, e generalizzando le precedenze usate in algebra. Elenchiamo gli operatori in ordine, da quelli con maggiore priorità a quelli con minore priorità.\n",
    "\n",
    "1. Parentesi `(`, `)`;\n",
    "2. Funzioni o metodi;\n",
    "1. Operatori aritmentici in quest'ordine:\n",
    "   1. esponenziazione `**`, valutato da destra a sinistra;\n",
    "   2. segni `+` e `-` dei numeri, per esempio `-2` e `+2.4`;\n",
    "   3. moltiplicazioni e divisioni `*`, `/`, `//`, `%` da sinistra a destra;\n",
    "   4. somme e sottrazioni `+`, `-`, da sinistra a destra.\n",
    "2. Confronto `<`, `>`, `>=`, `<=`, `==`, `!=`\n",
    "3. Logici:\n",
    "   1. `not`\n",
    "   2. `and` da sinistra a destra;\n",
    "   3. `or` da sinistra a destra.\n",
    "\n",
    "Regole più precise si trovano nella [documentazione Python](https://docs.python.org/3/reference/expressions.html#operator-precedence)."
   ]
  }
 ],
 "metadata": {
  "kernelspec": {
   "display_name": "Python 3",
   "language": "python",
   "name": "python3"
  },
  "language_info": {
   "codemirror_mode": {
    "name": "ipython",
    "version": 3
   },
   "file_extension": ".py",
   "mimetype": "text/x-python",
   "name": "python",
   "nbconvert_exporter": "python",
   "pygments_lexer": "ipython3",
   "version": "3.10.3"
  }
 },
 "nbformat": 4,
 "nbformat_minor": 5
}
