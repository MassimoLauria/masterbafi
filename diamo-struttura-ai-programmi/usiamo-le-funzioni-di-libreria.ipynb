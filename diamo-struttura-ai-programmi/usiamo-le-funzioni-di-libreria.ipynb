{
 "cells": [
  {
   "cell_type": "markdown",
   "id": "43b58309",
   "metadata": {},
   "source": [
    "## Funzioni di libreria\n",
    "\n",
    "Di sicuro non è divertente \"reinventare la ruota\". A meno che non abbia uno scopo didattico, non ha senso riscrivere un programma che faccia qualcosa che è già stato risolto da qualcun'altro.\n",
    "\n",
    "Rivediamo l'esempio dell'area del cerchio:"
   ]
  },
  {
   "cell_type": "code",
   "execution_count": 1,
   "id": "3e306434",
   "metadata": {
    "attributes": {
     "classes": [
      "python3.run"
     ],
     "id": ""
    }
   },
   "outputs": [
    {
     "name": "stdin",
     "output_type": "stream",
     "text": [
      " 23\n"
     ]
    },
    {
     "name": "stdout",
     "output_type": "stream",
     "text": [
      "L'area del cerchio di raggio 23.0 è 1661.0600000000002\n"
     ]
    }
   ],
   "source": [
    "raggio = float(input())\n",
    "\n",
    "area = raggio * raggio * 3.14\n",
    "\n",
    "print(\"L'area del cerchio di raggio\",raggio,\"è\",area)"
   ]
  },
  {
   "cell_type": "markdown",
   "id": "a24c4ffc",
   "metadata": {},
   "source": [
    "Non sarebbe meglio usare un'approssimazione migliore per il pi greco? Potremmo \n",
    "calcolarne una e inserirla nel nostro programma. Tuttavia python ne include una. Per usarla è necessario **importare** il modulo `math`."
   ]
  },
  {
   "cell_type": "code",
   "execution_count": 2,
   "id": "589f31ea",
   "metadata": {
    "attributes": {
     "classes": [
      "python3.run"
     ],
     "id": ""
    }
   },
   "outputs": [
    {
     "name": "stdout",
     "output_type": "stream",
     "text": [
      "3.141592653589793\n"
     ]
    }
   ],
   "source": [
    "import math\n",
    "\n",
    "print(math.pi)"
   ]
  },
  {
   "cell_type": "markdown",
   "id": "3b9c6294",
   "metadata": {},
   "source": [
    "**Esercizio:** siete in grado di integrare i due programmi precedenti e scrivere una versione più precisa del primo, utilizzando l'approssimazione del pi greco nel secondo?\n",
    "\n",
    "### Uso di moduli\n",
    "\n",
    "I *moduli* python sono dei \"contenitori\" di funzionalità. Python ne contiene moltissimi\n",
    "e tanti altri possono essere installati. Uno dei principali è in modulo `math` che contiene tra le alte cose `pi` (approssimazione del pi greco), `sin` e `cos` (funzioni teigonometriche seno e coseno). Per utilizzale basta\n",
    "\n",
    "- Importare il modulo all'inizio del programma, ad esempio `import math`\n",
    "- Usarne le funzionalità, ad esempio `math.pi` o `math.cos`"
   ]
  },
  {
   "cell_type": "code",
   "execution_count": 3,
   "id": "0701d8a9",
   "metadata": {
    "attributes": {
     "classes": [
      "python3.run"
     ],
     "id": ""
    }
   },
   "outputs": [
    {
     "name": "stdout",
     "output_type": "stream",
     "text": [
      "3.141592653589793\n",
      "1.2233938033699718\n"
     ]
    }
   ],
   "source": [
    "import math\n",
    "\n",
    "print(math.pi)\n",
    "\n",
    "x = math.pi * math.sin(0.4)\n",
    "print(x)"
   ]
  },
  {
   "cell_type": "markdown",
   "id": "d5cce062",
   "metadata": {},
   "source": [
    "Come dice il nome stesso, il modulo `math` contiene molte funzioni e costanti matematiche. Dal python interattivo potere vedere l'help in linea. Sia il modulo che le funzioni contenute hanno un help."
   ]
  },
  {
   "cell_type": "code",
   "execution_count": 5,
   "id": "fbc63c60-c64f-42df-9094-fcc31c09bff1",
   "metadata": {
    "attributes": {
     "classes": [
      "python3.console"
     ],
     "id": ""
    }
   },
   "outputs": [
    {
     "name": "stdout",
     "output_type": "stream",
     "text": [
      "Help on built-in function cos in module math:\n",
      "\n",
      "cos(x, /)\n",
      "    Return the cosine of x (measured in radians).\n",
      "\n"
     ]
    }
   ],
   "source": [
    "help(math.cos)"
   ]
  },
  {
   "cell_type": "code",
   "execution_count": null,
   "id": "d4a6226c-9a76-4e4c-b482-8db535c1bfb2",
   "metadata": {
    "attributes": {
     "classes": [
      "python3.console"
     ],
     "id": ""
    },
    "tags": []
   },
   "outputs": [],
   "source": [
    "help(math)"
   ]
  },
  {
   "cell_type": "markdown",
   "id": "e8521c0d",
   "metadata": {},
   "source": [
    "Se volete usare un modulo ricordatevi di importarlo prima di riferirvi ad esso, altrimenti il programma produrrà un `NameError`"
   ]
  },
  {
   "cell_type": "code",
   "execution_count": 7,
   "id": "7dde0d00-b5e6-403b-b053-4ca39a535ba1",
   "metadata": {
    "attributes": {
     "classes": [
      "python3.run"
     ],
     "id": ""
    }
   },
   "outputs": [],
   "source": [
    "print(sys.version)"
   ]
  },
  {
   "cell_type": "code",
   "execution_count": 8,
   "id": "8b5c4cc6-2530-4023-8574-99701386676f",
   "metadata": {
    "attributes": {
     "classes": [
      "python3.run"
     ],
     "id": ""
    }
   },
   "outputs": [
    {
     "name": "stdout",
     "output_type": "stream",
     "text": [
      "3.10.3 (main, Mar 17 2022, 00:25:45) [GCC 9.4.0]\n"
     ]
    }
   ],
   "source": [
    "import sys\n",
    "print(sys.version)"
   ]
  },
  {
   "cell_type": "markdown",
   "id": "ff94cd28",
   "metadata": {},
   "source": [
    "### Altre sintassi \n",
    "\n",
    "Se importate in questo modo"
   ]
  },
  {
   "cell_type": "code",
   "execution_count": null,
   "id": "dcf5c589",
   "metadata": {},
   "outputs": [],
   "source": [
    "import math"
   ]
  },
  {
   "cell_type": "markdown",
   "id": "0f682530",
   "metadata": {},
   "source": [
    "allora potrete aggedere a `math` e alle sue funzioni e constanti utilizzando il prefisso `math.` così come abbiamo visto prima. Tuttavia è possibile usare la sintassi"
   ]
  },
  {
   "cell_type": "code",
   "execution_count": null,
   "id": "3568105a",
   "metadata": {},
   "outputs": [],
   "source": [
    "from math import cos"
   ]
  },
  {
   "cell_type": "markdown",
   "id": "70c43faf",
   "metadata": {},
   "source": [
    "che va messa sempre all'inizio del programma. Questa sintassi permette di usare la\n",
    "funzione `cos` senza dover usare il prefisso `math.`. Fate attenzione che in questo caso non avete accesso al modulo `math`, ma solo alla funzione `cos`.\n",
    "\n",
    "Le due sintassi possono essere mescolare"
   ]
  },
  {
   "cell_type": "code",
   "execution_count": null,
   "id": "5173f399",
   "metadata": {
    "attributes": {
     "classes": [
      "python3.run"
     ],
     "id": ""
    }
   },
   "outputs": [],
   "source": [
    "import math\n",
    "from math import cos,sin\n",
    "\n",
    "print ( math.cos(0.0) * cos(math.pi) + sin(0.5 * math.pi) )"
   ]
  },
  {
   "cell_type": "markdown",
   "id": "e67a0196",
   "metadata": {},
   "source": [
    "**Esercizio:** Esplorate il modulo `math` e scrivere un programma che usi una delle sue funzioni diversa da `sin` e `cos`.\n",
    "\n",
    "### Installazione di librerie\n",
    "\n",
    "Ci sono moltissimi moduli e librerie aggiuntive che non sono incluse con l'installazione di base di Python, e.g., `matplotlib` per fare i grafici, o altre librerie per il calcolo scientifico. \n",
    "Una lista la si può trovare su [Python Package Index](https://pypi.org/).\n",
    "\n",
    "Se si utilizza Python a linea di comando è possibile installare qualunque \n",
    "di queste librerie con il comando"
   ]
  },
  {
   "cell_type": "markdown",
   "id": "e13e1dd6-c26f-4fa1-8c7d-10a092eb3693",
   "metadata": {},
   "source": [
    "```sh\n",
    "python3 -m pip install <nomedellalibreria>\n",
    "```"
   ]
  },
  {
   "cell_type": "markdown",
   "id": "77093769",
   "metadata": {},
   "source": [
    "Ad esempio si può scrivere `python3 -m pip install matplotlib`, e se l'installazione va a buon fine \n",
    "sarà possibile usare `import matplotlib` nei propri programmi.\n",
    "\n",
    "Le funzionalità di queste librerie e il loro uso è solitamente descritto nella rispettiva documentazione.\n",
    "\n",
    "### Riassunto\n",
    "\n",
    "Abbiamo visto \n",
    "- come **importare** un modulo \n",
    "- come **utilizzare** le sue funzionalità \n",
    "- come **installare** moduli aggiuntivi"
   ]
  }
 ],
 "metadata": {
  "kernelspec": {
   "display_name": "Python 3 (ipykernel)",
   "language": "python",
   "name": "python3"
  },
  "language_info": {
   "codemirror_mode": {
    "name": "ipython",
    "version": 3
   },
   "file_extension": ".py",
   "mimetype": "text/x-python",
   "name": "python",
   "nbconvert_exporter": "python",
   "pygments_lexer": "ipython3",
   "version": "3.10.2"
  }
 },
 "nbformat": 4,
 "nbformat_minor": 5
}
