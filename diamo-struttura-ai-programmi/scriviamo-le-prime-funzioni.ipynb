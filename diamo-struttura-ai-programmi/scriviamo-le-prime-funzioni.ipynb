{
 "cells": [
  {
   "cell_type": "markdown",
   "id": "213839da",
   "metadata": {},
   "source": [
    "## Scriviamo le prime funzioni\n",
    "\n",
    "**Esercizio:** scrivete un programma che stampi l'area di un cerchio\n",
    "per cinque volte, un per ogni raggio nella lista che segue.\n",
    "- 10.5\n",
    "- 2.4\n",
    "- 7.5\n",
    "- 1.0\n",
    "- 3.24"
   ]
  },
  {
   "cell_type": "code",
   "execution_count": 1,
   "id": "1b8b8ec4",
   "metadata": {
    "attributes": {
     "classes": [
      "python3.run"
     ],
     "id": ""
    }
   },
   "outputs": [
    {
     "name": "stdout",
     "output_type": "stream",
     "text": [
      "Il cerchio di raggio 10.5 ha area 346.185\n"
     ]
    }
   ],
   "source": [
    "raggio = 10.5\n",
    "area = 3.14 * raggio**2 \n",
    "print(\"Il cerchio di raggio\",raggio,\"ha area\",area)\n",
    "\n",
    "# Proseguite voi..."
   ]
  },
  {
   "cell_type": "markdown",
   "id": "775e582a",
   "metadata": {},
   "source": [
    "**Esercizio:** adesso modificate il programma per usare l'approssimazione\n",
    "migliore di pi greco, importando il modulo `math` e adoperando `math.pi` al \n",
    "posto di `3.14`.\n",
    "\n",
    "Se ora vi dicessi che voglio la stampa per altri 5 valori? Altri 10? La prendereste bene?\n",
    "Immagino che abbiate notato subito quanto sia sgradevole dover scrivere lo stesso codice\n",
    "ripetutamente. \n",
    "- È noioso e ripetitivo.\n",
    "- Se si deve cambiare una cosa, bisogna essere certi di farlo su tutte le copie.\n",
    "- Ci sono molte possibilità che una o più copie contengano errori.\n",
    "\n",
    "Non sarebbe bello poter inventare **una nuova istruzione** che stampa l'area del cerchio,\n",
    "così da poterla utilizzare a piacimento?\n",
    "\n",
    "### Definizione di funzioni\n",
    "\n",
    "Tutti i linguaggi di programmazione prevedono modi per definire nuove funzioni simili\n",
    "a `len`, `cos`, `sin`, ecc... In questo modo possiamo scrivere del codice **una sola volta** e riutilizzarlo **molte volte**. Oltretutto se vogliamo correggerlo e/o cambiarlo dobbiamo \n",
    "modificare solo **una parte del programma**.\n",
    "\n",
    "Definiamo una funzione che stampa dell'area del cerchio di raggio 10.5."
   ]
  },
  {
   "cell_type": "code",
   "execution_count": 2,
   "id": "d0c05f21-584a-45a6-81c2-111cb4a7fd22",
   "metadata": {
    "attributes": {
     "classes": [
      "python3.run"
     ],
     "id": ""
    }
   },
   "outputs": [
    {
     "name": "stdout",
     "output_type": "stream",
     "text": [
      "Questa instruzione non fa parte della funzione.\n",
      "Il cerchio di raggio 10.5 ha area 346.185\n"
     ]
    }
   ],
   "source": [
    "def stampaarea():\n",
    "    raggio = 10.5\n",
    "    area = 3.14 * raggio**2\n",
    "    print(\"Il cerchio di raggio\",raggio,\"ha area\",area)\n",
    "\n",
    "print(\"Questa instruzione non fa parte della funzione.\")\n",
    "stampaarea()"
   ]
  },
  {
   "cell_type": "markdown",
   "id": "9bbed2db",
   "metadata": {},
   "source": [
    "Prima di discutere il codice, eseguitelo e osservate cosa succede.  \n",
    "- Se cambiate il raggio cosa succede?\n",
    "- Se alla fine del programma aggiungete una seconda riga `stampaarea()`?\n",
    "- Se invece di `stampaarea()` scrivere `stampaarea`, che succede?\n",
    "\n",
    "### Descrizione dell'esempio precedente\n",
    "\n",
    "Abbiamo usato l'istruzione `def` per creare una nuova funzione di nome `stampaarea`, \n",
    "che sostanzialmente esegue le tre righe di codice successive ogni volta che viene richiamata.\n",
    "Per richiamarla, basta scrivere `stampaarea()`.\n",
    "\n",
    "In tutti i programmi che abbiamo visto fino ad ora Python eseguiva le istruzioni \n",
    "dalla prima all'ultima. Eventualmente alcune righe venivano ignorate in caso di \n",
    "costrutti `if` `elif` `else`. \n",
    "\n",
    "In questo caso Python ha trova `def` alla riga 1 e capisce che deve creare una nuova funzione\n",
    "`stampaarea`. Le parentesi dopo il nome della nuova funzione sono necessarie, ma per ora lasciamo perdere il loro significato. L'istruzione `def` termina con `:`, e se ricordate la sintassi di `if` `elif` `else`, questo vuol dire che dalla riga successiva deve iniziare un blocco di codice,\n",
    "indentato verso destra. Questo blocco contiene le **istruzioni associate alla funzione**.\n",
    "\n",
    "Alla riga 7, Python vede che l'indentazione è tornata a sinistra, quindi capisce che \n",
    "il blocco di codice associato alla `def`, e quindi alla funzione `stampaarea`, è terminato.\n",
    "Dalla riga 7 in poi, sarà possibile utilizzare la funzione `stampaarea`.\n",
    "\n",
    "Per **usare la funzione** dovete usare l'istruzione `stampaarea()`. Fate attenzione, le parentesi sono necessarie.\n",
    "\n",
    "### Funzioni con parametri\n",
    "\n",
    "Qual è il difetto più ovvio della funzione `stampaarea`? Per me quello più fastidioso\n",
    "è che stampa solo l'area di un cerchio di raggio `10.5`. Se ricordate l'esercizio all'inizio di questa sezione, o semplicemente avete buon senso, vorrete scrivere una funzione che permetta di specificare il raggio ad ogni utilizzo.\n",
    "In effetti è possibile, nel momento in cui si definisce la funzione, specificare i suoi **parametri**."
   ]
  },
  {
   "cell_type": "code",
   "execution_count": 4,
   "id": "9cd7578f-af76-4982-9764-7d7b4c9c4384",
   "metadata": {
    "attributes": {
     "classes": [
      "python3.run"
     ],
     "id": ""
    }
   },
   "outputs": [
    {
     "name": "stdout",
     "output_type": "stream",
     "text": [
      "Questa instruzione non fa parte della funzione.\n"
     ]
    }
   ],
   "source": [
    "def stampaarea(R):\n",
    "    area = 3.14 * R**2\n",
    "    print(\"Il cerchio di raggio\", R, \"ha area\", area)   \n",
    "\n",
    "print(\"Questa instruzione non fa parte della funzione.\")"
   ]
  },
  {
   "cell_type": "code",
   "execution_count": 5,
   "id": "c5f7bff9-4715-4a76-b1b9-ba249a5edb5e",
   "metadata": {
    "attributes": {
     "classes": [
      "python3.run"
     ],
     "id": ""
    }
   },
   "outputs": [
    {
     "name": "stdout",
     "output_type": "stream",
     "text": [
      "Il cerchio di raggio 10.5 ha area 346.185\n",
      "Il cerchio di raggio 2.4 ha area 18.0864\n",
      "Il cerchio di raggio 7.5 ha area 176.625\n",
      "Il cerchio di raggio 1.0 ha area 3.14\n",
      "Il cerchio di raggio 3.24 ha area 32.962464000000004\n",
      "Il cerchio di raggio 1.2 ha area 4.5216\n"
     ]
    }
   ],
   "source": [
    "stampaarea(10.5)\n",
    "stampaarea(2.4)\n",
    "stampaarea(7.5)\n",
    "stampaarea(1.0)\n",
    "stampaarea(3.24)\n",
    "\n",
    "stampaarea( 1.4 - 0.2 )"
   ]
  },
  {
   "cell_type": "markdown",
   "id": "898d6ce5",
   "metadata": {},
   "source": [
    "Ecco a che servono le parentesi nella `def`. Nelle parentesi possiamo specificare \n",
    "la lista dei parametri della funzione.\n",
    "Quando la funzione viene richiamata, deve ricevere tra parentesi i valori corrispondenti \n",
    "ai paramentri, nello stesso ordine. Nel programma precedente ci sono sei chiamate alla stessa funzione, ogni volta con un parametro diverso.\n",
    "\n",
    "**Esercizio:** modificare questa funzione per usare `math.pi`. Non e più semplice farlo, adesso?\n",
    "\n",
    "### Definiziona di funzioni in generale\n",
    "\n",
    "In generale la definizione di una funzione ha questo aspetto:"
   ]
  },
  {
   "cell_type": "markdown",
   "id": "c96eb47f-a0e6-4275-8341-690c42470c42",
   "metadata": {},
   "source": [
    "```python\n",
    "def nomefunzione(par1,par2,par3):\n",
    "    istruzione1\n",
    "    istruzione2\n",
    "    istruzione3\n",
    "```"
   ]
  },
  {
   "cell_type": "markdown",
   "id": "81c6bcef",
   "metadata": {},
   "source": [
    "e una volta definita, la stessa funzione può essere richiamata con"
   ]
  },
  {
   "cell_type": "code",
   "execution_count": null,
   "id": "2fd01a2a",
   "metadata": {},
   "outputs": [],
   "source": [
    "nomefunzione(expr1,expr2,expr3)"
   ]
  },
  {
   "cell_type": "markdown",
   "id": "28058c1c",
   "metadata": {},
   "source": [
    "In questa descrizione ho considerato tre parametri ma il numero di parametri\n",
    "può essere **zero** o un numero **arbitrario ma fisso**. Nel senso che se definite \n",
    "una funzione con 4 parametri allora tutte le sue chiamate devono avere quattro espressioni tra\n",
    "parentesi altrimenti si ha un errore, come nell'esempio successivo nel quale calcoliamo\n",
    "il massimo di 4 numeri."
   ]
  },
  {
   "cell_type": "code",
   "execution_count": 8,
   "id": "9b73e466-b62f-44e8-9ea8-2be8f5e6927b",
   "metadata": {
    "attributes": {
     "classes": [
      "python3.run"
     ],
     "id": ""
    }
   },
   "outputs": [],
   "source": [
    "def massimo(n0,n1,n2,n3):\n",
    "    t = n0\n",
    "    \n",
    "    if t < n1:\n",
    "        t = n1\n",
    "    \n",
    "    if t < n2:\n",
    "        t = n2\n",
    "    \n",
    "    if t < n3:\n",
    "        t = n3\n",
    "        \n",
    "    print(\"Il massimo è\",t)"
   ]
  },
  {
   "cell_type": "code",
   "execution_count": 9,
   "id": "41c3f5e9-1958-46a0-af8f-92ec196b3be4",
   "metadata": {
    "attributes": {
     "classes": [
      "python3.run"
     ],
     "id": ""
    }
   },
   "outputs": [
    {
     "name": "stdout",
     "output_type": "stream",
     "text": [
      "Il massimo è 7\n",
      "Il massimo è 4\n"
     ]
    },
    {
     "ename": "TypeError",
     "evalue": "massimo() missing 1 required positional argument: 'n3'",
     "output_type": "error",
     "traceback": [
      "\u001b[1;31m---------------------------------------------------------------------------\u001b[0m",
      "\u001b[1;31mTypeError\u001b[0m                                 Traceback (most recent call last)",
      "Input \u001b[1;32mIn [9]\u001b[0m, in \u001b[0;36m<cell line: 3>\u001b[1;34m()\u001b[0m\n\u001b[0;32m      1\u001b[0m massimo(\u001b[38;5;241m0\u001b[39m,\u001b[38;5;241m-\u001b[39m\u001b[38;5;241m4\u001b[39m,\u001b[38;5;241m7\u001b[39m,\u001b[38;5;241m-\u001b[39m\u001b[38;5;241m3\u001b[39m)\n\u001b[0;32m      2\u001b[0m massimo(\u001b[38;5;241m4\u001b[39m,\u001b[38;5;241m2\u001b[39m,\u001b[38;5;241m1\u001b[39m,\u001b[38;5;241m3\u001b[39m)\n\u001b[1;32m----> 3\u001b[0m \u001b[43mmassimo\u001b[49m\u001b[43m(\u001b[49m\u001b[38;5;241;43m0\u001b[39;49m\u001b[43m,\u001b[49m\u001b[38;5;241;43m-\u001b[39;49m\u001b[38;5;241;43m4\u001b[39;49m\u001b[43m,\u001b[49m\u001b[38;5;241;43m7\u001b[39;49m\u001b[43m)\u001b[49m\n",
      "\u001b[1;31mTypeError\u001b[0m: massimo() missing 1 required positional argument: 'n3'"
     ]
    }
   ],
   "source": [
    "massimo(0,-4,7,-3)\n",
    "massimo(4,2,1,3)\n",
    "massimo(0,-4,7)"
   ]
  },
  {
   "cell_type": "markdown",
   "id": "1af956ed",
   "metadata": {},
   "source": [
    "### Funzione che restituisce un valore\n",
    "\n",
    "Le funzioni viste fino ad ora non producono nessun valore, come succede ad esempio con `print`.\n",
    "Tuttavia funzioni come `len`, `abs` e `sin` producono un valore e possono essere utilizzate all'interno di espressioni.\n",
    "\n",
    "Con il comando `return` una funzione **restituisce** un valore alla parte di programma\n",
    "nella quale la funzione è stata chiamata. Vediamo un esempio:"
   ]
  },
  {
   "cell_type": "code",
   "execution_count": 10,
   "id": "2f0a8a0b-4f44-457c-bff2-ebbb79ab0273",
   "metadata": {
    "attributes": {
     "classes": [
      "python3.run"
     ],
     "id": ""
    }
   },
   "outputs": [],
   "source": [
    "import math \n",
    "\n",
    "def areacerchio(R):\n",
    "    area = R*R*math.pi\n",
    "    return area"
   ]
  },
  {
   "cell_type": "code",
   "execution_count": 11,
   "id": "67c7401e-89eb-4143-9e70-f6a9c9e2b3f7",
   "metadata": {
    "attributes": {
     "classes": [
      "python3.run"
     ],
     "id": ""
    }
   },
   "outputs": [
    {
     "name": "stdout",
     "output_type": "stream",
     "text": [
      "La superficie dei due dischi di raggio 2 e 5 è in totale 91.106186954104\n"
     ]
    }
   ],
   "source": [
    "totale = areacerchio(2) + areacerchio(5)\n",
    "    \n",
    "print(\"La superficie dei due dischi di raggio 2 e 5 è in totale\", totale)    "
   ]
  },
  {
   "cell_type": "markdown",
   "id": "4796b71c",
   "metadata": {},
   "source": [
    "- Il comando `return` può essere usato solo all'interno di una funzione\n",
    "- Appena la funzione esegue `return qualcosa`, la sua esecuzione si interrompe immediatamente,\n",
    "  e il valore dell'espressione `qualcosa` viene restituita al programma chiamante.\n",
    "- Ci possono essere molteplici istruzioni `return` in una funzione, ma solo una di esse \n",
    "  verrà eseguita quando la funzione viene chiamata.\n",
    "  \n",
    "Vediamo un altro esempio."
   ]
  },
  {
   "cell_type": "code",
   "execution_count": 13,
   "id": "e299df2a-ed5d-4325-a1ac-5c8cc6b83b78",
   "metadata": {
    "attributes": {
     "classes": [
      "python3.run"
     ],
     "id": ""
    }
   },
   "outputs": [],
   "source": [
    "def mezzotesto(testo, inizio):\n",
    "    \"\"\"Metà del testo\n",
    "    \n",
    "Restituisce metà del testo passato come parametro. Se\n",
    "'inizio' è True allora prende la prima metà, altrimenti la seconda.\"\"\"\n",
    "    metà = len(testo) // 2\n",
    "    if inizio:\n",
    "        return testo[:metà]\n",
    "    else:\n",
    "        return testo[metà:]"
   ]
  },
  {
   "cell_type": "code",
   "execution_count": 14,
   "id": "c2129693-acf1-49ab-b7cf-aa60e6687725",
   "metadata": {
    "attributes": {
     "classes": [
      "python3.run"
     ],
     "id": ""
    }
   },
   "outputs": [
    {
     "name": "stdout",
     "output_type": "stream",
     "text": [
      "Programmaz\n",
      "ione python\n"
     ]
    }
   ],
   "source": [
    "print( mezzotesto( 'Programmazione python', True))\n",
    "print( mezzotesto( 'Programmazione python', False))"
   ]
  },
  {
   "cell_type": "code",
   "execution_count": 15,
   "id": "704c713a-4144-4ad4-afa4-046d33f48c8e",
   "metadata": {
    "attributes": {
     "classes": [
      "python3.run"
     ],
     "id": ""
    }
   },
   "outputs": [
    {
     "name": "stdout",
     "output_type": "stream",
     "text": [
      "ABC\n",
      "DEF\n"
     ]
    }
   ],
   "source": [
    "print( mezzotesto( 'ABCDEF', True))\n",
    "print( mezzotesto( 'ABCDEF', False))"
   ]
  },
  {
   "cell_type": "code",
   "execution_count": 16,
   "id": "98c6b2cf-e49d-4b5e-9520-7f096df7d291",
   "metadata": {
    "attributes": {
     "classes": [
      "python3.run"
     ],
     "id": ""
    }
   },
   "outputs": [
    {
     "name": "stdout",
     "output_type": "stream",
     "text": [
      "AB\n",
      "CDE\n"
     ]
    }
   ],
   "source": [
    "print( mezzotesto( 'ABCDE', True))\n",
    "print( mezzotesto( 'ABCDE', False))"
   ]
  },
  {
   "cell_type": "markdown",
   "id": "297d7a77",
   "metadata": {},
   "source": [
    "Vedete che in questo caso la funzione è documentata. La documentazione di una funzione\n",
    "deve essere inserita immediatamente dopo la riga che contiene la `def`, viene aperta e chiusa da\n",
    "tre apici `\"\"\"`, e tipicamente è formata \n",
    "- una riga con una breve descrizione\n",
    "- una riga vuota\n",
    "- descrizone più ricca\n",
    "- il testo **DENTRO** la documentazione non deve essere necessariamente indentato.\n",
    "\n",
    "**Esercizio:** alla fine dell'esempio precedente aggiungere l'istruzione `help(mezzotesto)`.\n",
    "\n",
    "### Il non-valore `None`\n",
    "\n",
    "Le funzioni che non restituiscono valori in realtà vengono viste da Python come\n",
    "funzioni che restituiscono un valore convenzionale `None`."
   ]
  },
  {
   "cell_type": "code",
   "execution_count": 17,
   "id": "99adee73",
   "metadata": {
    "attributes": {
     "classes": [
      "python3.run"
     ],
     "id": ""
    }
   },
   "outputs": [
    {
     "name": "stdout",
     "output_type": "stream",
     "text": [
      "ciao\n",
      "None\n",
      "True\n"
     ]
    },
    {
     "ename": "TypeError",
     "evalue": "unsupported operand type(s) for +: 'NoneType' and 'int'",
     "output_type": "error",
     "traceback": [
      "\u001b[1;31m---------------------------------------------------------------------------\u001b[0m",
      "\u001b[1;31mTypeError\u001b[0m                                 Traceback (most recent call last)",
      "Input \u001b[1;32mIn [17]\u001b[0m, in \u001b[0;36m<cell line: 4>\u001b[1;34m()\u001b[0m\n\u001b[0;32m      2\u001b[0m \u001b[38;5;28mprint\u001b[39m(x)\n\u001b[0;32m      3\u001b[0m \u001b[38;5;28mprint\u001b[39m( x \u001b[38;5;129;01mis\u001b[39;00m \u001b[38;5;28;01mNone\u001b[39;00m)\n\u001b[1;32m----> 4\u001b[0m \u001b[43mx\u001b[49m\u001b[43m \u001b[49m\u001b[38;5;241;43m+\u001b[39;49m\u001b[43m \u001b[49m\u001b[38;5;241;43m5\u001b[39;49m\n",
      "\u001b[1;31mTypeError\u001b[0m: unsupported operand type(s) for +: 'NoneType' and 'int'"
     ]
    }
   ],
   "source": [
    "x = print(\"ciao\")\n",
    "print(x)\n",
    "print( x is None)\n",
    "x + 5"
   ]
  },
  {
   "cell_type": "markdown",
   "id": "d63d13ec",
   "metadata": {},
   "source": [
    "L'espressione `expr is None` è un'espressione booleana che è vera se e solo se il (non) valore \n",
    "di `expr` è `None`.\n",
    "\n",
    "**Attenzione:** se via aspettate che la vostra funzione restituisca un valore e \n",
    "invece ottenete `None`, forse avete gestito male i `return`.\n",
    "\n",
    "Quando accade che una funzione termina senza restituire un valore?\n",
    "- quando arriva all'ultima istruzione senza aver mai eseguito un `return`\n",
    "- quando esegue `return None`\n",
    "- quando esegue `return` senza nessuna espressione.\n",
    "\n",
    "**Domanda:** a che serve usare `return` o `return None` se non si vuole restituire nessun valore. Non basta che la funzione arrivi alla fine delle sue istruzioni?\n",
    "\n",
    "\n",
    "\n",
    "### Soluzione maggiore di un'equazione di 2o grado."
   ]
  },
  {
   "cell_type": "code",
   "execution_count": 19,
   "id": "f327e539-0603-40df-9338-250fcf3b704c",
   "metadata": {
    "attributes": {
     "classes": [
      "python3.run"
     ],
     "id": ""
    }
   },
   "outputs": [],
   "source": [
    "import math\n",
    "\n",
    "def secondogrado(A,B,C):\n",
    "    \"\"\"Una soluzione di Ax**2 + Bx + C == 0\n",
    "    \n",
    "Data un'equazione di secondo grado Ax**2 + Bx + C == 0, \n",
    "questa funzione ne restituisce una soluzione, se ne esistono.\n",
    "    \"\"\"\n",
    "    Delta = B**2 - 4*A*C\n",
    "    \n",
    "    if Delta < - 0.0000001:  # tolleranza\n",
    "        return \n",
    "        \n",
    "    if Delta < 0.0000001:    # tolleranza\n",
    "        return -B / (2*A)\n",
    "    else:\n",
    "        return (-B + math.sqrt(Delta)) / 2*A "
   ]
  },
  {
   "cell_type": "code",
   "execution_count": 20,
   "id": "d3e4b846-0572-44df-9eef-b0ef56247fcd",
   "metadata": {
    "attributes": {
     "classes": [
      "python3.run"
     ],
     "id": ""
    }
   },
   "outputs": [],
   "source": [
    "def printsecgra(A,B,C):\n",
    "    polinomio= str(A) + \"x**2 + \" + str(B) +\"x + \" + str(C)\n",
    "    t = secondogrado(A,B,C)\n",
    "    \n",
    "    if t is None:\n",
    "        print(\"Il polinomio\", polinomio, \"non ha soluzione\")\n",
    "    else:\n",
    "        print(\"Il polinomio\", polinomio, \"ha soluzione\",t)"
   ]
  },
  {
   "cell_type": "code",
   "execution_count": 21,
   "id": "a006f764-86bf-46b9-86cf-f8edb1516b3a",
   "metadata": {
    "attributes": {
     "classes": [
      "python3.run"
     ],
     "id": ""
    }
   },
   "outputs": [
    {
     "name": "stdout",
     "output_type": "stream",
     "text": [
      "Il polinomio 2x**2 + -7x + 3 ha soluzione 12.0\n",
      "Il polinomio 1x**2 + -2x + 1 ha soluzione 1.0\n",
      "Il polinomio 4x**2 + 3x + 4 non ha soluzione\n",
      "Il polinomio 7x**2 + -7x + 4 non ha soluzione\n"
     ]
    }
   ],
   "source": [
    "printsecgra(2,-7,3)\n",
    "printsecgra(1,-2,1)\n",
    "printsecgra(4,3,4)\n",
    "printsecgra(7,-7,4)"
   ]
  },
  {
   "cell_type": "markdown",
   "id": "556eb17b",
   "metadata": {},
   "source": [
    "Notate che nel programma:\n",
    "- abbiamo definito due funzioni, e addirittura una richiama l'altra;\n",
    "- abbiamo usato `math.sqrt` per calcolare la radice quadrata;\n",
    "- la funzione usa `return` in diversi punti del codice;\n",
    "- a volte la funzione restituisce un `float`, a volte non restituisce nulla;\n",
    "- si poteva usare `elif Delta==0:`. Avrebbe fatto differenza?\n",
    "\n",
    "### Riassumendo\n",
    "Abbiamo visto\n",
    "- a che servono le funzioni\n",
    "- definizione di nuove funzioni\n",
    "- uso dei parametri\n",
    "- uso del **return** per restituire un valore\n",
    "- funzioni che **non restituiscono** valori\n",
    "- documentazione di una funzione"
   ]
  }
 ],
 "metadata": {
  "kernelspec": {
   "display_name": "Python 3",
   "language": "python",
   "name": "python3"
  },
  "language_info": {
   "codemirror_mode": {
    "name": "ipython",
    "version": 3
   },
   "file_extension": ".py",
   "mimetype": "text/x-python",
   "name": "python",
   "nbconvert_exporter": "python",
   "pygments_lexer": "ipython3",
   "version": "3.10.3"
  }
 },
 "nbformat": 4,
 "nbformat_minor": 5
}
