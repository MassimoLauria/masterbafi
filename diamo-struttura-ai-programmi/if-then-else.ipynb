{
 "cells": [
  {
   "cell_type": "markdown",
   "id": "8f8ec435",
   "metadata": {},
   "source": [
    "## If ... then ... else\n",
    "\n",
    "Per ora i nostri programmi sono stati sequenze di instruzioni eseguite una \n",
    "dopo l'altra. Non è certo l'unico modo possibile. L'esecuzione\n",
    "del programma può arrivare a dei **bivi** dove può scegliere da quale parte andare.\n",
    "Per fargli fare una cosa simile si devono usare istruzioni che controllano il **flusso del programma**.\n",
    "\n",
    "Potrebbe esservi già chiaro cosa fa questo programma. Sperimentate!"
   ]
  },
  {
   "cell_type": "code",
   "execution_count": null,
   "id": "43b238c4",
   "metadata": {
    "attributes": {
     "classes": [
      "python3.run"
     ],
     "id": ""
    }
   },
   "outputs": [],
   "source": [
    "key = input(\"Inserisci la password:\")\n",
    "\n",
    "if key == 'segretissimo':\n",
    "    print(\"Password accettata. Benvenuto Presidente.\")\n",
    "    \n",
    "print(\"Uscita dal programma\")"
   ]
  },
  {
   "cell_type": "markdown",
   "id": "cfa12a14",
   "metadata": {},
   "source": [
    "Il programma legge in input una stringa di testo e **se** questa corrisponde alla password segreta **allora** il programma saluta con rispetto.\n",
    "Questo è un esempio di esecuzione **condizionale** che ruota intorno ad un'espressione \n",
    "il cui valore è **vero** o **falso**. In questo caso l'espressione `key == 'segretissimo'` è vera quando la variable `key` ha lo stesso valore della stringa `\"segretissimo\"`.\n",
    "\n",
    "La struttura del costrutto `if` è"
   ]
  },
  {
   "cell_type": "markdown",
   "id": "34cb042b-8f88-48fc-9040-0952c4aa5415",
   "metadata": {},
   "source": [
    "```python\n",
    "if <condizione>:\n",
    "    <istruzione1>\n",
    "    <istruzione2>\n",
    "    <istruzione3>\n",
    "```"
   ]
  },
  {
   "cell_type": "markdown",
   "id": "e1318652",
   "metadata": {},
   "source": [
    "dove al posto di `<condizione>` ci va un'espressione vero/falso, seguita dai \n",
    "due punti `:`. Il significato è che **se** l'espressione `condizione` è vera **allora** \n",
    "una certa parte di codice, detta *blocco if*, viene eseguita. Altrimenti  quella parte di codice viene ignorata.  Ho rappresentato il blocco if come tre righe, ma in realtà può essere lungo un numero arbitrario di righe. \n",
    "\n",
    "Facciamo un altro esempio: il prossimo programma stampa una fila di `A`\n",
    "lunga tanto quanto è il valore di `x` (ma con un limite di 7). Cambiate il valore di `x` nell'esempio e osservate come si comporta il programma."
   ]
  },
  {
   "cell_type": "code",
   "execution_count": 2,
   "id": "2865d052",
   "metadata": {
    "attributes": {
     "classes": [
      "python3.run"
     ],
     "id": ""
    }
   },
   "outputs": [
    {
     "name": "stdout",
     "output_type": "stream",
     "text": [
      "AAAA\n"
     ]
    }
   ],
   "source": [
    "x = 10\n",
    "\n",
    "if x > 7:\n",
    "    print(\"x è molto grande\")\n",
    "    x = 7\n",
    "    \n",
    "print( \"A\" * x  )"
   ]
  },
  {
   "cell_type": "markdown",
   "id": "c622f179",
   "metadata": {},
   "source": [
    "Vedete che le istruzioni nel blocco if sono indentate di quattro spazi mentre quelle del flusso principale non lo sono. Questa indentazione \n",
    "fa capire a Python quali sono le istruzioni fuori e dentro il blocco.\n",
    "\n",
    "**Esercizio**: cambiate l'indentazione dell'ultima riga del programma precedente.\n",
    "Che succede che la indentate di quattro spazi? E due? E zero?\n",
    "\n",
    "\n",
    "### Blocco `else`\n",
    "\n",
    "Abbiamo visto come eseguire un codice quando una condizione si verifica. Ora vediamo come impostare due blocchi di codice alternativi: \n",
    "uno verrà eseguito se la condizione è vera, e l'altro se la condizione è falsa."
   ]
  },
  {
   "cell_type": "code",
   "execution_count": null,
   "id": "7b8ddf0d",
   "metadata": {
    "attributes": {
     "classes": [
      "python3.run"
     ],
     "id": ""
    }
   },
   "outputs": [],
   "source": [
    "if 5 > 2:\n",
    "     print('5 è infatti maggiore di 2') \n",
    "else:\n",
    "     print('5 non è maggiore di 2')"
   ]
  },
  {
   "cell_type": "markdown",
   "id": "06909e71",
   "metadata": {},
   "source": [
    "Che succede se cambiate i numeri nella prima riga? Per esempio se mettete `4 > 6`?\n",
    "Che succede se eliminare la terza e quarta riga? Osserviamo che il blocco `else` è\n",
    "**opzionale**. Nel prossimo esempio provate a sostituire la prima riga con `num=int(input())` ed eseguite il programma varie volte."
   ]
  },
  {
   "cell_type": "code",
   "execution_count": null,
   "id": "67851dd7",
   "metadata": {
    "attributes": {
     "classes": [
      "python3.run"
     ],
     "id": ""
    }
   },
   "outputs": [],
   "source": [
    "num = 8723489\n",
    "\n",
    "if (num % 2) == 0:\n",
    "    \n",
    "    print(\"Il numero inserito è pari.\")\n",
    "    \n",
    "else:       \n",
    "    \n",
    "    print(\"Il numero inserito è dispari.\")"
   ]
  },
  {
   "cell_type": "markdown",
   "id": "977458eb",
   "metadata": {},
   "source": [
    "*Chiarimento 1:* l'espressione `(num & 2)` è il resto di `num` diviso due. Ha valore `0` se `num` è pari, e ha valore `1` se `num` è dispari. Pertanto la condizione viene verificata da numeri pari e falsificata dai numeri dispari.\n",
    "\n",
    "*Chiarimento 2:* fate attenzione! In Python `=` viene usato per l'assegnamento a variabili,\n",
    "mentre l'operatore `==` corrisponde alla domanda: \"questo e quello sono uguali?\", \n",
    "che può avere esito vero o falso.\n",
    "\n",
    "\n",
    "### Errori di indentazione\n",
    "\n",
    "Finalmente i vostri programmi non sono solo una sequenza di istruzioni una dopo\n",
    "l'altra, ma hanno una struttura. È utile riconoscere gli errori che vi vengono segnalati\n",
    "nel caso ci sia qualcosa che non va in questa struttura"
   ]
  },
  {
   "cell_type": "code",
   "execution_count": 3,
   "id": "55192c6c",
   "metadata": {
    "attributes": {
     "classes": [
      "python3.run"
     ],
     "id": ""
    }
   },
   "outputs": [
    {
     "ename": "SyntaxError",
     "evalue": "incomplete input (4060689739.py, line 1)",
     "output_type": "error",
     "traceback": [
      "\u001b[1;36m  Input \u001b[1;32mIn [3]\u001b[1;36m\u001b[0m\n\u001b[1;33m    if 5 > 3:\u001b[0m\n\u001b[1;37m             ^\u001b[0m\n\u001b[1;31mSyntaxError\u001b[0m\u001b[1;31m:\u001b[0m incomplete input\n"
     ]
    }
   ],
   "source": [
    "if 5 > 3:"
   ]
  },
  {
   "cell_type": "markdown",
   "id": "c11423e0",
   "metadata": {},
   "source": [
    "Qui sopra Python si aspetta del codice nel blocco if, ma questo codice è assente e python si \n",
    "lamenta che si e trovato alla fine del codice prima del previsto."
   ]
  },
  {
   "cell_type": "code",
   "execution_count": 4,
   "id": "12e4672d",
   "metadata": {
    "attributes": {
     "classes": [
      "python3.run"
     ],
     "id": ""
    }
   },
   "outputs": [
    {
     "ename": "IndentationError",
     "evalue": "expected an indented block after 'if' statement on line 1 (1523325081.py, line 3)",
     "output_type": "error",
     "traceback": [
      "\u001b[1;36m  Input \u001b[1;32mIn [4]\u001b[1;36m\u001b[0m\n\u001b[1;33m    print(\"Siamo nel blocco if?\")\u001b[0m\n\u001b[1;37m    ^\u001b[0m\n\u001b[1;31mIndentationError\u001b[0m\u001b[1;31m:\u001b[0m expected an indented block after 'if' statement on line 1\n"
     ]
    }
   ],
   "source": [
    "if 5 > 3:\n",
    "\n",
    "print(\"Siamo nel blocco if?\")"
   ]
  },
  {
   "cell_type": "markdown",
   "id": "5a44937f",
   "metadata": {},
   "source": [
    "Anche qui sopra Python si aspetta del codice nel blocco if, ma questo codice è assente \n",
    "e Python trova invece un'istruzione che interpreta \"allo stesso livello\" dell'istruzione `if` e \n",
    "pertanto non la considera come parte del blocco if."
   ]
  },
  {
   "cell_type": "code",
   "execution_count": 6,
   "id": "f364123b",
   "metadata": {
    "attributes": {
     "classes": [
      "python3.run"
     ],
     "id": ""
    }
   },
   "outputs": [
    {
     "ename": "IndentationError",
     "evalue": "unindent does not match any outer indentation level (<tokenize>, line 3)",
     "output_type": "error",
     "traceback": [
      "\u001b[1;36m  File \u001b[1;32m<tokenize>:3\u001b[1;36m\u001b[0m\n\u001b[1;33m    print(\"E qui?\")\u001b[0m\n\u001b[1;37m    ^\u001b[0m\n\u001b[1;31mIndentationError\u001b[0m\u001b[1;31m:\u001b[0m unindent does not match any outer indentation level\n"
     ]
    }
   ],
   "source": [
    "if 5 > 3:\n",
    "    print(\"Siamo nel blocco if?\")\n",
    "  print(\"E qui?\")"
   ]
  },
  {
   "cell_type": "markdown",
   "id": "b92a0468",
   "metadata": {},
   "source": [
    "Nel codice precedente, Python trova l'inizio del blocco if alla seconda riga. Alla riga successiva (i.e. la terza) Python vede che l'istruzione è rientrata verso sinistra e quindi capisce che il blocco if è terminato. Tuttavia l'indentazione non corrisponde a quella dell'istruzione `if` e \n",
    "quindi dà errore.\n",
    "\n",
    "### If...then...else, annidati\n",
    "\n",
    "È possibile annidare blocchi di codice, e in particolare è possibile annidare\n",
    "blocchi if...then...else. Vediamo questo esempio che dato un voto d'esame,\n",
    "stampa un commento."
   ]
  },
  {
   "cell_type": "code",
   "execution_count": null,
   "id": "91eec784",
   "metadata": {
    "attributes": {
     "classes": [
      "python3.run"
     ],
     "id": ""
    }
   },
   "outputs": [],
   "source": [
    "voto = int(input(\"Voto? \"))\n",
    "\n",
    "if voto < 0:\n",
    "    print(\"Non mi prendere in giro!\")\n",
    "else:\n",
    "    if voto > 30:\n",
    "        print(\"Esagerato!!\")\n",
    "    else:\n",
    "        if voto < 18:\n",
    "            print(\"Bocciato.\")\n",
    "        else:\n",
    "            if voto > 28:\n",
    "                print(\"Complimenti!!\")\n",
    "            else:\n",
    "                print(\"Va bene così.\")"
   ]
  },
  {
   "cell_type": "markdown",
   "id": "cc953bb3",
   "metadata": {},
   "source": [
    "### Chiarimenti sull'indentazione\n",
    "\n",
    "Come avete visto un programma python può avere tanti blocchi di codice, anche annidati,\n",
    "ed è quindi lecito essere confusi e farsi delle domande:\n",
    "- dove inizia un blocco di codice?\n",
    "- dove finisce?\n",
    "- quali blocchi sono annidati in quali blocchi?\n",
    "\n",
    "Per determinare l'inizio e la fine dei blocchi di codice python usa l'indentazione, ovvero la spaziatura iniziale davanti a ogni riga di codice. Il più delle volte si capisce immediatamente dove inizia e finisce un blocco, ma per precisione ecco delle indicazioni più precise.\n",
    "\n",
    "1. Dopo ogni istruzione che termina con `:`, ad esempio `if <condizione>:` o `else:`,\n",
    "   si deve aprire un nuovo blocco di codice. Nessun blocco di codice può essere aperto se la riga precedento non termina con in due punti. \n",
    "2. La prima riga del blocco deve essere indentata più a destra della riga precedente.\n",
    "3. Tutte le righe che fanno parte del blocco di codice devono avere la **stessa** indentazione,\n",
    "   a meno che non facciano parte a loro volta di blocchi annidati in esso, e perciò ulteriormente verso destra.\n",
    "4. Quando python incontra una riga che ha meno spazi a sinistra di quella precedente,\n",
    "   allora capisce che il blocco di codice è terminato. L'indentazione di questa nuova\n",
    "   riga deve essere tassativamente uguale a quella di uno dei blocchi più esterni.\n",
    "5. Le righe costituite da spazi bianchi o contententi solo commenti, sono totalmente ignorate in \n",
    "   questo processo.\n",
    "\n",
    "Vediamo un diagramma di esempio:"
   ]
  },
  {
   "cell_type": "markdown",
   "id": "21ff40a3-a6c4-4bbd-9eef-eef2c31b0cf2",
   "metadata": {},
   "source": [
    "```python\n",
    "<livello 1>\n",
    "<livello 1>\n",
    "<livello 1>\n",
    "\n",
    "if <condizione>:\n",
    "    <livello 2>\n",
    "    \n",
    "    <livello 2>\n",
    "\n",
    "<livello 1>\n",
    "<livello 1>\n",
    "<livello 1>\n",
    "    \n",
    "if <condizione>:\n",
    "    \n",
    "    <livello 2>\n",
    "    <livello 2>\n",
    "\n",
    "else:\n",
    "    <livello 2>\n",
    "    if <condizione>:\n",
    "       <livello 3>\n",
    "       <livello 3>\n",
    "\n",
    "<livello1>    \n",
    "\n",
    "<livello1>    \n",
    "<livello1>\n",
    "```"
   ]
  },
  {
   "cell_type": "markdown",
   "id": "353ed5ec",
   "metadata": {},
   "source": [
    "**Esercizio:** determinare quali sono i blocchi if, e quali i blocchi else. Dove iniziano dove finiscono?\n",
    "\n",
    "### Elif\n",
    "\n",
    "Tornate all'esempio degli if...then...else annidati. Era facile da leggere?\n",
    "Probabilmente no, eppure quel caso è molto tipico: una serie di if...then...else\n",
    "annidati, dove ogni nuova istruzione `if` è \n",
    "immediatamente dopo l'`else` del blocco precedente. In python esiste l'istruzione `elif`\n",
    "(contrazione di `else if`) che permette di scrivere questo tipo di struttura \n",
    "in modo più leggibile."
   ]
  },
  {
   "cell_type": "code",
   "execution_count": null,
   "id": "af6fe6a0",
   "metadata": {
    "attributes": {
     "classes": [
      "python3.run"
     ],
     "id": ""
    }
   },
   "outputs": [],
   "source": [
    "voto = int(input(\"Voto? \"))\n",
    "\n",
    "if voto < 0:\n",
    "    print(\"Non mi prendere in giro!\")\n",
    "elif voto > 30:\n",
    "    print(\"Esagerato!!\")\n",
    "elif voto < 18:\n",
    "    print(\"Bocciato.\")\n",
    "elif voto > 28:\n",
    "    print(\"Complimenti!!\")\n",
    "else:\n",
    "    print(\"Va bene così.\")"
   ]
  },
  {
   "cell_type": "markdown",
   "id": "24a4fb1c",
   "metadata": {},
   "source": [
    "Non è molto più chiaro? Eppure la logica e il funzionamento sono gli stessi. Altro esempio:"
   ]
  },
  {
   "cell_type": "code",
   "execution_count": null,
   "id": "cfc61409",
   "metadata": {
    "attributes": {
     "classes": [
      "python3.run"
     ],
     "id": ""
    }
   },
   "outputs": [],
   "source": [
    "volume = 57\n",
    "if volume < 20:\n",
    "    print(\"Piuttosto basso.\")\n",
    "elif 20 <= volume < 40:\n",
    "    print(\"Adatto per musica di sottofondo\")\n",
    "elif 40 <= volume < 60:\n",
    "    print(\"Perfetto, posso apprezzare ogni dettaglio\")\n",
    "elif 60 <= volume < 80:\n",
    "    print(\"Ideale per le feste\")\n",
    "elif 80 <= volume < 100:\n",
    "    print(\"Un po' altino!\")\n",
    "else:\n",
    "    print(\"Oddio, le mie orecchie! :(\")"
   ]
  },
  {
   "cell_type": "markdown",
   "id": "9c58e562",
   "metadata": {},
   "source": [
    "**Esercizio:** rispondete alle seguenti domande. Se non conoscete le risposte potete \n",
    "provare a scrivere dei programmi per scoprirle.\n",
    "- possiamo avere un blocco `else` senza un blocco `if` corrispondente?\n",
    "- possiamo avere un blocco `if` senza un blocco `else` corrispondente?\n",
    "- possiamo avere un blocco `elif` senza un blocco `if` corrispondente?  \n",
    "- quanti blocchi `elif` possiamo avere?  \n",
    "\n",
    "### Riassumendo\n",
    "\n",
    "Abbiamo visto\n",
    "\n",
    "- l'istruzione `if`! La prima istruzione per il controllo di flusso\n",
    "- operatori `>`, `<`, `<=`, `>=` e `==` per costruire condizioni vero/falso\n",
    "- il blocco `else`\n",
    "- considerazioni sull'indentazione dei blocchi di codice\n",
    "- uso dell'`elif`."
   ]
  }
 ],
 "metadata": {
  "kernelspec": {
   "display_name": "Python 3 (ipykernel)",
   "language": "python",
   "name": "python3"
  },
  "language_info": {
   "codemirror_mode": {
    "name": "ipython",
    "version": 3
   },
   "file_extension": ".py",
   "mimetype": "text/x-python",
   "name": "python",
   "nbconvert_exporter": "python",
   "pygments_lexer": "ipython3",
   "version": "3.10.2"
  }
 },
 "nbformat": 4,
 "nbformat_minor": 5
}
