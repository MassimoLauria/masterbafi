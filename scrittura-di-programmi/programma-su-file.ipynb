{
 "cells": [
  {
   "cell_type": "markdown",
   "id": "f8e9a952",
   "metadata": {},
   "source": [
    "## Programma su file\n",
    "\n",
    "Nel caso del calcolo dell'area e della circoferenza, abbiamo visto che l'uso \n",
    "di variabili ci permette di riutilizzare la stessa formula più volte.  \n",
    "\n",
    "È naturale pensare che un programma possa essere eseguito molte volte su dati diversi,\n",
    "ma allora ha senso che questo programma posse essere salvato e rieseguito numerose volte.\n",
    "\n",
    "In python è possibile salvare un programma in file. Ad esempio salviamo"
   ]
  },
  {
   "cell_type": "code",
   "execution_count": 1,
   "id": "35725905-1c7c-4e6f-8418-beca87798cbd",
   "metadata": {},
   "outputs": [],
   "source": [
    "raggio = 1.5"
   ]
  },
  {
   "cell_type": "code",
   "execution_count": 2,
   "id": "580d0d56-b209-4374-afb9-08fb0ccaedb2",
   "metadata": {},
   "outputs": [
    {
     "name": "stdout",
     "output_type": "stream",
     "text": [
      "7.065\n"
     ]
    }
   ],
   "source": [
    "area = raggio * raggio * 3.14\n",
    "print(area)"
   ]
  },
  {
   "cell_type": "code",
   "execution_count": 3,
   "id": "e80154dd-9155-434c-81f5-1db0367264be",
   "metadata": {},
   "outputs": [
    {
     "name": "stdout",
     "output_type": "stream",
     "text": [
      "9.42\n"
     ]
    }
   ],
   "source": [
    "circonferenza = 2 * raggio * 3.14\n",
    "print(circonferenza)"
   ]
  },
  {
   "cell_type": "markdown",
   "id": "fab2b866",
   "metadata": {},
   "source": [
    "in un file di nome `cerchio.py`. I file contententy dei programmi Python\n",
    "sono file di testo semplice (cioè privo di formattazione) che terminano con l'estensione `.py`.\n",
    "\n",
    "Una volta salvato il programma può essere eseguito dalla linea di comando scrivendo"
   ]
  },
  {
   "cell_type": "markdown",
   "id": "0a336d82-afcc-40b1-aeac-dd925d5eafed",
   "metadata": {},
   "source": [
    "```\n",
    "$ python3 cerchio.py\n",
    "```"
   ]
  },
  {
   "cell_type": "markdown",
   "id": "806d341f-bc29-4ffa-ac72-807e5bc8c6d9",
   "metadata": {},
   "source": [
    "seguito da Invio, nella stessa cartella nella quale è presente il file `cerchio.py`. \n",
    "Il programma che avete scritto verrà eseguito una riga alla volta, in ordine. Se non è avete commesso errori\n",
    "non verrà stampato nulla sulla schermo, però vi assicuro che il vostro programma avrà effettuato i calcoli\n",
    "che avete inserito.\n",
    "\n",
    "### Programmare senza installare nulla\n",
    "\n",
    "Esiste una quantità infinita di programmi per scrivere testi, ma attenzione. \n",
    "Software come  Word, Libreoffice, Pages, Openoffice **NON** producono file di testo semplice.\n",
    "Invece sul vosto computer avrete probabilmente già pre-installato \n",
    "\n",
    "- TextEdit (MacOS)\n",
    "- Blocco Note (Windows)\n",
    "\n",
    "Questi software sono adatti per salvare file python, anche se non sono comodi \n",
    "da usare per programmare. Ci sono molti programmi più adatti che aiutano a \n",
    "scrivere codice Python più agevolmente, ma per evitare complicazioni\n",
    "potete scriverli direttamente nelle celle di programmazione incluse \n",
    "in questa pagina.\n"
   ]
  },
  {
   "cell_type": "markdown",
   "id": "fb0cdbdf",
   "metadata": {},
   "source": [
    "### Ambiente di programmazione integrato\n",
    "\n",
    "Jupyter Lab è un ambiente per la scrittura di documenti *attivi* che contengono codice eseguibile. Potete\n",
    "\n",
    "- scrivere uno o più celle di codice Python;\n",
    "- eseguire il codice in ogni cella prementdo `Shift-Enter`;\n",
    "- scrivere file python;\n",
    "- eseguirli nel terminale.\n",
    "\n",
    "### Altri ambienti\n",
    "\n",
    "Se avete già esperienza di programmazione e se avete preso confidenza con Python potete provare a usare il vostro ambiente di programmazione preferito oppure un ambiente molto semplice da usare che è [Thonny](https://thonny.org), creato apposta per insegnare a programmare in Python.\n",
    "\n",
    "### Riassumento\n",
    "\n",
    "Esistono due modi di usare python: **interattivamente** o eseguendo un **programma** scritto e salvato in precedenza.\n",
    "Per scrivere programmi occorre usare un programma che lavori su **file di testo semplici**, e meglio ancora \n",
    "si possono utilizzare degli ambianti integrati che permettono di lavorare più agevolmente con Python.\n",
    "Uno di questi è [Thonny](https://thonny.org)."
   ]
  },
  {
   "cell_type": "code",
   "execution_count": null,
   "id": "1c14fa84-8e05-416e-b5fd-509164dca66f",
   "metadata": {},
   "outputs": [],
   "source": []
  }
 ],
 "metadata": {
  "kernelspec": {
   "display_name": "Python 3",
   "language": "python",
   "name": "python3"
  },
  "language_info": {
   "codemirror_mode": {
    "name": "ipython",
    "version": 3
   },
   "file_extension": ".py",
   "mimetype": "text/x-python",
   "name": "python",
   "nbconvert_exporter": "python",
   "pygments_lexer": "ipython3",
   "version": "3.10.3"
  }
 },
 "nbformat": 4,
 "nbformat_minor": 5
}
