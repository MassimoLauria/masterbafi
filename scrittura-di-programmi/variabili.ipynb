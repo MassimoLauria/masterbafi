{
 "cells": [
  {
   "cell_type": "markdown",
   "id": "b9cc0006",
   "metadata": {},
   "source": [
    "## Variabili\n",
    "\n",
    "Fino ad ora abbiamo esplorato Python interattivamente, e abbiamo visto come\n",
    "usarlo per fare calcoli o operare in maniera primitiva su dati. Osservate però\n",
    "che il risultato delle espressioni **svanisce** dopo essere stato mostrato.\n",
    "Non avrebbe più senso\n",
    "- memorizzarlo\n",
    "- utilizzarlo in altre espressioni?\n",
    "\n",
    "In effetti quello che si può fare è associare il risultato di un'espressione ad\n",
    "un *nome*. In questo modo si può richiamare quel valore per una nuova epsressione.\n",
    "Questo è il concetto di **variabile**.\n",
    "\n",
    "Ad esempio memorizzo il risultato di `(122-54)//7` nella variable chiamata (con molta fantasia) `risultato`. \n",
    "Poi posso riutilizzarla in un'altra espressione e in un'altra ancora."
   ]
  },
  {
   "cell_type": "markdown",
   "id": "c6d22ab0-e21a-41f4-a394-adbe2cb19ccd",
   "metadata": {},
   "source": [
    "```python\n",
    "risultato = ( 122 - 54 ) // 7\n",
    "risultato * 'ciao'\n",
    "```"
   ]
  },
  {
   "cell_type": "markdown",
   "id": "9b205494",
   "metadata": {},
   "source": [
    "Delle due righe precedenti la prima è un **assegnamento** ovvero una espressione è assegnata\n",
    "alla variabile `risultato`. La seconda riga è un'espressione come quelle che avete visto, ma nella quale \n",
    "invece di usare un numero, una stringa, o una funzione, utilizzo il nome della variable.\n",
    "Potete provare a immaginare il risultato dell'ultima espressione, e poi verificarlo in"
   ]
  },
  {
   "cell_type": "code",
   "execution_count": 3,
   "id": "86883297-e12b-4ba6-8eca-58e8d7a60f6f",
   "metadata": {
    "attributes": {
     "classes": [
      "python3.console"
     ],
     "id": ""
    }
   },
   "outputs": [],
   "source": [
    "risultato = ( 122 - 54 ) // 7"
   ]
  },
  {
   "cell_type": "code",
   "execution_count": 4,
   "id": "e7d67bac-24f6-4492-92f3-d4a2fe9fe439",
   "metadata": {
    "attributes": {
     "classes": [
      "python3.console"
     ],
     "id": ""
    }
   },
   "outputs": [
    {
     "data": {
      "text/plain": [
       "'ciaociaociaociaociaociaociaociaociao'"
      ]
     },
     "execution_count": 4,
     "metadata": {},
     "output_type": "execute_result"
    }
   ],
   "source": [
    "risultato * 'ciao'"
   ]
  },
  {
   "cell_type": "markdown",
   "id": "7447c649",
   "metadata": {},
   "source": [
    "Osservate che\n",
    "1. L'assegnamento non produce nessun risultato. Non è un'espressione.\n",
    "2. La variable `risultato` vale `9`, e quindi il valore della seconda espressione\n",
    "   è lo stesso che `9 * 'ciao'`.\n",
    "\n",
    "Le variabili vengono **sostituite** all'interno di un espressione con il valore ad\n",
    "esse associato. Provate con espressioni differenti e più complesse. La sintassi per\n",
    "l'assegnamento è:"
   ]
  },
  {
   "cell_type": "code",
   "execution_count": null,
   "id": "13847571",
   "metadata": {},
   "outputs": [],
   "source": [
    "nome_variabile = espressione"
   ]
  },
  {
   "cell_type": "markdown",
   "id": "88cbe876",
   "metadata": {},
   "source": [
    "che associa **il valore di `espressione`** alla variabile `nome_variable`. Siete\n",
    "liberi di scegliere il nome della variabile arbitrariamente (con poche limitazioni che vedremo).\n",
    "\n",
    "Le variabili possono essere associate a valori di ogni tipo"
   ]
  },
  {
   "cell_type": "code",
   "execution_count": 5,
   "id": "fd45e328",
   "metadata": {
    "attributes": {
     "classes": [
      "python3.console"
     ],
     "id": ""
    }
   },
   "outputs": [],
   "source": [
    "a = 4\n",
    "b = 'ciao'\n",
    "c = 4.3"
   ]
  },
  {
   "cell_type": "markdown",
   "id": "ab6101c4",
   "metadata": {},
   "source": [
    "### Esempio: area di un cerchio\n",
    "\n",
    "Sappiamo che l'area di un cerchio è raggio al quadrato per `3.14` (circa). Possiamo\n",
    "calcolare facilmente l'area di un cerchio di raggio arbitrario usando l'espressione\n",
    "`raggio * raggio * 3.14` qualunque sia il raggio. **Riutilizziamo** la stessa espressione\n",
    "per raggi diversi. La variabile **raggio** astrae il valore specifico e quindi permette \n",
    "di scrirvere una formula che vale per qualunque raggio."
   ]
  },
  {
   "cell_type": "code",
   "execution_count": 6,
   "id": "ecf0fc8c-92cd-4ce9-8dbf-ccaa751215b0",
   "metadata": {
    "attributes": {
     "classes": [
      "python3.console"
     ],
     "id": ""
    }
   },
   "outputs": [
    {
     "data": {
      "text/plain": [
       "120.70160000000001"
      ]
     },
     "execution_count": 6,
     "metadata": {},
     "output_type": "execute_result"
    }
   ],
   "source": [
    "raggio = 6.2\n",
    "area = raggio * raggio * 3.14\n",
    "area"
   ]
  },
  {
   "cell_type": "code",
   "execution_count": 7,
   "id": "14352b19-28b6-4070-8ee9-8a18bc6bc21c",
   "metadata": {
    "attributes": {
     "classes": [
      "python3.console"
     ],
     "id": ""
    }
   },
   "outputs": [
    {
     "data": {
      "text/plain": [
       "18.0864"
      ]
     },
     "execution_count": 7,
     "metadata": {},
     "output_type": "execute_result"
    }
   ],
   "source": [
    "raggio = 2.4\n",
    "area = raggio * raggio * 3.14\n",
    "area"
   ]
  },
  {
   "cell_type": "markdown",
   "id": "5a248448",
   "metadata": {},
   "source": [
    "**Esercizio:** scrivere delle istruzioni python analoghe, che però calcolino la\n",
    "circonferenza di un cerchio il cui raggio è memorizzato dalla variabile `raggio`.\n",
    "\n",
    "### Uso di una variabile\n",
    "\n",
    "Una variabile, come abbiamo già detto, può essere usata (dopo essere stata definita\n",
    "con un assegnamento) in qualunque espressione al posto del valore\n",
    "ad essa associata."
   ]
  },
  {
   "cell_type": "code",
   "execution_count": 9,
   "id": "2dc39095-2703-433f-add6-86371d3534fe",
   "metadata": {
    "attributes": {
     "classes": [
      "python3.console"
     ],
     "id": ""
    }
   },
   "outputs": [
    {
     "data": {
      "text/plain": [
       "11"
      ]
     },
     "execution_count": 9,
     "metadata": {},
     "output_type": "execute_result"
    }
   ],
   "source": [
    "nome = 'Massimo'\n",
    "len(nome) + 4"
   ]
  },
  {
   "cell_type": "code",
   "execution_count": 10,
   "id": "ef809cf9-de86-4f20-9a9b-8b0d7a412dda",
   "metadata": {
    "attributes": {
     "classes": [
      "python3.console"
     ],
     "id": ""
    }
   },
   "outputs": [
    {
     "data": {
      "text/plain": [
       "'MassimoMassimoGianniGianni'"
      ]
     },
     "execution_count": 10,
     "metadata": {},
     "output_type": "execute_result"
    }
   ],
   "source": [
    "nome*2 + 2*'Gianni'"
   ]
  },
  {
   "cell_type": "code",
   "execution_count": 11,
   "id": "b1908e5c-c8f9-4bc0-be44-382018d90e32",
   "metadata": {
    "attributes": {
     "classes": [
      "python3.console"
     ],
     "id": ""
    }
   },
   "outputs": [
    {
     "data": {
      "text/plain": [
       "13"
      ]
     },
     "execution_count": 11,
     "metadata": {},
     "output_type": "execute_result"
    }
   ],
   "source": [
    "len(nome + 'Gianni')"
   ]
  },
  {
   "cell_type": "code",
   "execution_count": 8,
   "id": "ab16ed66-528b-4f89-b038-de30ded8cbcb",
   "metadata": {
    "attributes": {
     "classes": [
      "python3.console"
     ],
     "id": ""
    }
   },
   "outputs": [
    {
     "ename": "TypeError",
     "evalue": "can only concatenate str (not \"int\") to str",
     "output_type": "error",
     "traceback": [
      "\u001b[1;31m---------------------------------------------------------------------------\u001b[0m",
      "\u001b[1;31mTypeError\u001b[0m                                 Traceback (most recent call last)",
      "Input \u001b[1;32mIn [8]\u001b[0m, in \u001b[0;36m<cell line: 5>\u001b[1;34m()\u001b[0m\n\u001b[0;32m      3\u001b[0m nome\u001b[38;5;241m*\u001b[39m\u001b[38;5;241m2\u001b[39m \u001b[38;5;241m+\u001b[39m \u001b[38;5;241m2\u001b[39m\u001b[38;5;241m*\u001b[39m\u001b[38;5;124m'\u001b[39m\u001b[38;5;124mGianni\u001b[39m\u001b[38;5;124m'\u001b[39m\n\u001b[0;32m      4\u001b[0m \u001b[38;5;28mlen\u001b[39m(nome \u001b[38;5;241m+\u001b[39m \u001b[38;5;124m'\u001b[39m\u001b[38;5;124mGianni\u001b[39m\u001b[38;5;124m'\u001b[39m)\n\u001b[1;32m----> 5\u001b[0m \u001b[43mnome\u001b[49m\u001b[43m \u001b[49m\u001b[38;5;241;43m+\u001b[39;49m\u001b[43m \u001b[49m\u001b[38;5;241;43m3\u001b[39;49m\n",
      "\u001b[1;31mTypeError\u001b[0m: can only concatenate str (not \"int\") to str"
     ]
    }
   ],
   "source": [
    "nome + 3"
   ]
  },
  {
   "cell_type": "markdown",
   "id": "b7afe582",
   "metadata": {},
   "source": [
    "Fate molta attenzione: una variabile **NON** è una stringa di testo. Esiste un mondo\n",
    "di differenza tra `variabile` e `\"variabile\"`."
   ]
  },
  {
   "cell_type": "code",
   "execution_count": 12,
   "id": "1bbcfeb7-d99e-4db1-97c5-90b637088dad",
   "metadata": {
    "attributes": {
     "classes": [
      "python3.console"
     ],
     "id": ""
    }
   },
   "outputs": [
    {
     "data": {
      "text/plain": [
       "'variabile'"
      ]
     },
     "execution_count": 12,
     "metadata": {},
     "output_type": "execute_result"
    }
   ],
   "source": [
    "\"variabile\""
   ]
  },
  {
   "cell_type": "code",
   "execution_count": 13,
   "id": "d77fe5a2-c325-41ea-8729-f3304fb1e99e",
   "metadata": {
    "attributes": {
     "classes": [
      "python3.console"
     ],
     "id": ""
    }
   },
   "outputs": [
    {
     "ename": "NameError",
     "evalue": "name 'variabile' is not defined",
     "output_type": "error",
     "traceback": [
      "\u001b[1;31m---------------------------------------------------------------------------\u001b[0m",
      "\u001b[1;31mNameError\u001b[0m                                 Traceback (most recent call last)",
      "Input \u001b[1;32mIn [13]\u001b[0m, in \u001b[0;36m<cell line: 1>\u001b[1;34m()\u001b[0m\n\u001b[1;32m----> 1\u001b[0m \u001b[43mvariabile\u001b[49m\n",
      "\u001b[1;31mNameError\u001b[0m: name 'variabile' is not defined"
     ]
    }
   ],
   "source": [
    "variabile"
   ]
  },
  {
   "cell_type": "code",
   "execution_count": 14,
   "id": "be03a52d-607f-4e0a-a0dd-5b400ec49bde",
   "metadata": {
    "attributes": {
     "classes": [
      "python3.console"
     ],
     "id": ""
    }
   },
   "outputs": [],
   "source": [
    "variabile = 123421"
   ]
  },
  {
   "cell_type": "code",
   "execution_count": 15,
   "id": "d5ea8006-1932-46bd-8694-a9ffbff5e162",
   "metadata": {
    "attributes": {
     "classes": [
      "python3.console"
     ],
     "id": ""
    }
   },
   "outputs": [
    {
     "data": {
      "text/plain": [
       "'variabile'"
      ]
     },
     "execution_count": 15,
     "metadata": {},
     "output_type": "execute_result"
    }
   ],
   "source": [
    "\"variabile\""
   ]
  },
  {
   "cell_type": "code",
   "execution_count": 16,
   "id": "4ac63ff7-6f24-42c6-a0f3-33892155d79e",
   "metadata": {
    "attributes": {
     "classes": [
      "python3.console"
     ],
     "id": ""
    }
   },
   "outputs": [
    {
     "data": {
      "text/plain": [
       "123421"
      ]
     },
     "execution_count": 16,
     "metadata": {},
     "output_type": "execute_result"
    }
   ],
   "source": [
    "variabile"
   ]
  },
  {
   "cell_type": "markdown",
   "id": "5a69af3e",
   "metadata": {},
   "source": [
    "### Evoluzione di una variable\n",
    "\n",
    "Come avete visto, se proviamo ad usare una variabile che non è stata ancora definita, python ci \n",
    "da errore `NameError`. Visto che nessun valore è associato a quel nome, l'uso \n",
    "di quel nome causa errore."
   ]
  },
  {
   "cell_type": "code",
   "execution_count": 17,
   "id": "9cdc0144-7736-4f24-b804-178c1db58412",
   "metadata": {
    "attributes": {
     "classes": [
      "python3.console"
     ],
     "id": ""
    }
   },
   "outputs": [
    {
     "ename": "NameError",
     "evalue": "name 'assente' is not defined",
     "output_type": "error",
     "traceback": [
      "\u001b[1;31m---------------------------------------------------------------------------\u001b[0m",
      "\u001b[1;31mNameError\u001b[0m                                 Traceback (most recent call last)",
      "Input \u001b[1;32mIn [17]\u001b[0m, in \u001b[0;36m<cell line: 1>\u001b[1;34m()\u001b[0m\n\u001b[1;32m----> 1\u001b[0m \u001b[43massente\u001b[49m \u001b[38;5;241m*\u001b[39m \u001b[38;5;241m4\u001b[39m\n",
      "\u001b[1;31mNameError\u001b[0m: name 'assente' is not defined"
     ]
    }
   ],
   "source": [
    "assente * 4"
   ]
  },
  {
   "cell_type": "code",
   "execution_count": 18,
   "id": "27987f02-701d-4537-b52e-d31432f6955c",
   "metadata": {
    "attributes": {
     "classes": [
      "python3.console"
     ],
     "id": ""
    }
   },
   "outputs": [
    {
     "data": {
      "text/plain": [
       "6.8"
      ]
     },
     "execution_count": 18,
     "metadata": {},
     "output_type": "execute_result"
    }
   ],
   "source": [
    "assente = 1.7\n",
    "assente * 4"
   ]
  },
  {
   "cell_type": "markdown",
   "id": "a7a22719",
   "metadata": {},
   "source": [
    "**Attenzione:** per usare una variabile bisogna riferirsi ad essa con la grafia corretta."
   ]
  },
  {
   "cell_type": "code",
   "execution_count": null,
   "id": "2c083190-0032-4c51-8e59-c05698bdbb20",
   "metadata": {
    "attributes": {
     "classes": [
      "python3.console"
     ],
     "id": ""
    }
   },
   "outputs": [],
   "source": [
    "unNome = 1.7"
   ]
  },
  {
   "cell_type": "code",
   "execution_count": null,
   "id": "38aef725-19f2-4621-88f1-312b1290b9e7",
   "metadata": {
    "attributes": {
     "classes": [
      "python3.console"
     ],
     "id": ""
    }
   },
   "outputs": [],
   "source": [
    "unnome"
   ]
  },
  {
   "cell_type": "code",
   "execution_count": null,
   "id": "7f393a9a-6cfd-4267-8e1f-48a92720ed2b",
   "metadata": {
    "attributes": {
     "classes": [
      "python3.console"
     ],
     "id": ""
    }
   },
   "outputs": [],
   "source": [
    "Unnome"
   ]
  },
  {
   "cell_type": "code",
   "execution_count": null,
   "id": "60f00e40-7896-4760-9e71-b86c2ce2d580",
   "metadata": {
    "attributes": {
     "classes": [
      "python3.console"
     ],
     "id": ""
    }
   },
   "outputs": [],
   "source": [
    "unNmoe"
   ]
  },
  {
   "cell_type": "code",
   "execution_count": null,
   "id": "ae03ace0-1ee1-46b3-a8e2-1dd90b3fcb74",
   "metadata": {
    "attributes": {
     "classes": [
      "python3.console"
     ],
     "id": ""
    }
   },
   "outputs": [],
   "source": [
    "unNome"
   ]
  },
  {
   "cell_type": "markdown",
   "id": "1d320223",
   "metadata": {},
   "source": [
    "Una volta assegnata possiamo modificare il valore associato ad\n",
    "una variabile. Osservate che in python potere assegnare anche un valore di tipo diverso."
   ]
  },
  {
   "cell_type": "code",
   "execution_count": 19,
   "id": "0aa05cbf-a99c-461c-92ec-0230d8570fad",
   "metadata": {
    "attributes": {
     "classes": [
      "python3.console"
     ],
     "id": ""
    }
   },
   "outputs": [
    {
     "data": {
      "text/plain": [
       "'MassimoMassimoMassimo'"
      ]
     },
     "execution_count": 19,
     "metadata": {},
     "output_type": "execute_result"
    }
   ],
   "source": [
    "nome = 'Massimo'\n",
    "nome * 3"
   ]
  },
  {
   "cell_type": "code",
   "execution_count": 20,
   "id": "cb29c13d-5bd5-4a94-ab9b-bfc8e53e56be",
   "metadata": {
    "attributes": {
     "classes": [
      "python3.console"
     ],
     "id": ""
    }
   },
   "outputs": [
    {
     "data": {
      "text/plain": [
       "130.0"
      ]
     },
     "execution_count": 20,
     "metadata": {},
     "output_type": "execute_result"
    }
   ],
   "source": [
    "nome = 32.5\n",
    "nome * 4"
   ]
  },
  {
   "cell_type": "markdown",
   "id": "e71a900e",
   "metadata": {},
   "source": [
    "È **importante** capire che la modifica di una variabile ha effetto solo sulle espressioni\n",
    "che la coinvolgono successivamente. Le espressioni già calcolate con cambiano di valore."
   ]
  },
  {
   "cell_type": "code",
   "execution_count": 21,
   "id": "8b7157e7",
   "metadata": {
    "attributes": {
     "classes": [
      "python3.console"
     ],
     "id": ""
    }
   },
   "outputs": [
    {
     "data": {
      "text/plain": [
       "'Buongiorno, Luisa'"
      ]
     },
     "execution_count": 21,
     "metadata": {},
     "output_type": "execute_result"
    }
   ],
   "source": [
    "soggetto = 'Luisa'\n",
    "saluto = \"Buongiorno, \" + soggetto\n",
    "soggetto = 'Marco'\n",
    "saluto"
   ]
  },
  {
   "cell_type": "markdown",
   "id": "e931aa9d",
   "metadata": {},
   "source": [
    "### Riassumendo\n",
    "\n",
    "Abbiami visto che possiamo\n",
    "- **salvare** il risultato di espressioni nelle variabili\n",
    "- **riutilizzare** questi risultati in altre espressioni\n",
    "- **cambiare** il valore associato ad un variabile."
   ]
  }
 ],
 "metadata": {
  "kernelspec": {
   "display_name": "Python 3 (ipykernel)",
   "language": "python",
   "name": "python3"
  },
  "language_info": {
   "codemirror_mode": {
    "name": "ipython",
    "version": 3
   },
   "file_extension": ".py",
   "mimetype": "text/x-python",
   "name": "python",
   "nbconvert_exporter": "python",
   "pygments_lexer": "ipython3",
   "version": "3.10.2"
  }
 },
 "nbformat": 4,
 "nbformat_minor": 5
}
