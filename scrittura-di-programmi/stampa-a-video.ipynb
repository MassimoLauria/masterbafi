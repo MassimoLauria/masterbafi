{
 "cells": [
  {
   "cell_type": "markdown",
   "id": "e2a7d5f9",
   "metadata": {},
   "source": [
    "## Stampa a video\n",
    "\n",
    "Passando dalla sessione python interattiva all'esecuzione di programmi Python \n",
    "potete immediatamente notare una differenza:\n",
    "\n",
    "- Nella sessione interattiva oggi volta che digitavate un'espressione, avevate immediatamente a video\n",
    "  il suo risultato. Questo non succedeva per gli assegnamenti, che non sono espressioni.\n",
    "- Se invece scrivere un programma su file, e una riga contiene un'espressione, il suo valore viene calcolato\n",
    "  ma non viene stampato. Pensateci... un programma può calcolare milioni di espressioni, quindi questa \n",
    "  non sembra una cattiva idea.\n",
    "\n",
    "Per stampare a video in un programma potete usare la funzione `print`."
   ]
  },
  {
   "cell_type": "code",
   "execution_count": 1,
   "id": "faa3932c",
   "metadata": {
    "attributes": {
     "classes": [
      "python3.run"
     ],
     "id": ""
    }
   },
   "outputs": [
    {
     "name": "stdout",
     "output_type": "stream",
     "text": [
      "7.065\n",
      "9.42\n"
     ]
    }
   ],
   "source": [
    "raggio = 1.5\n",
    "\n",
    "area = raggio * raggio * 3.14\n",
    "circonferenza = 2 * raggio * 3.14\n",
    "\n",
    "print(area)\n",
    "print(circonferenza)"
   ]
  },
  {
   "cell_type": "markdown",
   "id": "2bbaf6be",
   "metadata": {},
   "source": [
    "### La funzione `print`\n",
    "\n",
    "La funzione `print` stampa a video valori di tutti i tipi."
   ]
  },
  {
   "cell_type": "code",
   "execution_count": 2,
   "id": "9e2bc301",
   "metadata": {
    "attributes": {
     "classes": [
      "python3.run"
     ],
     "id": ""
    }
   },
   "outputs": [
    {
     "name": "stdout",
     "output_type": "stream",
     "text": [
      "1.24\n",
      "Ciao a tutti\n",
      "Programmo in Python\n",
      "la vispa teresa correa tra l'erbetta\n"
     ]
    }
   ],
   "source": [
    "print(1.24)\n",
    "print(\"Ciao a tutti\")\n",
    "\n",
    "print(\"Programmo\" + \" in \" + \"Python\")\n",
    "\n",
    "frase=\"la vispa teresa correa tra l'erbetta\"\n",
    "\n",
    "print(frase)"
   ]
  },
  {
   "cell_type": "markdown",
   "id": "ba7f307f",
   "metadata": {},
   "source": [
    "La funzione `print` **non restituisce nessun valore**. In questo senso è differente \n",
    "rispetto alle fuzioni come `len` o `max` che abbiamo già visto. Queste restituiscono il risultato di un calcolo,\n",
    "mentre il ruolo di `print` non è quello di effettuare calcoli, ma di stampare a video.\n",
    "\n",
    "### Stampe di valori multipli\n",
    "\n",
    "Essendo una funzione molto utile, `print` è anche flessibile. In generale può \n",
    "essere usata con un numero arbitrario di parametri. Questi vengono stampati tutti sula stessa riga, e poi \n",
    "la stampa va a capo. In questo modo è possibile produrre dei messaggi a video più articolati e complessi."
   ]
  },
  {
   "cell_type": "code",
   "execution_count": 3,
   "id": "255b71c4",
   "metadata": {
    "attributes": {
     "classes": [
      "python3.run"
     ],
     "id": ""
    }
   },
   "outputs": [
    {
     "name": "stdout",
     "output_type": "stream",
     "text": [
      "Ciao Luisa\n",
      "Il cerchio di raggio 12 ha area 452.16\n"
     ]
    }
   ],
   "source": [
    "nome = \"Luisa\"\n",
    "print(\"Ciao\",nome)\n",
    "\n",
    "R = 12\n",
    "print(\"Il cerchio di raggio\", R, \"ha area\", 3.14 * R**2)"
   ]
  },
  {
   "cell_type": "markdown",
   "id": "3f1eba17",
   "metadata": {},
   "source": [
    "### Riassumento\n",
    "\n",
    "Abbiamo visto\n",
    "- la funzione `print` che stampa a video\n",
    "- la funzione può ricevere da 0 a numerosi parametri, e li stampa tutti, con uno spazio tra ognuno di essi,\n",
    "  e termina la stampa andando a capo.\n",
    "- la funzione `print` non restituisce nessun valore."
   ]
  },
  {
   "cell_type": "code",
   "execution_count": null,
   "id": "7a2df509-c981-4141-b18a-95f456ec9e6f",
   "metadata": {},
   "outputs": [],
   "source": []
  }
 ],
 "metadata": {
  "kernelspec": {
   "display_name": "Python 3 (ipykernel)",
   "language": "python",
   "name": "python3"
  },
  "language_info": {
   "codemirror_mode": {
    "name": "ipython",
    "version": 3
   },
   "file_extension": ".py",
   "mimetype": "text/x-python",
   "name": "python",
   "nbconvert_exporter": "python",
   "pygments_lexer": "ipython3",
   "version": "3.10.2"
  }
 },
 "nbformat": 4,
 "nbformat_minor": 5
}
