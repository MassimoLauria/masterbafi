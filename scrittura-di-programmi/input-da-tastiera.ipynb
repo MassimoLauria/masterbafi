{
 "cells": [
  {
   "cell_type": "markdown",
   "id": "cb2ea3ff",
   "metadata": {},
   "source": [
    "## Input da tastiera\n",
    "\n",
    "Abbiamo visto come scrivere un programma che scrive i suoi risultati a video.\n",
    "Ma come possiamo fargli ricevere un input di qualche forma?\n",
    "\n",
    "La funzione `input` permette al programma di leggere input da tastiera, come vediamo in questo esempio."
   ]
  },
  {
   "cell_type": "code",
   "execution_count": 1,
   "id": "c3d41186",
   "metadata": {
    "attributes": {
     "classes": [
      "python3.run"
     ],
     "id": ""
    }
   },
   "outputs": [
    {
     "name": "stdout",
     "output_type": "stream",
     "text": [
      "Per favore inserire del testo seguito da <Invio>\n"
     ]
    },
    {
     "name": "stdin",
     "output_type": "stream",
     "text": [
      " kdjfksdfds\n"
     ]
    },
    {
     "name": "stdout",
     "output_type": "stream",
     "text": [
      "Il testo che hai inserito è:\n",
      "kdjfksdfds\n"
     ]
    }
   ],
   "source": [
    "print(\"Per favore inserire del testo seguito da <Invio>\")\n",
    "x = input()\n",
    "print(\"Il testo che hai inserito è:\")\n",
    "print(x)"
   ]
  },
  {
   "cell_type": "markdown",
   "id": "80626d47",
   "metadata": {},
   "source": [
    "Come vedete `input` legge il testo dell'utente second questa procedura:\n",
    "1. prima di tutto sospende il programma che si mette in attesa\n",
    "2. l'utente scrive del testo seguito dal tasto invio\n",
    "3. all'interno del programma `input()` diventa essenzialmente come un'esepressione il cui valore\n",
    "   è il testo inserito.\n",
    "\n",
    "Si può dare un parametro opzionale a `input`."
   ]
  },
  {
   "cell_type": "code",
   "execution_count": 2,
   "id": "79918fce",
   "metadata": {
    "attributes": {
     "classes": [
      "python3.run"
     ],
     "id": ""
    }
   },
   "outputs": [
    {
     "name": "stdin",
     "output_type": "stream",
     "text": [
      "Inserisci un testo> xsklxksl\n"
     ]
    },
    {
     "name": "stdout",
     "output_type": "stream",
     "text": [
      "Grazie. Hai inserito 8 caratteri.\n"
     ]
    }
   ],
   "source": [
    "x = input(\"Inserisci un testo>\")\n",
    "print(\"Grazie. Hai inserito\",len(x),\"caratteri.\")"
   ]
  },
  {
   "cell_type": "markdown",
   "id": "2492a506",
   "metadata": {},
   "source": [
    "### Leggere dei valori numerici\n",
    "\n",
    "Visto che `input` produce una stringa, se si vogliono leggere valori numerici si deve\n",
    "usare fare conversione di tipo di dato."
   ]
  },
  {
   "cell_type": "code",
   "execution_count": 3,
   "id": "31182c04",
   "metadata": {
    "attributes": {
     "classes": [
      "python3.run"
     ],
     "id": ""
    }
   },
   "outputs": [
    {
     "name": "stdin",
     "output_type": "stream",
     "text": [
      "Inserisci il raggio del cerchio> 2.1\n"
     ]
    },
    {
     "name": "stdout",
     "output_type": "stream",
     "text": [
      "Grazie.\n",
      "L'area del cerchio di raggio 2.1 è 13.8474\n"
     ]
    }
   ],
   "source": [
    "x = input(\"Inserisci il raggio del cerchio>\")\n",
    "R = float(x)\n",
    "\n",
    "print(\"Grazie.\")\n",
    "print(\"L'area del cerchio di raggio\",R,\"è\",R*R*3.14)\n"
   ]
  },
  {
   "cell_type": "markdown",
   "id": "38d496ae",
   "metadata": {},
   "source": [
    "**Attenzione:** ricordatevi che se `int` o `float` ricevono una stringa che non può essere convertita \n",
    "segnalano un errore.\n",
    "\n",
    "**Esercizio:** scrivete un programma che legga in input il lato di un quadrato e ne stampi l'area.\n",
    "\n",
    "**Esercizio:** scrivete un programma che legga in input la base e l'altezza di un triangolo e ne stampi l'area."
   ]
  }
 ],
 "metadata": {
  "kernelspec": {
   "display_name": "Python 3 (ipykernel)",
   "language": "python",
   "name": "python3"
  },
  "language_info": {
   "codemirror_mode": {
    "name": "ipython",
    "version": 3
   },
   "file_extension": ".py",
   "mimetype": "text/x-python",
   "name": "python",
   "nbconvert_exporter": "python",
   "pygments_lexer": "ipython3",
   "version": "3.10.2"
  }
 },
 "nbformat": 4,
 "nbformat_minor": 5
}
