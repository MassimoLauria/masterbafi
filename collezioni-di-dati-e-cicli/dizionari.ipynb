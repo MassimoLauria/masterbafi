{
 "cells": [
  {
   "cell_type": "markdown",
   "id": "da05693c",
   "metadata": {},
   "source": [
    "## Dizionari\n",
    "\n",
    "Un dizionario è un tipo di dato che permette di memorizzare delle coppie \n",
    "(chiave, valore), così che data una potenziale chiave si possa determinare\n",
    "efficententemente il valore corrispondente.\n",
    "\n",
    "Un esempio banale è una rubrica telefonica:\n",
    "\n",
    "| Nome | Telefono |\n",
    "| --- | --- |\n",
    "| Mario     | 11111     |\n",
    "| Luisa | 55555 |\n",
    "|Fabrizio | 33333 |\n",
    "\n",
    "Il tipo di dato `dict` permette di memorizzare queste informazioni e\n",
    "permette di rispondere facilmente a domande come:\n",
    "- `Giulio` è in rubrica?\n",
    "- Qual è il numero di `Luisa`?\n",
    "\n",
    "Vediamo subito un esempio:"
   ]
  },
  {
   "cell_type": "code",
   "execution_count": 2,
   "id": "04dfe92e-65dc-4705-8c1a-12a7f22a5b38",
   "metadata": {
    "attributes": {
     "classes": [
      "python3.run"
     ],
     "id": ""
    }
   },
   "outputs": [],
   "source": [
    "rubrica = { \"Mario\" : \"11111\", \"Fabrizio\": \"33333\", \"Luisa\" : \"55555\" }"
   ]
  },
  {
   "cell_type": "code",
   "execution_count": 3,
   "id": "8821cd13-2496-4bf7-8757-34b9a0404c55",
   "metadata": {
    "attributes": {
     "classes": [
      "python3.run"
     ],
     "id": ""
    }
   },
   "outputs": [
    {
     "name": "stdout",
     "output_type": "stream",
     "text": [
      "{'Mario': '11111', 'Fabrizio': '33333', 'Luisa': '55555'}\n"
     ]
    }
   ],
   "source": [
    "print(rubrica)"
   ]
  },
  {
   "cell_type": "code",
   "execution_count": 4,
   "id": "39d9c009-94b3-4154-a983-9858bf08219e",
   "metadata": {
    "attributes": {
     "classes": [
      "python3.run"
     ],
     "id": ""
    }
   },
   "outputs": [
    {
     "name": "stdout",
     "output_type": "stream",
     "text": [
      "La rubrica ha 3 nomi.\n"
     ]
    }
   ],
   "source": [
    "print(\"La rubrica ha\", len(rubrica), \"nomi.\" )"
   ]
  },
  {
   "cell_type": "code",
   "execution_count": 5,
   "id": "52ccd235-a5cf-4f0f-a90f-219cbe8da13e",
   "metadata": {
    "attributes": {
     "classes": [
      "python3.run"
     ],
     "id": ""
    }
   },
   "outputs": [
    {
     "name": "stdout",
     "output_type": "stream",
     "text": [
      "55555\n",
      "11111\n"
     ]
    }
   ],
   "source": [
    "print( rubrica[\"Luisa\"] )\n",
    "print( rubrica[\"Mario\"] )"
   ]
  },
  {
   "cell_type": "markdown",
   "id": "3fb37f34",
   "metadata": {},
   "source": [
    "Precisiamo la sintassi. Alla riga 1 dell'esempio precedente assegnamo alla variabile `rubrica` un valore di tipo `dict` (il tipo di dati python che realizza il dizionario).\n",
    "\n",
    "- Un dizionario vuoto si specifica come `{ }`,\n",
    "- altrimenti come un elenco `{ chiave : valore , chiave: valore , ... }` \n",
    "  di coppie `chiave : valore` separate da virgole e contenuto tra graffe.\n",
    "\n",
    "### Verificare se una chiave è nel dizionario: operatore `in`\n",
    "\n",
    "La caratteristica principale dei dizionari è che la ricerca di una chiave è **estremamente veloce**.\n",
    "Se ho una lista `L` di 10.000.000 di elementi e voglio sapere se contiene un certo valore `x` posso usare l'espressione booleana `x in L`.\n",
    "Per determinare il valore di `x in L` Python scorre tutta la lista fino a che non trova `x`, eseguendo anche fino a 10.000.000 passi. \n",
    "\n",
    "Invece l'operazione `in` su un dizionario è estremamente **più efficiente**. Nei nostri piccoli esempi questa differenza non si noterà, tuttavia la funzionalità di associare una chiave ad un valore è sufficiente per farci utilizzare questo tipo di dato.\n",
    "\n",
    "Vediamo un esempio di dizionario con dati più variegati."
   ]
  },
  {
   "cell_type": "code",
   "execution_count": 6,
   "id": "9bda2939-20bf-40ff-aa34-3b7beb1d34dc",
   "metadata": {
    "attributes": {
     "classes": [
      "python3.run"
     ],
     "id": ""
    }
   },
   "outputs": [],
   "source": [
    "D = {  14 : \"quattordici\" , 7.3 : \"sette virgola tre\", \"Harry\" : \"Potter\", \"Frodo\" : \"Baggins\"  }"
   ]
  },
  {
   "cell_type": "code",
   "execution_count": 8,
   "id": "07222bdc-82f8-4f87-bd9a-4ff633e24477",
   "metadata": {
    "attributes": {
     "classes": [
      "python3.run"
     ],
     "id": ""
    }
   },
   "outputs": [
    {
     "name": "stdout",
     "output_type": "stream",
     "text": [
      "True\n",
      "False\n",
      "True\n",
      "False\n"
     ]
    }
   ],
   "source": [
    "print ( 7.3 in D  )\n",
    "print ( \"Asterix\" in D)\n",
    "print ( 'Frodo' in D)\n",
    "print ('Potter' in D)  # la ricerca è effettuata sulle chiavi"
   ]
  },
  {
   "cell_type": "markdown",
   "id": "13f5a57a",
   "metadata": {},
   "source": [
    "### Accedere al valore di una chiave (esistente)\n",
    "\n",
    "In una sequenza si accede all'elemento i-esimo con la sintassi `seq[i]`. I dizionari\n",
    "**non hanno una natura sequenziale** l'idea che un valore o una chiave siano in una certa posizione di una sequenza è concettualmente sbagliato.\n",
    "\n",
    "Per accedere alla chiave `key` di un dizionario `D` si una una sintassi simile `D[key]`\n",
    "con l'enorme differenza che `key` può essere quasi qualunque dato, e non solo un numero."
   ]
  },
  {
   "cell_type": "code",
   "execution_count": 9,
   "id": "88dbed85-5c7c-467e-bf7c-d5e582357b6c",
   "metadata": {
    "attributes": {
     "classes": [
      "python3.run"
     ],
     "id": ""
    }
   },
   "outputs": [],
   "source": [
    "D = {  7+7 : \"quattordici\" , 7.3 : \"sette \" + \"virgola tre\", \"Harry\" : \"Potter\", \"Frodo\" : \"Baggins\"  }"
   ]
  },
  {
   "cell_type": "code",
   "execution_count": 10,
   "id": "db44a22e-396a-4809-8410-7ea7f9f210bd",
   "metadata": {
    "attributes": {
     "classes": [
      "python3.run"
     ],
     "id": ""
    }
   },
   "outputs": [
    {
     "name": "stdout",
     "output_type": "stream",
     "text": [
      "quattordici\n",
      "sette virgola tre\n",
      "Baggins\n",
      "Potter\n"
     ]
    }
   ],
   "source": [
    "print ( D[14]  )\n",
    "print ( D[7.3]  )\n",
    "print ( D['Frodo'])\n",
    "print ( D['Har' + 'ry']) "
   ]
  },
  {
   "cell_type": "markdown",
   "id": "1b1b609c",
   "metadata": {},
   "source": [
    "Se la chiave non è presente nel dizionario, un tentativo di accesso maldestro\n",
    "genererà un `KeyError`."
   ]
  },
  {
   "cell_type": "code",
   "execution_count": 11,
   "id": "f17c2cbd-599a-497c-b0aa-593fbc9a1801",
   "metadata": {
    "attributes": {
     "classes": [
      "python3.run"
     ],
     "id": ""
    }
   },
   "outputs": [],
   "source": [
    "Capitali = { \"Italia\" : \"Roma\" , \"Francia\" : \"Parigi\" }"
   ]
  },
  {
   "cell_type": "code",
   "execution_count": 12,
   "id": "b2980b31-ff50-44b9-941c-11f1c239e380",
   "metadata": {
    "attributes": {
     "classes": [
      "python3.run"
     ],
     "id": ""
    }
   },
   "outputs": [
    {
     "name": "stdout",
     "output_type": "stream",
     "text": [
      "Roma\n",
      "Parigi\n"
     ]
    },
    {
     "ename": "KeyError",
     "evalue": "'Jugoslavia'",
     "output_type": "error",
     "traceback": [
      "\u001b[1;31m---------------------------------------------------------------------------\u001b[0m",
      "\u001b[1;31mKeyError\u001b[0m                                  Traceback (most recent call last)",
      "Input \u001b[1;32mIn [12]\u001b[0m, in \u001b[0;36m<cell line: 3>\u001b[1;34m()\u001b[0m\n\u001b[0;32m      1\u001b[0m \u001b[38;5;28mprint\u001b[39m ( Capitali[\u001b[38;5;124m\"\u001b[39m\u001b[38;5;124mItalia\u001b[39m\u001b[38;5;124m\"\u001b[39m]  )\n\u001b[0;32m      2\u001b[0m \u001b[38;5;28mprint\u001b[39m ( Capitali[\u001b[38;5;124m\"\u001b[39m\u001b[38;5;124mFrancia\u001b[39m\u001b[38;5;124m\"\u001b[39m]  )\n\u001b[1;32m----> 3\u001b[0m \u001b[38;5;28mprint\u001b[39m ( \u001b[43mCapitali\u001b[49m\u001b[43m[\u001b[49m\u001b[38;5;124;43m\"\u001b[39;49m\u001b[38;5;124;43mJugoslavia\u001b[39;49m\u001b[38;5;124;43m\"\u001b[39;49m\u001b[43m]\u001b[49m)\n",
      "\u001b[1;31mKeyError\u001b[0m: 'Jugoslavia'"
     ]
    }
   ],
   "source": [
    "print ( Capitali[\"Italia\"]  )\n",
    "print ( Capitali[\"Francia\"]  )\n",
    "print ( Capitali[\"Jugoslavia\"])"
   ]
  },
  {
   "cell_type": "markdown",
   "id": "8e908da2",
   "metadata": {},
   "source": [
    "### Modificare il dizionario\n",
    "\n",
    "Così come le liste, i dizionari possono essere modificati.\n",
    "\n",
    "- Memorizzare o sovrascrivere il valore associato ad una chiave: `D[key]=val` \n",
    "- Eliminare una coppia (chiave,valore) : `D.pop(key)`"
   ]
  },
  {
   "cell_type": "code",
   "execution_count": 17,
   "id": "5765c024-4bdc-404a-8db0-e78d9e8a9be9",
   "metadata": {
    "attributes": {
     "classes": [
      "python3.run"
     ],
     "id": ""
    }
   },
   "outputs": [],
   "source": [
    "D = { 'A' : 'a' , 'B': 'b'}"
   ]
  },
  {
   "cell_type": "code",
   "execution_count": 18,
   "id": "5e20849b-df79-4df1-9980-26b80c3cfea0",
   "metadata": {
    "attributes": {
     "classes": [
      "python3.run"
     ],
     "id": ""
    }
   },
   "outputs": [
    {
     "name": "stdout",
     "output_type": "stream",
     "text": [
      "{'A': 'a', 'B': 'b', 'C': 'c'}\n"
     ]
    }
   ],
   "source": [
    "D['C'] = 'c'\n",
    "print(D)"
   ]
  },
  {
   "cell_type": "code",
   "execution_count": 19,
   "id": "70e4c5f4-6f82-4f6a-b589-9915bc19135d",
   "metadata": {
    "attributes": {
     "classes": [
      "python3.run"
     ],
     "id": ""
    }
   },
   "outputs": [
    {
     "name": "stdout",
     "output_type": "stream",
     "text": [
      "{'A': 1000, 'B': 'b', 'C': 'c'}\n"
     ]
    }
   ],
   "source": [
    "D['A'] = 1000\n",
    "print(D)"
   ]
  },
  {
   "cell_type": "code",
   "execution_count": 20,
   "id": "011480df-4e33-48e1-afde-349055b2b707",
   "metadata": {
    "attributes": {
     "classes": [
      "python3.run"
     ],
     "id": ""
    }
   },
   "outputs": [
    {
     "name": "stdout",
     "output_type": "stream",
     "text": [
      "{'A': 1000, 'C': 'c'}\n"
     ]
    }
   ],
   "source": [
    "D.pop('B')\n",
    "print(D)"
   ]
  },
  {
   "cell_type": "markdown",
   "id": "3536bde5",
   "metadata": {},
   "source": [
    "### Ciclare sul dizionario\n",
    "\n",
    "Il dizionario **non è una sequenza**. Le chiavi non hanno un ordine specifico,\n",
    "e l'eventuale ordine può essere modificato senza preavviso. Quindi nel dizionario\n",
    "l'ordine delle chiavi è **irrilevante e mutevole**."
   ]
  },
  {
   "cell_type": "code",
   "execution_count": 21,
   "id": "0e224365-00b7-4d39-b856-5366920673f2",
   "metadata": {
    "attributes": {
     "classes": [
      "python3.run"
     ],
     "id": ""
    }
   },
   "outputs": [],
   "source": [
    "D = {  7+7 : \"quattordici\" , 7.3 : \"sette \" + \"virgola tre\", \n",
    "       \"Harry\" : \"Potter\", \"Frodo\" : \"Baggins\"  }"
   ]
  },
  {
   "cell_type": "code",
   "execution_count": 22,
   "id": "0d51e373-af7b-4e34-a7f2-4102f355479f",
   "metadata": {
    "attributes": {
     "classes": [
      "python3.run"
     ],
     "id": ""
    }
   },
   "outputs": [
    {
     "name": "stdout",
     "output_type": "stream",
     "text": [
      "14 --> quattordici\n",
      "7.3 --> sette virgola tre\n",
      "Harry --> Potter\n",
      "Frodo --> Baggins\n"
     ]
    }
   ],
   "source": [
    "for chiave in D:\n",
    "    print( chiave, \"-->\", D[chiave] )"
   ]
  },
  {
   "cell_type": "markdown",
   "id": "0cfb5af4",
   "metadata": {},
   "source": [
    "### Esempi/Esercizi\n",
    "\n",
    "Scrivere delle funzioni che realizzino i seguenti compiti.\n",
    "\n",
    "- Data una lista di coppie `[ (key,val), (key,val), ...]` costruite il dizionario corrispondente."
   ]
  },
  {
   "cell_type": "code",
   "execution_count": 23,
   "id": "eb0cbb4a-1996-4638-b70b-68f8d449c87b",
   "metadata": {
    "attributes": {
     "classes": [
      "python3.run"
     ],
     "id": ""
    }
   },
   "outputs": [],
   "source": [
    "def costruiredict(coppie):\n",
    "    D = { }\n",
    "    for coppia in coppie:\n",
    "        chiave = coppia[0]\n",
    "        valore = coppia[1]\n",
    "        D[chiave] = valore\n",
    "    return D"
   ]
  },
  {
   "cell_type": "code",
   "execution_count": 24,
   "id": "ad5a34b1-0c3b-4479-a043-252a6bc934ba",
   "metadata": {
    "attributes": {
     "classes": [
      "python3.run"
     ],
     "id": ""
    }
   },
   "outputs": [
    {
     "name": "stdout",
     "output_type": "stream",
     "text": [
      "{'A': 'a', 'B': 'b', 'C': 'c'}\n"
     ]
    }
   ],
   "source": [
    "L1 = [ ('A','a') , ('B','b'), ('C','c') ]\n",
    "D1 = costruiredict( L1 )\n",
    "print(D1)"
   ]
  },
  {
   "cell_type": "code",
   "execution_count": 25,
   "id": "9a1c870b-b2c0-4540-afe6-f6d135c571e9",
   "metadata": {
    "attributes": {
     "classes": [
      "python3.run"
     ],
     "id": ""
    }
   },
   "outputs": [
    {
     "name": "stdout",
     "output_type": "stream",
     "text": [
      "{'uno': 'one', 'casa': 'house', 'automobile': 'car'}\n"
     ]
    }
   ],
   "source": [
    "L2 = [ ('uno','one') , ('casa','house'), ('automobile','car') ]\n",
    "D2 = costruiredict( L2 )\n",
    "print(D2)"
   ]
  },
  {
   "cell_type": "markdown",
   "id": "41a91bc0",
   "metadata": {},
   "source": [
    "- Dato un dizionario, costruite un altro dizionario invertendo le corrispondenze\n",
    "  `(key,val)` e transformandole in `(val,key)`. Ovvero scambi le chiavi con i valori e viceversa."
   ]
  },
  {
   "cell_type": "code",
   "execution_count": 30,
   "id": "2b2ca6bd-5141-4886-bee2-085c22c1f7ba",
   "metadata": {
    "attributes": {
     "classes": [
      "python3.run"
     ],
     "id": ""
    }
   },
   "outputs": [],
   "source": [
    "def revert(dizionario):\n",
    "    Res = {}\n",
    "    for key in dizionario:\n",
    "        val = dizionario[key]\n",
    "        Res[val] = key\n",
    "    return Res"
   ]
  },
  {
   "cell_type": "code",
   "execution_count": 31,
   "id": "29c448cd-8133-4d3d-8e48-da652dd6a63f",
   "metadata": {
    "attributes": {
     "classes": [
      "python3.run"
     ],
     "id": ""
    }
   },
   "outputs": [
    {
     "name": "stdout",
     "output_type": "stream",
     "text": [
      "{'a': 'A', 'b': 'B', 'c': 'C'}\n"
     ]
    }
   ],
   "source": [
    "D1 = {'A': 'a', 'B': 'b', 'C': 'c'}\n",
    "print( revert(D1) )"
   ]
  },
  {
   "cell_type": "code",
   "execution_count": 32,
   "id": "4a5245bf-53dc-4cd4-a51b-bdead53fa32d",
   "metadata": {
    "attributes": {
     "classes": [
      "python3.run"
     ],
     "id": ""
    }
   },
   "outputs": [
    {
     "name": "stdout",
     "output_type": "stream",
     "text": [
      "{'one': 'uno', 'house': 'casa', 'car': 'automobile'}\n"
     ]
    }
   ],
   "source": [
    "D2 = {'uno': 'one', 'casa': 'house', 'automobile': 'car'}\n",
    "print( revert(D2) )"
   ]
  },
  {
   "cell_type": "markdown",
   "id": "65f382c5",
   "metadata": {},
   "source": [
    "### Riassumendo\n",
    "Abbiamo visto:\n",
    "- il tipo di dato `dict` che realizza il **dizionario**;\n",
    "- operazioni di **ricerca**, **accesso**;\n",
    "- operazioni di **aggiunta** e **cancellazione**;\n",
    "- come ciclare sulle chiavi del dizionario."
   ]
  }
 ],
 "metadata": {
  "kernelspec": {
   "display_name": "Python 3 (ipykernel)",
   "language": "python",
   "name": "python3"
  },
  "language_info": {
   "codemirror_mode": {
    "name": "ipython",
    "version": 3
   },
   "file_extension": ".py",
   "mimetype": "text/x-python",
   "name": "python",
   "nbconvert_exporter": "python",
   "pygments_lexer": "ipython3",
   "version": "3.10.2"
  }
 },
 "nbformat": 4,
 "nbformat_minor": 5
}
