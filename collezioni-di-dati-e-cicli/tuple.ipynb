{
 "cells": [
  {
   "cell_type": "markdown",
   "id": "5006657e",
   "metadata": {},
   "source": [
    "## Tuple\n",
    "\n",
    "In python è possibile raggruppare valori in \"tuple\". Una tupla è una sequenza \n",
    "di valori, ed è denotata come una sequenza di espressioni separare dalla virgola, \n",
    "e delimitate da **parentesi tonde**.\n",
    "\n",
    "**Nota:** \"tupla\" è una generalizzazione di \"tripla\", \"quadrupla\", \"quintupla\", ..."
   ]
  },
  {
   "cell_type": "code",
   "execution_count": 2,
   "id": "0b32b6bf",
   "metadata": {
    "attributes": {
     "classes": [
      "python3.run"
     ],
     "id": ""
    }
   },
   "outputs": [
    {
     "name": "stdout",
     "output_type": "stream",
     "text": [
      "(-2, 6, 'MANIGLIA', 5.3)\n"
     ]
    }
   ],
   "source": [
    "x = ( -2, 6, \"maniglia\".upper() , 1 + 4.3)\n",
    "\n",
    "print(x)"
   ]
  },
  {
   "cell_type": "markdown",
   "id": "4d48fbf8",
   "metadata": {},
   "source": [
    "È utile quando si vogliono tenere insieme dei valori che hanno una relazione logica.\n",
    "Alcune operazioni che abbiamo visto per le strighe funzionano anche con le tuple.\n",
    "- `len` restituisce il numero di valori in una tupla;\n",
    "- lettura dell i-esimo elemento\n",
    "- concatenazione e ripetizione"
   ]
  },
  {
   "cell_type": "code",
   "execution_count": 4,
   "id": "0c53213c-8ca8-43c6-82a5-d07a4b65c25b",
   "metadata": {
    "attributes": {
     "classes": [
      "python3.run"
     ],
     "id": ""
    }
   },
   "outputs": [
    {
     "name": "stdout",
     "output_type": "stream",
     "text": [
      "La tupla ha lunghezza 4\n",
      "-2\n",
      "6\n",
      "MANIGLIA\n",
      "5.3\n"
     ]
    }
   ],
   "source": [
    "x = ( -2, 6, \"maniglia\".upper() , 1 + 4.3)\n",
    "print(\"La tupla ha lunghezza\", len(x))\n",
    "print( x[0] )\n",
    "print( x[1] )\n",
    "print( x[2] )\n",
    "print( x[3] )"
   ]
  },
  {
   "cell_type": "code",
   "execution_count": 6,
   "id": "cbe77fa6-e046-4032-9cad-bb1ee15c7460",
   "metadata": {
    "attributes": {
     "classes": [
      "python3.run"
     ],
     "id": ""
    }
   },
   "outputs": [
    {
     "name": "stdout",
     "output_type": "stream",
     "text": [
      "(-2, 6, 'MANIGLIA', 5.3, 4.5, 9, 'gennaio', 4.5, 9, 'gennaio')\n"
     ]
    }
   ],
   "source": [
    "y = (4.5, 9, \"gennaio\")\n",
    "print( x + y + y)"
   ]
  },
  {
   "cell_type": "code",
   "execution_count": 7,
   "id": "2b982bd8-591d-4764-ae0f-33457bd4fb96",
   "metadata": {
    "attributes": {
     "classes": [
      "python3.run"
     ],
     "id": ""
    }
   },
   "outputs": [
    {
     "name": "stdout",
     "output_type": "stream",
     "text": [
      "(4.5, 9, 'gennaio', 4.5, 9, 'gennaio', 4.5, 9, 'gennaio', 4.5, 9, 'gennaio')\n"
     ]
    }
   ],
   "source": [
    "print( 4* y)"
   ]
  },
  {
   "cell_type": "markdown",
   "id": "1279adcc",
   "metadata": {},
   "source": [
    "Così come per le stringhe, l'indice va da `0` alla lunghezza-1.\n",
    "\n",
    "### Equazione di secondo grado (rivisitata)\n",
    "\n",
    "Nel caso in cui l'equazione abbia due soluzioni, allora le restituiamo entrambe"
   ]
  },
  {
   "cell_type": "code",
   "execution_count": 11,
   "id": "877022d2-81bb-4f2e-b429-c7d746853ee7",
   "metadata": {
    "attributes": {
     "classes": [
      "python3.run"
     ],
     "id": ""
    }
   },
   "outputs": [],
   "source": [
    "import math\n",
    "\n",
    "def secondogrado(A,B,C):\n",
    "    Delta = B**2 - 4*A*C\n",
    "\n",
    "    if Delta < - 0.0000001:  # tolleranza\n",
    "        return \n",
    "\n",
    "    elif Delta < 0.0000001:    # tolleranza\n",
    "        return -B / (2*A)\n",
    "    else:\n",
    "        sol1 = (-B - math.sqrt(Delta)) / 2*A \n",
    "        sol2 = (-B + math.sqrt(Delta)) / 2*A \n",
    "        return (sol1,sol2)"
   ]
  },
  {
   "cell_type": "code",
   "execution_count": 10,
   "id": "93213190-6fdc-42e8-af1e-5c27d356e8d1",
   "metadata": {
    "attributes": {
     "classes": [
      "python3.run"
     ],
     "id": ""
    }
   },
   "outputs": [
    {
     "name": "stdout",
     "output_type": "stream",
     "text": [
      "-1.0\n",
      "1.0\n",
      "(-1.0, 1.0)\n"
     ]
    }
   ],
   "source": [
    "print( secondogrado( 1, 2, 1) )\n",
    "print( secondogrado( 1,-2, 1) )\n",
    "print( secondogrado( 1, 0,-1) )"
   ]
  },
  {
   "cell_type": "markdown",
   "id": "6d9d3a32",
   "metadata": {},
   "source": [
    "### Riassumendo\n",
    "\n",
    "Abbiamo visto\n",
    "- il tipo di dato `tuple`\n",
    "- operazioni di accesso agli elementi della tupla;\n",
    "- operazioni di manipolazione delle tuple;\n",
    "- un esempio di funzione che restituisce una tupla."
   ]
  }
 ],
 "metadata": {
  "kernelspec": {
   "display_name": "Python 3",
   "language": "python",
   "name": "python3"
  },
  "language_info": {
   "codemirror_mode": {
    "name": "ipython",
    "version": 3
   },
   "file_extension": ".py",
   "mimetype": "text/x-python",
   "name": "python",
   "nbconvert_exporter": "python",
   "pygments_lexer": "ipython3",
   "version": "3.10.3"
  }
 },
 "nbformat": 4,
 "nbformat_minor": 5
}
