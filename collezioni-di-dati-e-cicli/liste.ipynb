{
 "cells": [
  {
   "cell_type": "markdown",
   "id": "4fc198b9",
   "metadata": {},
   "source": [
    "## Liste\n",
    "\n",
    "La lista è la struttura dati più importante in Python, e serve a contenere una\n",
    "sequenza di valori. La sintassi è simile a quella delle tuple, ma invece delle parentesi\n",
    "tonde si usano le quadre.\n",
    "\n",
    "Anche per le liste possiamo calcolarne la lunghezza con `len`, possiamo indicizzarle,\n",
    "concatenarle, ripeterle.\n",
    "\n",
    "**Ricordate che le posizioni sono indicizzate a partire da `0`!**\n",
    "\n",
    "Pertanto una lista `x=[\"A\",\"B\",\"C\"]` ha lunghezza `3`, la posizione `0` contiene `\"A\"` e la posizione `2` contiene `\"C\"`."
   ]
  },
  {
   "cell_type": "code",
   "execution_count": 1,
   "id": "d0dc55bb-a89f-4dd4-8f07-4854fe02dc9f",
   "metadata": {
    "attributes": {
     "classes": [
      "python3.run"
     ],
     "id": ""
    }
   },
   "outputs": [
    {
     "name": "stdout",
     "output_type": "stream",
     "text": [
      "[2, 4, 5, 'stringa', 3.4]\n",
      "5\n"
     ]
    }
   ],
   "source": [
    "x = [ 2, 4, 5, \"stringa\", 3.4]\n",
    "\n",
    "print(x)\n",
    "print(len(x))"
   ]
  },
  {
   "cell_type": "code",
   "execution_count": 2,
   "id": "2efcbe17-fce9-42f0-9020-480602fac28b",
   "metadata": {
    "attributes": {
     "classes": [
      "python3.run"
     ],
     "id": ""
    }
   },
   "outputs": [
    {
     "name": "stdout",
     "output_type": "stream",
     "text": [
      "2\n",
      "4\n",
      "5\n",
      "stringa\n",
      "3.4\n"
     ]
    }
   ],
   "source": [
    "print(x[0])\n",
    "print(x[1])\n",
    "print(x[2])\n",
    "print(x[3])\n",
    "print(x[4])"
   ]
  },
  {
   "cell_type": "code",
   "execution_count": 5,
   "id": "202fccbe-0e01-49f0-9ff8-3e7710fd9b87",
   "metadata": {
    "attributes": {
     "classes": [
      "python3.run"
     ],
     "id": ""
    }
   },
   "outputs": [
    {
     "name": "stdout",
     "output_type": "stream",
     "text": [
      "[2, 4, 5, 'stringa', 3.4, 2, 4, 5, 'stringa', 3.4, 2, 4, 5, 'stringa', 3.4]\n"
     ]
    }
   ],
   "source": [
    "print ( 3 * x)"
   ]
  },
  {
   "cell_type": "code",
   "execution_count": 4,
   "id": "3c02d89c-a827-42b4-b6f8-ca4054a1e762",
   "metadata": {
    "attributes": {
     "classes": [
      "python3.run"
     ],
     "id": ""
    }
   },
   "outputs": [
    {
     "name": "stdout",
     "output_type": "stream",
     "text": [
      "[2, 4, 5, 'stringa', 3.4, 1, 1, 1]\n"
     ]
    }
   ],
   "source": [
    "print( x + [1,1,1] )"
   ]
  },
  {
   "cell_type": "markdown",
   "id": "f1bd838c",
   "metadata": {},
   "source": [
    "### Ma sono come le tuple! Allora a che servono le liste?\n",
    "\n",
    "Le liste possono **essere modificate**! Al contrario dei numeri, delle stringhe, dei booleani e **delle tuple**, la lista è la primo tipo di dato che vediamo che può essere modificato. Si può\n",
    "\n",
    "- modificarne i valore nelle singole posizioni;\n",
    "- inserire o eliminare un valore alla fine con `append` e `pop`;\n",
    "- inserire o eliminate un valore alla posizione i-esima con `insert` e `pop`;\\."
   ]
  },
  {
   "cell_type": "code",
   "execution_count": 7,
   "id": "24bd185e-e0c3-499d-80b1-d59129ae9e3d",
   "metadata": {
    "attributes": {
     "classes": [
      "python3.run"
     ],
     "id": ""
    }
   },
   "outputs": [
    {
     "name": "stdout",
     "output_type": "stream",
     "text": [
      "['a', 'casa', 21, 'trenta', 5]\n"
     ]
    }
   ],
   "source": [
    "x = [\"a\",\"casa\",21,\"trenta\",5]\n",
    "print(x)"
   ]
  },
  {
   "cell_type": "code",
   "execution_count": 8,
   "id": "0ccfaf91-8967-4bee-bef2-69cbf2887ec8",
   "metadata": {
    "attributes": {
     "classes": [
      "python3.run"
     ],
     "id": ""
    }
   },
   "outputs": [
    {
     "name": "stdout",
     "output_type": "stream",
     "text": [
      "['a', 'casa', 3.6, 'trenta', 5]\n"
     ]
    }
   ],
   "source": [
    "# Modifica di un valore\n",
    "x[2] = 3.6\n",
    "print(x)"
   ]
  },
  {
   "cell_type": "code",
   "execution_count": 6,
   "id": "5a1be22e-7b15-498f-9539-94005122cd43",
   "metadata": {
    "attributes": {
     "classes": [
      "python3.run"
     ],
     "id": ""
    }
   },
   "outputs": [],
   "source": [
    "# Elimina l'ultimo valore\n",
    "x.pop()\n",
    "print(x)"
   ]
  },
  {
   "cell_type": "code",
   "execution_count": 6,
   "id": "f403182b-591f-4725-8bb0-0ce18526c14f",
   "metadata": {
    "attributes": {
     "classes": [
      "python3.run"
     ],
     "id": ""
    }
   },
   "outputs": [],
   "source": [
    "# Aggiunge un valore in coda \n",
    "x.append(\"gatto\")\n",
    "print(x)"
   ]
  },
  {
   "cell_type": "code",
   "execution_count": 9,
   "id": "4e2b37e1-421b-4b90-9bd5-d09047c341c8",
   "metadata": {
    "attributes": {
     "classes": [
      "python3.run"
     ],
     "id": ""
    }
   },
   "outputs": [
    {
     "name": "stdout",
     "output_type": "stream",
     "text": [
      "['a', 'A', 'casa', 3.6, 'trenta', 5]\n",
      "['a', 'A', 'casa', 'B', 3.6, 'trenta', 5]\n"
     ]
    }
   ],
   "source": [
    "# Inserisce valori (traslando i seguenti verso destra)\n",
    "x.insert(1,\"A\")\n",
    "print(x)\n",
    "x.insert(3,\"B\")\n",
    "print(x)"
   ]
  },
  {
   "cell_type": "code",
   "execution_count": 14,
   "id": "63c60fc8-1ceb-4100-a8b5-aa082e9ca07f",
   "metadata": {
    "attributes": {
     "classes": [
      "python3.run"
     ],
     "id": ""
    }
   },
   "outputs": [
    {
     "name": "stdout",
     "output_type": "stream",
     "text": [
      "['A', 'casa']\n"
     ]
    }
   ],
   "source": [
    "# Elimina valori (traslando i seguenti verso sinistra)\n",
    "x.pop(2)\n",
    "print(x)"
   ]
  },
  {
   "cell_type": "code",
   "execution_count": 10,
   "id": "ab0475aa-1bca-49b2-8f42-38a7043c02f9",
   "metadata": {
    "attributes": {
     "classes": [
      "python3.run"
     ],
     "id": ""
    }
   },
   "outputs": [
    {
     "name": "stdout",
     "output_type": "stream",
     "text": [
      "['A', 'casa', 'B', 3.6, 'trenta', 5]\n"
     ]
    }
   ],
   "source": [
    "x.pop(0)\n",
    "print(x)"
   ]
  },
  {
   "cell_type": "markdown",
   "id": "1216d1f3",
   "metadata": {},
   "source": [
    "e ancora...\n",
    "- rovesciare la lista con `reverse`;\n",
    "- aggiungere tanti valori con `extend`."
   ]
  },
  {
   "cell_type": "code",
   "execution_count": 19,
   "id": "0bc134a1-fd8e-4201-b44c-44607b2fd17c",
   "metadata": {
    "attributes": {
     "classes": [
      "python3.run"
     ],
     "id": ""
    }
   },
   "outputs": [
    {
     "name": "stdout",
     "output_type": "stream",
     "text": [
      "['a', 'casa', 21, 'trenta', 5]\n"
     ]
    }
   ],
   "source": [
    "x = [\"a\",\"casa\",21,\"trenta\",5]\n",
    "print(x)"
   ]
  },
  {
   "cell_type": "code",
   "execution_count": 20,
   "id": "b65df0c6-0ed0-42ac-9180-23e4d8b13544",
   "metadata": {
    "attributes": {
     "classes": [
      "python3.run"
     ],
     "id": ""
    }
   },
   "outputs": [
    {
     "name": "stdout",
     "output_type": "stream",
     "text": [
      "[5, 'trenta', 21, 'casa', 'a']\n"
     ]
    }
   ],
   "source": [
    "x.reverse()\n",
    "print(x)"
   ]
  },
  {
   "cell_type": "code",
   "execution_count": 21,
   "id": "828dfb43-ae0d-45fe-a1ea-008fee3f1017",
   "metadata": {
    "attributes": {
     "classes": [
      "python3.run"
     ],
     "id": ""
    }
   },
   "outputs": [
    {
     "name": "stdout",
     "output_type": "stream",
     "text": [
      "[5, 'trenta', 21, 'casa', 'a', 1, 2, 3, 3, 2, 1]\n"
     ]
    }
   ],
   "source": [
    "x.extend([1,2,3,3,2,1])\n",
    "print(x)"
   ]
  },
  {
   "cell_type": "markdown",
   "id": "0139819d",
   "metadata": {},
   "source": [
    "Fate attenzione alla differenza tra `append` e `extend`."
   ]
  },
  {
   "cell_type": "code",
   "execution_count": 22,
   "id": "eea685cd-1760-4cfc-abc7-49f89b9786d5",
   "metadata": {
    "attributes": {
     "classes": [
      "python3.run"
     ],
     "id": ""
    }
   },
   "outputs": [],
   "source": [
    "x = [1,2,3,4]\n",
    "y = [1,2,3,4]"
   ]
  },
  {
   "cell_type": "code",
   "execution_count": 23,
   "id": "6734e94b-0f89-4abf-bc0a-b31aff4a3406",
   "metadata": {
    "attributes": {
     "classes": [
      "python3.run"
     ],
     "id": ""
    }
   },
   "outputs": [
    {
     "name": "stdout",
     "output_type": "stream",
     "text": [
      "[1, 2, 3, 4, [5, 6, 7, 8]]\n",
      "5\n"
     ]
    }
   ],
   "source": [
    "x.append([5,6,7,8])\n",
    "print(x)\n",
    "print(len(x))"
   ]
  },
  {
   "cell_type": "code",
   "execution_count": 24,
   "id": "9f15aafd-7eb9-4c46-b34b-a23527c6fde9",
   "metadata": {
    "attributes": {
     "classes": [
      "python3.run"
     ],
     "id": ""
    }
   },
   "outputs": [
    {
     "name": "stdout",
     "output_type": "stream",
     "text": [
      "[1, 2, 3, 4, 5, 6, 7, 8]\n",
      "8\n"
     ]
    }
   ],
   "source": [
    "y.extend([5,6,7,8])\n",
    "print(y)\n",
    "print(len(y))"
   ]
  },
  {
   "cell_type": "markdown",
   "id": "3bd0924c",
   "metadata": {},
   "source": [
    "### La lista vuota\n",
    "\n",
    "Una lista è vuota se ha lunghezza zero, e si denota `[]`."
   ]
  },
  {
   "cell_type": "code",
   "execution_count": 25,
   "id": "f5000f2d",
   "metadata": {
    "attributes": {
     "classes": [
      "python3.run"
     ],
     "id": ""
    }
   },
   "outputs": [
    {
     "name": "stdout",
     "output_type": "stream",
     "text": [
      "[]\n",
      "0\n"
     ]
    }
   ],
   "source": [
    "x = []\n",
    "print(x)\n",
    "print(len(x))"
   ]
  },
  {
   "cell_type": "markdown",
   "id": "e2451e31",
   "metadata": {},
   "source": [
    "### Riferimenti multipli alla stessa lista\n",
    "\n",
    "Osservate il seguente codice"
   ]
  },
  {
   "cell_type": "code",
   "execution_count": 27,
   "id": "393f72ee-a436-4ee6-81ec-2f2897e1edae",
   "metadata": {
    "attributes": {
     "classes": [
      "python3.run"
     ],
     "id": ""
    }
   },
   "outputs": [
    {
     "name": "stdout",
     "output_type": "stream",
     "text": [
      "['a', 'b', 'c']\n",
      "['a', 'b', 'c']\n"
     ]
    }
   ],
   "source": [
    "x = ['a','b','c']\n",
    "y = x\n",
    "print(x)\n",
    "print(y)"
   ]
  },
  {
   "cell_type": "code",
   "execution_count": 28,
   "id": "7da794b4-bb45-4c55-a146-774ceff36de1",
   "metadata": {
    "attributes": {
     "classes": [
      "python3.run"
     ],
     "id": ""
    }
   },
   "outputs": [
    {
     "name": "stdout",
     "output_type": "stream",
     "text": [
      "['A', 'b', 'c']\n",
      "['A', 'b', 'c']\n"
     ]
    }
   ],
   "source": [
    "x[0] = 'A'\n",
    "print(x)\n",
    "print(y)"
   ]
  },
  {
   "cell_type": "markdown",
   "id": "9f8e14f5",
   "metadata": {},
   "source": [
    "Abbiamo modificato solamente `x`, ma **anche** la lista `y` è cambiata! Come mai?\n",
    "\n",
    "In realtà l'assegnamento `y = x` non copia la lista in `x` in `y`, ma copia il suo **riferimento**.\n",
    "Non entriamo nei dettagli tecnici, basti sapere che adesso abbiamo due variabili che si riferiscono \n",
    "alla stessa lista, e che quindi ogni modifica fatta ad `x` verrà osservata anche in `y`.\n",
    "\n",
    "Accade qualcosa di simile anche per tuple e stringhe, ma poiché questi tipi di dati non possono essere modificati, non ci sono sorprese di questo tipo.\n",
    "\n",
    "\n",
    "### Ordinare una lista\n",
    "\n",
    "Quando una lista è costituita da tutti elementi confrontabili tra loro,\n",
    "allora la funzione predefinita `sorted` può ordinarla. \n",
    "\n",
    "Notate che la lista originale non viene modificata: `sorted` ne restituisce una nuova. \n",
    "Se invece vogliamo che sia la lista originale ad essere modificata, dobbiamo usare il metodo `sort`.\n",
    "Il metodo `sort` non restituisce valore ma ordina la lista su cui viene applicato."
   ]
  },
  {
   "cell_type": "code",
   "execution_count": 29,
   "id": "24b389ee-c3e8-4a6d-93b6-d6a317f4d2c3",
   "metadata": {
    "attributes": {
     "classes": [
      "python3.run"
     ],
     "id": ""
    }
   },
   "outputs": [
    {
     "name": "stdout",
     "output_type": "stream",
     "text": [
      "['casa', 'gatto', 'abaco']\n",
      "['abaco', 'casa', 'gatto']\n"
     ]
    }
   ],
   "source": [
    "x = [\"casa\", \"gatto\", \"abaco\"]\n",
    "y = sorted(x)\n",
    "print(x)\n",
    "print(y)"
   ]
  },
  {
   "cell_type": "code",
   "execution_count": 30,
   "id": "02bb5945-6ed0-4157-ad61-c31c1bd07ec0",
   "metadata": {
    "attributes": {
     "classes": [
      "python3.run"
     ],
     "id": ""
    }
   },
   "outputs": [
    {
     "name": "stdout",
     "output_type": "stream",
     "text": [
      "['abaco', 'casa', 'gatto']\n"
     ]
    }
   ],
   "source": [
    "x.sort()\n",
    "print(x)"
   ]
  },
  {
   "cell_type": "markdown",
   "id": "8c597779",
   "metadata": {},
   "source": [
    "**Esercizio:** si possono convertire trasformare alcuni tipi di dati in un lista con la funzione\n",
    "di conversione `list`, simile a come abbiamo fatto per altre conversioni. Che succede se a `list`\n",
    "diamo come argomento\n",
    "- un numero intero,\n",
    "- una stringa,\n",
    "- una tupla?\n",
    "\n",
    "### Riassumendo\n",
    "Abbiamo visto\n",
    "- il tipo di dato **lista**;\n",
    "- come si **crea** una lista;\n",
    "- le operazioni principali sulla lista, **comuni anche a tuple e stringhe**;\n",
    "- varie operazioni che **modificano** la lista;\n",
    "- l'effetto di **multipli riferimenti** ad una lista;\n",
    "- come **ordinare** liste con `sorted` e il metodo `sort`."
   ]
  }
 ],
 "metadata": {
  "kernelspec": {
   "display_name": "Python 3",
   "language": "python",
   "name": "python3"
  },
  "language_info": {
   "codemirror_mode": {
    "name": "ipython",
    "version": 3
   },
   "file_extension": ".py",
   "mimetype": "text/x-python",
   "name": "python",
   "nbconvert_exporter": "python",
   "pygments_lexer": "ipython3",
   "version": "3.10.3"
  }
 },
 "nbformat": 4,
 "nbformat_minor": 5
}
