{
 "cells": [
  {
   "cell_type": "markdown",
   "id": "1f08fcc9",
   "metadata": {},
   "source": [
    "## Cicli for\n",
    "\n",
    "Con i costrutti `if` `elif` `else` e le funzioni abbiamo visto che il *flusso del programma*\n",
    "può evolvere in maniera non necessariamente lineare. Il ciclo `for` permette di\n",
    "**ripetere** numerose volte la stessa porzione di codice:\n",
    "- ogni ripetizione produce un piccolo progresso;\n",
    "- l'esecuzione complessiva produce un grande effetto.\n",
    "\n",
    "Come sempre, prima di discutere sintassi e funzionamento esatto, partiamo \n",
    "con un esempio concreto."
   ]
  },
  {
   "cell_type": "code",
   "execution_count": 1,
   "id": "06ced559",
   "metadata": {
    "attributes": {
     "classes": [
      "python3.run"
     ],
     "id": ""
    }
   },
   "outputs": [
    {
     "name": "stdout",
     "output_type": "stream",
     "text": [
      "1\n",
      "5\n",
      "78\n",
      "3\n",
      "6\n"
     ]
    }
   ],
   "source": [
    "lista = [1,5,78,3,6]\n",
    "\n",
    "for x in lista:\n",
    "    print(x)"
   ]
  },
  {
   "cell_type": "markdown",
   "id": "95ac4ad8",
   "metadata": {},
   "source": [
    "Il ciclo ripete l'istruzione `print(x)` con `x` che assume uno alla volta il valore degli elementi\n",
    "in `lista`.\n",
    "\n",
    "La sua sintassi è la seguente:"
   ]
  },
  {
   "cell_type": "markdown",
   "id": "15fede74-7844-4508-a34a-937e6d68b117",
   "metadata": {},
   "source": [
    "```python\n",
    "for <var> in <seq>: \n",
    "    <istruzione1>\n",
    "    <istruzione2>\n",
    "    <istruzione3>\n",
    "    ...\n",
    "```"
   ]
  },
  {
   "cell_type": "markdown",
   "id": "90e88477",
   "metadata": {},
   "source": [
    "`<var>` è il nome di una variabile (non necessariamente esistente) che assumerà \n",
    "uno ad uno il valore degli elementi di <seq>, che può essere una  qualunque espressione che ha come valore una sequenza. Ad ogni ripetizione viene eseguito il blocco di codice sottostante il comando `for`. La riga del comando `for` termina con i due punti, e quindi le righe\n",
    "successive devono formare un blocco di codice indentato verso destra. Se la lista  contiene `N` elementi, il  codice contenuto all'interno del ciclo viene  eseguito `N` volte.\n",
    "\n",
    "\n",
    "Vediamo ancora una semplice stampa di tutti gli elementi della sequenza."
   ]
  },
  {
   "cell_type": "code",
   "execution_count": 2,
   "id": "ceb6bb40",
   "metadata": {
    "attributes": {
     "classes": [
      "python3.run"
     ],
     "id": ""
    }
   },
   "outputs": [
    {
     "name": "stdout",
     "output_type": "stream",
     "text": [
      "1\n",
      "15\n",
      "7\n",
      "casagatto\n",
      "-6\n"
     ]
    }
   ],
   "source": [
    "seq = [1, 15, 2+5, \"casa\"+\"gatto\", -6]\n",
    "\n",
    "for x in (1, 15, 2+5) + (\"casa\"+\"gatto\", -6):\n",
    "    print(x)"
   ]
  },
  {
   "cell_type": "markdown",
   "id": "b35da3ee",
   "metadata": {},
   "source": [
    "### Esempi d'uso del ciclo `for`\n",
    "\n",
    "Non c'è molto da dire su come si usa il ciclo `for`. La sintassi dovrebbe essere chiara, \n",
    "così come il suo funzionamento. Tuttavia quello che serve ora sono diversi esempi per comprenderne l'uso e le possibilità. Naturalmente questi esempi sono\n",
    "- elementari,\n",
    "- non coprono tutte le infinite possibilità d'uso,\n",
    "- possono essere combinati assieme.\n",
    "\n",
    "#### Trasformazione: tutto maiuscolo"
   ]
  },
  {
   "cell_type": "code",
   "execution_count": 3,
   "id": "92f12526",
   "metadata": {
    "attributes": {
     "classes": [
      "python3.run"
     ],
     "id": ""
    }
   },
   "outputs": [
    {
     "name": "stdout",
     "output_type": "stream",
     "text": [
      "['CANE', 'GATTO', 'CANARINO', 'GALLO']\n"
     ]
    }
   ],
   "source": [
    "sorgente = [\"cane\", \"gatto\", \"canarino\", \"gallo\"]\n",
    "destinazione = []\n",
    "\n",
    "for x in sorgente:\n",
    "    destinazione.append( x.upper() )\n",
    "    \n",
    "print(destinazione)"
   ]
  },
  {
   "cell_type": "markdown",
   "id": "ad0cc24e",
   "metadata": {},
   "source": [
    "Questo esempio è tipico: data una lista, vogliamo produrne un'altra della stessa lunghezza\n",
    "dove gli elementi della nuova lista sono una **trasformazione** dei corrispondenti elementi della lista vecchia. Per far questo:\n",
    "1. creiamo un lista vuota,\n",
    "2. per ogni elemento della lista vecchia aggiungiamo in coda alla nuova lista \n",
    "  l'elemento trasformato.\n",
    "\n",
    "Certo, adesso potremmo definire una funzione che fa la stessa cosa:\n",
    "- il ciclo `for` sarà all'interno della funzione;\n",
    "- la lista vuota viene creata e popolata all'interno della funzione;\n",
    "- la lista popolata viene restituita al programma chiamante;\n",
    "- vedete che ad ogni chiamata di funzione viene prodotta una **nuova** lista."
   ]
  },
  {
   "cell_type": "code",
   "execution_count": 9,
   "id": "a3ab6569-e02f-4a1c-ae18-fcf5c01986a0",
   "metadata": {
    "attributes": {
     "classes": [
      "python3.run"
     ],
     "id": ""
    }
   },
   "outputs": [],
   "source": [
    "def tuttomaiuscolo(seq):\n",
    "    risultato = []\n",
    "    for x in seq:\n",
    "        risultato.append( x.upper() )\n",
    "    return risultato"
   ]
  },
  {
   "cell_type": "code",
   "execution_count": 10,
   "id": "5fda5a8b-b5b9-41c5-baa6-b3c5efe3bac0",
   "metadata": {
    "attributes": {
     "classes": [
      "python3.run"
     ],
     "id": ""
    }
   },
   "outputs": [
    {
     "name": "stdout",
     "output_type": "stream",
     "text": [
      "['CANE', 'GATTO', 'CANARINO', 'GALLO']\n",
      "['NAVE', 'AUTOMOBILE', 'MOTO', 'AEREO']\n",
      "['STORIA', 'GEOGRAFIA', 'EDUCAZIONE CIVICA', 'LETTERE']\n"
     ]
    }
   ],
   "source": [
    "sorgente1 = [\"cane\", \"gatto\", \"canarino\", \"gallo\"]\n",
    "sorgente2 = [\"nave\", \"automobile\", \"moto\", \"aereo\"]\n",
    "sorgente3 = [\"storia\", \"geografia\", \"educazione civica\", \"lettere\"]\n",
    "\n",
    "destinazione1 =  tuttomaiuscolo(sorgente1)\n",
    "destinazione2 =  tuttomaiuscolo(sorgente2)\n",
    "destinazione3 =  tuttomaiuscolo(sorgente3)\n",
    "\n",
    "print( destinazione1  )\n",
    "print( destinazione2  )\n",
    "print( destinazione3  )"
   ]
  },
  {
   "cell_type": "markdown",
   "id": "ed5585c0",
   "metadata": {},
   "source": [
    "**Esercizio:** scrivete una funzione che prenda come parametro una lista\n",
    "di strighe, e restituisca una lista con le rispettive lunghezze.\n",
    "\n",
    "#### Trasformazione: numeri al cubo"
   ]
  },
  {
   "cell_type": "code",
   "execution_count": 11,
   "id": "8d91441e-aa1c-434d-ba1d-da571ab88e40",
   "metadata": {
    "attributes": {
     "classes": [
      "python3.run"
     ],
     "id": ""
    }
   },
   "outputs": [],
   "source": [
    "def numerialcubo(numeri):\n",
    "    cubi = []\n",
    "    for numero in numeri:\n",
    "        cubi.append( numero**3)\n",
    "    return cubi"
   ]
  },
  {
   "cell_type": "code",
   "execution_count": 13,
   "id": "110d2957-4ccc-4f83-83f1-330d21248460",
   "metadata": {
    "attributes": {
     "classes": [
      "python3.run"
     ],
     "id": ""
    }
   },
   "outputs": [
    {
     "name": "stdout",
     "output_type": "stream",
     "text": [
      "[1, 8, 27, 64, 125]\n"
     ]
    }
   ],
   "source": [
    "L1 = [1, 2, 3, 4, 5]\n",
    "print( numerialcubo(L1) )"
   ]
  },
  {
   "cell_type": "code",
   "execution_count": 14,
   "id": "2038c3f8-9ee4-4fdb-8d14-631704a263d3",
   "metadata": {
    "attributes": {
     "classes": [
      "python3.run"
     ],
     "id": ""
    }
   },
   "outputs": [
    {
     "name": "stdout",
     "output_type": "stream",
     "text": [
      "[-64, 1728, 91.125, 27, 0.125]\n"
     ]
    }
   ],
   "source": [
    "L2 = [ -4, 12, 4.5, 3, 0.5]\n",
    "print( numerialcubo(L2) )"
   ]
  },
  {
   "cell_type": "markdown",
   "id": "df9c3d52",
   "metadata": {},
   "source": [
    "Come vedete lo stile del programma è simile a quello del programma precedente.\n",
    "E infatti il paradigma è lo stesso: elaboriamo uno ad uno gli elementi di una lista (o sequenza) in \n",
    "ingresso ed emettiamo il risultato su una lista in uscita.\n",
    "\n",
    "**Esercizio:** scrivete una funzione che prenda come parametro una lista\n",
    "di numeri positivi, e restituisca una lista contentente stringhe costituite da sole `'a'`,\n",
    "di lunghezza pari al numero nella rispettiva posizione.\n",
    "- Esempio: con parametro `[3,5,2]` deve produrre `[\"aaa\", \"aaaaa\", \"aa\"]`\n",
    "- Suggerimento: ricordate la moltiplicazione tra un numero e una stringa?\n",
    "\n",
    "#### Statistiche : conteggio\n",
    "\n",
    "Sappiamo che la funzione `len` ci dice quanti elementi ci sono in una sequenza.\n",
    "Proviamo a scrivere noi una funzione che si comporta allo stesso modo. L'idea è\n",
    "- inizializzre un **contatore** a 0,\n",
    "- e per ogni elemento della lista **incrementare il contatore** di 1."
   ]
  },
  {
   "cell_type": "code",
   "execution_count": 15,
   "id": "7c21c83a-38c5-4d6e-9c98-a8b96c39c7ec",
   "metadata": {
    "attributes": {
     "classes": [
      "python3.run"
     ],
     "id": ""
    }
   },
   "outputs": [],
   "source": [
    "def lunghezza(seq):\n",
    "    cnt = 0\n",
    "    for x in seq:\n",
    "        cnt = cnt + 1\n",
    "    return cnt"
   ]
  },
  {
   "cell_type": "code",
   "execution_count": 16,
   "id": "7ad214a8-f29b-41f2-959e-4bebccddc62a",
   "metadata": {
    "attributes": {
     "classes": [
      "python3.run"
     ],
     "id": ""
    }
   },
   "outputs": [
    {
     "name": "stdout",
     "output_type": "stream",
     "text": [
      "4\n",
      "3\n",
      "5\n",
      "8\n",
      "5\n"
     ]
    }
   ],
   "source": [
    "I1 = [\"cane\", \"gatto\", \"canarino\", \"gallo\"]\n",
    "I2 = [\"nave\", \"automobile\", \"aereo\"]\n",
    "I3 = [\"storia\", \"geografia\", \"educazione civica\", \"lettere\", \"ginnastica\"]\n",
    "I4 = [1, 2, 3, 4, 5, 6, 7, 8]\n",
    "I5 = [ -4, 12, 4.5, 3, 0.5]\n",
    "\n",
    "print( lunghezza(I1) )\n",
    "print( lunghezza(I2) )\n",
    "print( lunghezza(I3) )\n",
    "print( lunghezza(I4) )\n",
    "print( lunghezza(I5) )"
   ]
  },
  {
   "cell_type": "markdown",
   "id": "258609ae",
   "metadata": {},
   "source": [
    "#### Statistiche: somma totale\n",
    "\n",
    "Data una lista di numeri, Python ha la funzione predefinita `sum` che produce la somma \n",
    "di questi numeri. Proviamo a scrivere noi una funzione che si comporta allo stesso modo. \n",
    "L'idea è simile a quella dell'esempio precedente:\n",
    "- inizializzare un **accumulatore** a 0;\n",
    "- sommare all'accumulatore ogni elemento della lista."
   ]
  },
  {
   "cell_type": "code",
   "execution_count": 19,
   "id": "0e85dd57-1473-4abe-8e0b-39fd5fc2cc8d",
   "metadata": {
    "attributes": {
     "classes": [
      "python3.run"
     ],
     "id": ""
    }
   },
   "outputs": [],
   "source": [
    "def sommatotale(seq):\n",
    "    somma = 0\n",
    "    for x in seq:\n",
    "        somma = somma + x\n",
    "    return somma"
   ]
  },
  {
   "cell_type": "code",
   "execution_count": 20,
   "id": "220d473f-cdc6-4d9b-b0a6-bdd90a27b28a",
   "metadata": {
    "attributes": {
     "classes": [
      "python3.run"
     ],
     "id": ""
    }
   },
   "outputs": [
    {
     "name": "stdout",
     "output_type": "stream",
     "text": [
      "36\n"
     ]
    }
   ],
   "source": [
    "I1 = [1, 2, 3, 4, 5, 6, 7, 8]\n",
    "print( sommatotale(I1) )"
   ]
  },
  {
   "cell_type": "code",
   "execution_count": 21,
   "id": "04ee999b-b02b-40c0-94d2-7ebdb9a92e29",
   "metadata": {
    "attributes": {
     "classes": [
      "python3.run"
     ],
     "id": ""
    }
   },
   "outputs": [
    {
     "name": "stdout",
     "output_type": "stream",
     "text": [
      "16.0\n"
     ]
    }
   ],
   "source": [
    "I2 = [ -4, 12, 4.5, 3, 0.5]\n",
    "print( sommatotale(I2) )"
   ]
  },
  {
   "cell_type": "markdown",
   "id": "ab4ce2d2",
   "metadata": {},
   "source": [
    "**Esercizio:** invece della somma, calcolate la media aritmetica.\n",
    "\n",
    "#### Filtraggio: solo i valori positivi\n",
    "\n",
    "Adesso vediamo un altro paradigma di elaborazione di sequenze: **selezioniamo** da \n",
    "una lista **solo gli elementi**  che rispettano certe condizioni. Ad esempio data \n",
    "una lista di numeri filtriamo quelli che non sono strettamente maggiori di 0. \n",
    "\n",
    "L'idea è simile alla trasformazione di una lista. Tuttavia ad ogni ripetizione l'elemento viene aggiunto alla lista solo se rispetta la proprietà desiderata."
   ]
  },
  {
   "cell_type": "code",
   "execution_count": 23,
   "id": "48a2ed9a-b85f-4bbf-a6c2-7572945038f1",
   "metadata": {
    "attributes": {
     "classes": [
      "python3.run"
     ],
     "id": ""
    }
   },
   "outputs": [],
   "source": [
    "def filtrapositivi(seq):\n",
    "    res = []\n",
    "    for x in seq:\n",
    "        if x > 0:\n",
    "            res.append(x)\n",
    "    return res"
   ]
  },
  {
   "cell_type": "code",
   "execution_count": 24,
   "id": "2cf666e9-b99c-4e9d-8481-c86152bb048b",
   "metadata": {
    "attributes": {
     "classes": [
      "python3.run"
     ],
     "id": ""
    }
   },
   "outputs": [
    {
     "name": "stdout",
     "output_type": "stream",
     "text": [
      "[1, 4, 6, 7, 8]\n"
     ]
    }
   ],
   "source": [
    "I1 = [1, -2, -3, 4, -5, 6, 7, 8]\n",
    "print( filtrapositivi(I1) )"
   ]
  },
  {
   "cell_type": "code",
   "execution_count": 25,
   "id": "4768046c-520b-485f-bcb0-e6b780ee83f9",
   "metadata": {
    "attributes": {
     "classes": [
      "python3.run"
     ],
     "id": ""
    }
   },
   "outputs": [
    {
     "name": "stdout",
     "output_type": "stream",
     "text": [
      "[12, 3, 0.5]\n"
     ]
    }
   ],
   "source": [
    "I2 = [ -4, 12, -4.5, 3, 0.5]\n",
    "print( filtrapositivi(I2) )"
   ]
  },
  {
   "cell_type": "markdown",
   "id": "7781e770",
   "metadata": {},
   "source": [
    "**Esercizio:** quando si eseguono analisi di dati, spesso è necessario filtrare e pulire\n",
    "i dati da osservazioni errate, o valori mancanti, o sporchi. Combinate l'esempio del filtraggio\n",
    "e della somma totale e scrivere le seguenti funzioni.\n",
    "1. Una funzione che data una lista di stringhe, conta quante sono quelle di lunghezza maggiore di 5.\n",
    "1. Come la funzione precedente, ma la lunghezza minima adesso deve essere un parametro.\n",
    "   \n",
    "   Esempio: con parametri `[\"casa\", \"cervo\", \"bue\"]` e 4, deve restituire 2.\n",
    "\n",
    "   Esempio: con parametri `[\"casa\", \"cervo\", \"bue\"]` e 5, deve restituire 1.\n",
    "\n",
    "1. Uuna funzione che data una lista di numeri, calcoli la somma dei soli positivi.  \n",
    "\n",
    "\n",
    "#### Generatore di valori: i primi `n` quadrati\n",
    "\n",
    "In questo caso l'input **non è una sequenza**. Vogliamo generare una lista\n",
    "contentente i primi `n` numeri quadrati. In un certo senso questo è simile\n",
    "al paradigma in cui si trasforma la lista `[1,...,n]` applicando il quadrato \n",
    "ad ogni suo elemento. \n",
    "- Problema: non abbiamo la lista `[1,...,n]` come input, ma solo il numero `n`.\n",
    "- Soluzione: usiamo `range`!"
   ]
  },
  {
   "cell_type": "code",
   "execution_count": 26,
   "id": "1133fc30-d6ae-4e1a-ac8c-3ffd8064aedd",
   "metadata": {
    "attributes": {
     "classes": [
      "python3.run"
     ],
     "id": ""
    }
   },
   "outputs": [],
   "source": [
    "def primiquadrati(n):\n",
    "    out = []\n",
    "    for i in range(1,n+1):\n",
    "       out.append(i**2)\n",
    "    return out"
   ]
  },
  {
   "cell_type": "code",
   "execution_count": 27,
   "id": "64c5ff6d-c5a8-479e-8df2-7b093d68e729",
   "metadata": {
    "attributes": {
     "classes": [
      "python3.run"
     ],
     "id": ""
    }
   },
   "outputs": [
    {
     "name": "stdout",
     "output_type": "stream",
     "text": [
      "[1, 4, 9, 16, 25, 36, 49, 64, 81, 100]\n",
      "[1, 4, 9, 16]\n",
      "[]\n"
     ]
    }
   ],
   "source": [
    "print( primiquadrati(10) )\n",
    "print( primiquadrati(4) )\n",
    "print( primiquadrati(0) )"
   ]
  },
  {
   "cell_type": "markdown",
   "id": "4396a7a7",
   "metadata": {},
   "source": [
    "**Esercizio:** scrivete una funzione con un singolo parametro `n` che generi la lista \n",
    "dei numeri divisibili per `5`.\n",
    "\n",
    "### Due modi di ciclare su una lista\n",
    "\n",
    "Vediamo un modo alternativo di ciclare su una sequenza. Invece di ciclare\n",
    "con `for x in seq:` e poi usare `x` per riferirci agli elementi, possiamo osservare che\n",
    "- si può accedete all'elemento i-esimo di `seq` usando `seq[i]`\n",
    "- le posizioni accessibili di `seq` vanno da `0` a `len(seq)-1` incluso."
   ]
  },
  {
   "cell_type": "code",
   "execution_count": 28,
   "id": "0367e332-6752-4bf0-b4db-1dfdab81719a",
   "metadata": {
    "attributes": {
     "classes": [
      "python3.run"
     ],
     "id": ""
    }
   },
   "outputs": [],
   "source": [
    "seq = ('miao', 32, 'casa', 'gatto', -7, 1.2)"
   ]
  },
  {
   "cell_type": "code",
   "execution_count": 29,
   "id": "6ae36e49-1f3b-4b2e-92ac-1b81ba6d0efc",
   "metadata": {
    "attributes": {
     "classes": [
      "python3.run"
     ],
     "id": ""
    }
   },
   "outputs": [
    {
     "name": "stdout",
     "output_type": "stream",
     "text": [
      "miao\n",
      "32\n",
      "casa\n",
      "gatto\n",
      "-7\n",
      "1.2\n"
     ]
    }
   ],
   "source": [
    "# cicliamo per elemento\n",
    "for x in seq:\n",
    "    print(x)"
   ]
  },
  {
   "cell_type": "code",
   "execution_count": 30,
   "id": "b20bd579-b96e-4caa-bab0-0c92d7ef402c",
   "metadata": {
    "attributes": {
     "classes": [
      "python3.run"
     ],
     "id": ""
    }
   },
   "outputs": [
    {
     "name": "stdout",
     "output_type": "stream",
     "text": [
      "miao\n",
      "32\n",
      "casa\n",
      "gatto\n",
      "-7\n",
      "1.2\n"
     ]
    }
   ],
   "source": [
    "# range(len(seq)) produce 0,1,...,len(seq)-1.\n",
    "for i in range(len(seq)): \n",
    "    print( seq[i] )"
   ]
  },
  {
   "cell_type": "markdown",
   "id": "1c563ba2",
   "metadata": {},
   "source": [
    "Perché usare il secondo metodo? Sembra più complicato...\n",
    "Il secondo metodo permette più controllo sull'accesso alla sequenza. Conoscendo la sua posizione \n",
    "possiamo accedere, ad esempio, al suo successore, o al suo predecessore, ecc... Se poi la sequenza è \n",
    "una lista, possiamo anche **modificare** l'elemento `seq[i]`.\n",
    "\n",
    "**Esercizio:** riscrivere i programmi di questa sezione ciclando sulle posizioni nella sequenza.\n",
    "\n",
    "\n",
    "### Riassumendo\n",
    "\n",
    "Abbiamo visto:\n",
    "- La sintassi il ciclo `for`.\n",
    "- Esempi di uso :\n",
    "  1. trasformazione di una sequenza;\n",
    "  2. statistiche e conteggi su una sequenza;\n",
    "  3. filtraggio di dati in una sequenza;\n",
    "  4. generazione di sequenze.\n",
    "- Ciclo con accesso alla sequenza attraverso l'indice di posizione."
   ]
  }
 ],
 "metadata": {
  "kernelspec": {
   "display_name": "Python 3",
   "language": "python",
   "name": "python3"
  },
  "language_info": {
   "codemirror_mode": {
    "name": "ipython",
    "version": 3
   },
   "file_extension": ".py",
   "mimetype": "text/x-python",
   "name": "python",
   "nbconvert_exporter": "python",
   "pygments_lexer": "ipython3",
   "version": "3.10.3"
  }
 },
 "nbformat": 4,
 "nbformat_minor": 5
}
