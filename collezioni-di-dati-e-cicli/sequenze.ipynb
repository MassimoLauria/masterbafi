{
 "cells": [
  {
   "cell_type": "markdown",
   "id": "9774be04",
   "metadata": {},
   "source": [
    "## Stringhe, Liste, Tuple: sono sequenze\n",
    "\n",
    "Stringhe, liste e tuple sono **differenti** tipi di dati, ma hanno molte **operazioni** in comune.\n",
    "Tutti e tre fanno parte della famiglia delle **sequenze**, ovvero collezioni di dati disposte in ordine:\n",
    "\n",
    "- la stringa è una sequenza di **caratteri**;\n",
    "- la tupla è una sequenza di valori **non modificabile**;\n",
    "- la lista è una sequenza di valori **modificabile**.\n",
    "\n",
    "Sono tre **tipi diversi** e ognuno ha caratteristiche peculiari, \n",
    "tuttavia hanno operazioni in comune come ad esempio\n",
    "- calcolare la lunghezza con `len`;\n",
    "- leggere il valore alla posizione i-esima.\n",
    "\n",
    "### Copiare segmenti\n",
    "\n",
    "Le cellule nel nostro organismo sanno quanto è importante copiare pezzi di sequenze. In python questa è un'operazione possibile su stringhe, liste e tuple."
   ]
  },
  {
   "cell_type": "code",
   "execution_count": 2,
   "id": "592272b7-3481-4cb9-82bb-7c5d33b4d06f",
   "metadata": {
    "attributes": {
     "classes": [
      "python3.run"
     ],
     "id": ""
    }
   },
   "outputs": [],
   "source": [
    "testo = \"abcdefghijklmnopqrstuvwxyz\""
   ]
  },
  {
   "cell_type": "code",
   "execution_count": 3,
   "id": "594beea3-f8af-46d3-aa7b-3453423309f9",
   "metadata": {
    "attributes": {
     "classes": [
      "python3.run"
     ],
     "id": ""
    }
   },
   "outputs": [
    {
     "name": "stdout",
     "output_type": "stream",
     "text": [
      "a z\n"
     ]
    }
   ],
   "source": [
    "# Il primo e l'ultimo carattere\n",
    "print(testo[0], testo[25])"
   ]
  },
  {
   "cell_type": "code",
   "execution_count": 4,
   "id": "d5e55c28-af76-48f4-965b-0366488a1da9",
   "metadata": {
    "attributes": {
     "classes": [
      "python3.run"
     ],
     "id": ""
    }
   },
   "outputs": [
    {
     "name": "stdout",
     "output_type": "stream",
     "text": [
      "abcde\n"
     ]
    }
   ],
   "source": [
    "# Dalla posizione 0 (inclusa) alla posizione 5 (esclusa).\n",
    "print( testo[:5]  )"
   ]
  },
  {
   "cell_type": "code",
   "execution_count": 5,
   "id": "1532bb23-29fa-483f-825d-800ff689167c",
   "metadata": {
    "attributes": {
     "classes": [
      "python3.run"
     ],
     "id": ""
    }
   },
   "outputs": [
    {
     "name": "stdout",
     "output_type": "stream",
     "text": [
      "klmnopqrstuvwxyz\n"
     ]
    }
   ],
   "source": [
    "# Dalla posizione 10 (inclusa) alla posizione finale\n",
    "print( testo[10:] )"
   ]
  },
  {
   "cell_type": "code",
   "execution_count": 6,
   "id": "96b12d8d-9c01-4d19-8669-a78c4e2be680",
   "metadata": {
    "attributes": {
     "classes": [
      "python3.run"
     ],
     "id": ""
    }
   },
   "outputs": [
    {
     "name": "stdout",
     "output_type": "stream",
     "text": [
      "hijklmnopq\n"
     ]
    }
   ],
   "source": [
    "# Dalla posizione 7 (inclusa) alla 17 (esclusa) \n",
    "print ( testo[7:17] )"
   ]
  },
  {
   "cell_type": "markdown",
   "id": "dab43dc4",
   "metadata": {},
   "source": [
    "Dall'esempio vedete la sintassi generale:"
   ]
  },
  {
   "cell_type": "markdown",
   "id": "7054aa9f-f172-4749-a732-d1a3e78d4c5f",
   "metadata": {},
   "source": [
    "```python\n",
    "seq[a:b]\n",
    "```"
   ]
  },
  {
   "cell_type": "markdown",
   "id": "4942e567",
   "metadata": {},
   "source": [
    "è una **nuova** sequenza che contiente i valori dalla posizione `a` **inclusa** alla\n",
    "posizione `b` **esclusa** contenuti nella sequenza `seq`.\n",
    "\n",
    "**Esercizio:** provate questa sintassi dei valori per `a` e `b` \n",
    "- che sono numeri;\n",
    "- che non sono numeri;\n",
    "- `a` minore di `b`;\n",
    "- `a` maggiore di `b`;\n",
    "- `a` minore di `0`;\n",
    "- `b` maggiore di `len(seq)`.\n",
    "\n",
    "Esistono sintassi alternative, che permettono di omettere uno o entrambi i limiti:\n",
    "- `seq[:b]` allora la posizione iniziale (inclusa) è assunta essere `0`;\n",
    "- `seq[a:]` allora la posizione finale (esclusa) è assunta essere `len(seq)`; \n",
    "- `seq[:]` una copia di tutta la sequenza.\n",
    "\n",
    "Adesso vediamo un esempio su una lista"
   ]
  },
  {
   "cell_type": "code",
   "execution_count": 7,
   "id": "795a818b-d5c1-45f4-8017-43d15fc2a071",
   "metadata": {
    "attributes": {
     "classes": [
      "python3.run"
     ],
     "id": ""
    }
   },
   "outputs": [],
   "source": [
    "L = ['zero', 'uno', 'due', 'tre', 'quattro', 'cinque']"
   ]
  },
  {
   "cell_type": "code",
   "execution_count": 8,
   "id": "9d79c18b-3f9d-4f48-a655-c7752756a471",
   "metadata": {
    "attributes": {
     "classes": [
      "python3.run"
     ],
     "id": ""
    }
   },
   "outputs": [
    {
     "name": "stdout",
     "output_type": "stream",
     "text": [
      "['tre', 'quattro', 'cinque']\n"
     ]
    }
   ],
   "source": [
    "print( L[3: ])"
   ]
  },
  {
   "cell_type": "code",
   "execution_count": 9,
   "id": "3b6c8ed5-1052-4c7f-9bc9-b050bdcbb381",
   "metadata": {
    "attributes": {
     "classes": [
      "python3.run"
     ],
     "id": ""
    }
   },
   "outputs": [
    {
     "name": "stdout",
     "output_type": "stream",
     "text": [
      "['zero', 'uno', 'due', 'tre']\n"
     ]
    }
   ],
   "source": [
    "print( L[ :4])"
   ]
  },
  {
   "cell_type": "code",
   "execution_count": 10,
   "id": "c14d46ba-cb90-4eba-a3ce-b8bafd0eae4f",
   "metadata": {
    "attributes": {
     "classes": [
      "python3.run"
     ],
     "id": ""
    }
   },
   "outputs": [
    {
     "name": "stdout",
     "output_type": "stream",
     "text": [
      "['uno', 'due', 'tre']\n"
     ]
    }
   ],
   "source": [
    "print( L[1:4])"
   ]
  },
  {
   "cell_type": "code",
   "execution_count": 11,
   "id": "09ee6c68-d397-46dc-ad62-2286cf70325d",
   "metadata": {
    "attributes": {
     "classes": [
      "python3.run"
     ],
     "id": ""
    }
   },
   "outputs": [
    {
     "name": "stdout",
     "output_type": "stream",
     "text": [
      "['zero', 'uno', 'due', 'tre', 'quattro', 'cinque']\n"
     ]
    }
   ],
   "source": [
    "print( L[:])"
   ]
  },
  {
   "cell_type": "markdown",
   "id": "6904c2af",
   "metadata": {},
   "source": [
    "Fate attenzione all'asimmetria: **il limite destro è escluso**.\n",
    "\n",
    "#### Copia di una lista\n",
    "\n",
    "La sintassi aapena vista permette di effettuare una vera copia di una lista,\n",
    "cosa che un semplice assegnamento non fa."
   ]
  },
  {
   "cell_type": "code",
   "execution_count": 17,
   "id": "7eceb4ed-e666-4e18-959c-1653b8c943c7",
   "metadata": {
    "attributes": {
     "classes": [
      "python3.run"
     ],
     "id": ""
    }
   },
   "outputs": [],
   "source": [
    "L = ['zero', 'uno', 'due', 'tre', 'quattro', 'cinque']"
   ]
  },
  {
   "cell_type": "markdown",
   "id": "033fbd5e-b3c4-48bc-8ca2-f90f637c3549",
   "metadata": {},
   "source": [
    "`X` è un secondo riferimento alla stessa lista `L`"
   ]
  },
  {
   "cell_type": "code",
   "execution_count": 18,
   "id": "2795466a-2a0d-4b4e-af55-5999e6099cdd",
   "metadata": {
    "attributes": {
     "classes": [
      "python3.run"
     ],
     "id": ""
    }
   },
   "outputs": [],
   "source": [
    "X = L\n",
    "Y = L[:]"
   ]
  },
  {
   "cell_type": "markdown",
   "id": "93f872b5-d434-4668-8bce-4b8961c9b74b",
   "metadata": {},
   "source": [
    "Modifico la lista `L`"
   ]
  },
  {
   "cell_type": "code",
   "execution_count": 19,
   "id": "01725e70-9627-4a03-8074-49efcfd36fad",
   "metadata": {
    "attributes": {
     "classes": [
      "python3.run"
     ],
     "id": ""
    }
   },
   "outputs": [],
   "source": [
    "L[2] = 'DUE'"
   ]
  },
  {
   "cell_type": "markdown",
   "id": "e845682b-1aae-41ec-a6fc-03a22ed2a09b",
   "metadata": {},
   "source": [
    "La lista `X` è cambiata (perché di fatto è la lista `L`). La lista `Y` non è stata toccata."
   ]
  },
  {
   "cell_type": "code",
   "execution_count": 20,
   "id": "6303c635-2e59-4cc8-9b2a-86bbade1c9d0",
   "metadata": {
    "attributes": {
     "classes": [
      "python3.run"
     ],
     "id": ""
    }
   },
   "outputs": [
    {
     "name": "stdout",
     "output_type": "stream",
     "text": [
      "['zero', 'uno', 'DUE', 'tre', 'quattro', 'cinque']\n",
      "['zero', 'uno', 'due', 'tre', 'quattro', 'cinque']\n"
     ]
    }
   ],
   "source": [
    "print(X)\n",
    "print(Y)"
   ]
  },
  {
   "cell_type": "markdown",
   "id": "a9666d0c",
   "metadata": {},
   "source": [
    "### Sequenza di numeri progressivi: `range`\n",
    "\n",
    "In Python esiste un tipo di sequenza speciale, che serve a rappresentare gli intervalli di numeri interi."
   ]
  },
  {
   "cell_type": "code",
   "execution_count": 21,
   "id": "049d22dd-3afa-450b-8848-3ca69dcb30f3",
   "metadata": {
    "attributes": {
     "classes": [
      "python3.run"
     ],
     "id": ""
    }
   },
   "outputs": [
    {
     "name": "stdout",
     "output_type": "stream",
     "text": [
      "La lunghezza di X è 10\n"
     ]
    }
   ],
   "source": [
    "X = range(10)\n",
    "print(\"La lunghezza di X è\",len(X))"
   ]
  },
  {
   "cell_type": "code",
   "execution_count": 22,
   "id": "9ce370fa-3710-48b1-93d7-918f0a7f6081",
   "metadata": {
    "attributes": {
     "classes": [
      "python3.run"
     ],
     "id": ""
    }
   },
   "outputs": [
    {
     "name": "stdout",
     "output_type": "stream",
     "text": [
      "0\n",
      "1\n",
      "9\n"
     ]
    }
   ],
   "source": [
    "print(X[0])\n",
    "print(X[1])\n",
    "print(X[9])"
   ]
  },
  {
   "cell_type": "code",
   "execution_count": 23,
   "id": "8ad8cdb5-eccd-4955-af2f-bb2678e1c9c3",
   "metadata": {
    "attributes": {
     "classes": [
      "python3.run"
     ],
     "id": ""
    }
   },
   "outputs": [
    {
     "name": "stdout",
     "output_type": "stream",
     "text": [
      "range(0, 10)\n"
     ]
    }
   ],
   "source": [
    "# X non è né una tupla, né una lista \n",
    "print(X)"
   ]
  },
  {
   "cell_type": "code",
   "execution_count": 24,
   "id": "21b30c2a-3dd3-4016-a575-b4a4d564cf7e",
   "metadata": {
    "attributes": {
     "classes": [
      "python3.run"
     ],
     "id": ""
    }
   },
   "outputs": [
    {
     "name": "stdout",
     "output_type": "stream",
     "text": [
      "[0, 1, 2, 3, 4, 5, 6, 7, 8, 9]\n",
      "(0, 1, 2, 3, 4, 5, 6, 7, 8, 9)\n"
     ]
    }
   ],
   "source": [
    "# Ma può essere convertita\n",
    "print(list(X))\n",
    "print(tuple(X))"
   ]
  },
  {
   "cell_type": "markdown",
   "id": "bad86a5f",
   "metadata": {},
   "source": [
    "Quindi `range(N)` produce la sequenza dei numeri interi non negativi fino a `N`, escluso. È anche possibile definire la sequenza per un intervallo che inizi da un numero diverso da `0`. La sintassi `range(a,b)` crea un intervallo da `a` (incluso) a `b` (escluso)."
   ]
  },
  {
   "cell_type": "code",
   "execution_count": 25,
   "id": "5028bbdf-77d5-482b-ac73-1bad2fe198cb",
   "metadata": {
    "attributes": {
     "classes": [
      "python3.run"
     ],
     "id": ""
    }
   },
   "outputs": [
    {
     "name": "stdout",
     "output_type": "stream",
     "text": [
      "La lunghezza di X è 16\n"
     ]
    }
   ],
   "source": [
    "X = range(-3,13)\n",
    "l = len(X)\n",
    "print(\"La lunghezza di X è\",l)"
   ]
  },
  {
   "cell_type": "code",
   "execution_count": 27,
   "id": "5e2d2110-038e-480f-97b8-4948a2889dc5",
   "metadata": {
    "attributes": {
     "classes": [
      "python3.run"
     ],
     "id": ""
    }
   },
   "outputs": [
    {
     "name": "stdout",
     "output_type": "stream",
     "text": [
      "-3\n",
      "-2\n",
      "12\n"
     ]
    }
   ],
   "source": [
    "print(X[0])\n",
    "print(X[1])\n",
    "print(X[l-1])"
   ]
  },
  {
   "cell_type": "code",
   "execution_count": 28,
   "id": "a2cc949e-4c43-4389-9de2-d2888aa87100",
   "metadata": {
    "attributes": {
     "classes": [
      "python3.run"
     ],
     "id": ""
    }
   },
   "outputs": [
    {
     "name": "stdout",
     "output_type": "stream",
     "text": [
      "range(-3, 13)\n"
     ]
    }
   ],
   "source": [
    "# X non è né una tupla, né una lista \n",
    "print(X)"
   ]
  },
  {
   "cell_type": "code",
   "execution_count": 29,
   "id": "117f5a7b-52bb-497e-b9ea-84920eacbee1",
   "metadata": {
    "attributes": {
     "classes": [
      "python3.run"
     ],
     "id": ""
    }
   },
   "outputs": [
    {
     "name": "stdout",
     "output_type": "stream",
     "text": [
      "[-3, -2, -1, 0, 1, 2, 3, 4, 5, 6, 7, 8, 9, 10, 11, 12]\n",
      "(-3, -2, -1, 0, 1, 2, 3, 4, 5, 6, 7, 8, 9, 10, 11, 12)\n"
     ]
    }
   ],
   "source": [
    "# Ma può essere convertita\n",
    "print(list(X))\n",
    "print(tuple(X))"
   ]
  },
  {
   "cell_type": "markdown",
   "id": "f4a7e5b8",
   "metadata": {},
   "source": [
    "La sequenza di tipo `range` sarà molto utile per i cicli `for`.\n",
    "\n",
    "### Ricerca nelle sequenze. Operatore `in` e metodo `index`.\n",
    "\n",
    "Possiamo effettuare una ricerca in una sequenza con l'operatore `in`."
   ]
  },
  {
   "cell_type": "code",
   "execution_count": 30,
   "id": "5ef669c9-4282-4846-a80d-9ed4dd30e82a",
   "metadata": {
    "attributes": {
     "classes": [
      "python3.run"
     ],
     "id": ""
    }
   },
   "outputs": [
    {
     "name": "stdout",
     "output_type": "stream",
     "text": [
      "False\n",
      "True\n"
     ]
    }
   ],
   "source": [
    "x = [1,4,7,9]\n",
    "print( 10 in x)\n",
    "print(  9 in x)"
   ]
  },
  {
   "cell_type": "code",
   "execution_count": 31,
   "id": "e211c5ac-0f8c-4646-9b4f-dc2774443220",
   "metadata": {
    "attributes": {
     "classes": [
      "python3.run"
     ],
     "id": ""
    }
   },
   "outputs": [
    {
     "name": "stdout",
     "output_type": "stream",
     "text": [
      "Mi piacciono i gatti\n"
     ]
    }
   ],
   "source": [
    "y = (\"gatto\",\"cane\",\"delfino\")\n",
    "\n",
    "if \"cavallo\" in y:\n",
    "    print(\"Il mio animale preferito\")\n",
    "elif \"gatto\" in y:\n",
    "    print(\"Mi piacciono i gatti\")\n",
    "else:\n",
    "    print(\"Che peccato\")"
   ]
  },
  {
   "cell_type": "markdown",
   "id": "b04e97e8",
   "metadata": {},
   "source": [
    "L'operatore `in` dà luogo ad una importante **differenza** tra le stringhe \n",
    "e le altre sequenze. L'espressione booleana `x in S` si comporta diversamente se `S` è una stringa: restituisce \n",
    "`True` quando `x` è una **sottostringa** di `S`, e `False` altrimenti."
   ]
  },
  {
   "cell_type": "code",
   "execution_count": 32,
   "id": "7a8ba8d6-7a6e-4291-862f-3c6a5c4485d0",
   "metadata": {
    "attributes": {
     "classes": [
      "python3.run"
     ],
     "id": ""
    }
   },
   "outputs": [],
   "source": [
    "S = \"un bel testo evocativo\"\n",
    "L = list(S)\n",
    "print(S)\n",
    "print(L)"
   ]
  },
  {
   "cell_type": "code",
   "execution_count": 35,
   "id": "f43d84f2-9c25-4bb7-8757-3ec69a5a5dab",
   "metadata": {
    "attributes": {
     "classes": [
      "python3.run"
     ],
     "id": ""
    }
   },
   "outputs": [
    {
     "name": "stdout",
     "output_type": "stream",
     "text": [
      "True\n",
      "False\n"
     ]
    }
   ],
   "source": [
    "print(\"bel testo\" in S)\n",
    "print(\"bel testo\" in L)"
   ]
  },
  {
   "cell_type": "code",
   "execution_count": 34,
   "id": "79483224-3272-4476-a2e5-4d21f2286208",
   "metadata": {
    "attributes": {
     "classes": [
      "python3.run"
     ],
     "id": ""
    }
   },
   "outputs": [
    {
     "name": "stdout",
     "output_type": "stream",
     "text": [
      "True\n",
      "True\n"
     ]
    }
   ],
   "source": [
    "print(\"o\" in S)\n",
    "print(\"o\" in L)"
   ]
  },
  {
   "cell_type": "markdown",
   "id": "5cecfe87",
   "metadata": {},
   "source": [
    "L'operatore `in` ci dice se un elemento (o una sottostringa) è nella sequenza, ma non ci dice in che posizione. Per questo possiamo usare il metodo `index`."
   ]
  },
  {
   "cell_type": "code",
   "execution_count": 36,
   "id": "4b18072e-061a-459a-8cfc-aeb5a3f41e75",
   "metadata": {
    "attributes": {
     "classes": [
      "python3.run"
     ],
     "id": ""
    }
   },
   "outputs": [],
   "source": [
    "S = \"un bel testo evocativo\"\n",
    "L = list(S)"
   ]
  },
  {
   "cell_type": "code",
   "execution_count": 37,
   "id": "aedc51fe-2657-4331-b637-c0f437494da2",
   "metadata": {
    "attributes": {
     "classes": [
      "python3.run"
     ],
     "id": ""
    }
   },
   "outputs": [],
   "source": [
    "print(S)\n",
    "print(L)"
   ]
  },
  {
   "cell_type": "code",
   "execution_count": 38,
   "id": "7cb50bfc-ce8a-4662-bc7e-531ce17d7790",
   "metadata": {
    "attributes": {
     "classes": [
      "python3.run"
     ],
     "id": ""
    }
   },
   "outputs": [
    {
     "name": "stdout",
     "output_type": "stream",
     "text": [
      "3\n",
      "11\n",
      "11\n"
     ]
    }
   ],
   "source": [
    "print(S.index(\"bel testo\"))\n",
    "print(S.index(\"o\"))\n",
    "print(L.index(\"o\"))"
   ]
  },
  {
   "cell_type": "markdown",
   "id": "0f6125f5",
   "metadata": {},
   "source": [
    "**Esercizio:** Che succede se la ricerca effettuata col metodo index non va a buon fine, ovvero si cerca qualcosa che non è nella sequenza?\n",
    "\n",
    "### Riassunto\n",
    "Abbiamo visto\n",
    "- che liste, tuple e stringhe sono tutte **sequenze**;\n",
    "- che si possono copiare **segmenti** di sequenze;\n",
    "- come fare una **copia di una  lista**;\n",
    "- il tipo `range`, che produce sequenze di numeri interi progressivi;\n",
    "- la **ricerca** di un elemento in una sequenza;\n",
    "- la ricerca di una **sottostringa**."
   ]
  }
 ],
 "metadata": {
  "kernelspec": {
   "display_name": "Python 3",
   "language": "python",
   "name": "python3"
  },
  "language_info": {
   "codemirror_mode": {
    "name": "ipython",
    "version": 3
   },
   "file_extension": ".py",
   "mimetype": "text/x-python",
   "name": "python",
   "nbconvert_exporter": "python",
   "pygments_lexer": "ipython3",
   "version": "3.10.3"
  }
 },
 "nbformat": 4,
 "nbformat_minor": 5
}
