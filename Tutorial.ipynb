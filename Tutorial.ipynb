{
 "cells": [
  {
   "cell_type": "markdown",
   "id": "5c835d32-f399-4d85-853c-007aa2f1235d",
   "metadata": {},
   "source": [
    "# Tutorial sul linguaggio python"
   ]
  },
  {
   "cell_type": "markdown",
   "id": "30c6a7ff-93d5-451d-91db-41b249186c3a",
   "metadata": {},
   "source": [
    "## 1. Primi Passi\n",
    "\n",
    " - [Intro e credits](./primi-passi/credits.ipynb)\n",
    " - [Sessione Interattiva](./primi-passi/sessione-interattiva.ipynb)\n",
    " - [Tipi di dati e conversioni](./primi-passi/tipi-di-dati-e-conversioni.ipynb)\n",
    " - [Ancora su stringhe e numeri](./primi-passi/ancora-su-stringhe-e-numeri.ipynb)"
   ]
  },
  {
   "cell_type": "markdown",
   "id": "069c66bb-5184-4c3e-b98c-32d8e8bc7d84",
   "metadata": {},
   "source": [
    " \n",
    "## 2. Scrittura di Programmi\n",
    "\n",
    " - [Variabili](./scrittura-di-programmi/variabili.ipynb)\n",
    " - [Programma su file](./scrittura-di-programmi/programma-su-file.ipynb)\n",
    " - [Stampa a video](./scrittura-di-programmi/stampa-a-video.ipynb)\n",
    " - [Input da tastiera](./scrittura-di-programmi/input-da-tastiera.ipynb)"
   ]
  },
  {
   "cell_type": "markdown",
   "id": "589856c6-ec76-46f5-80ed-e9059d059533",
   "metadata": {},
   "source": [
    "## 3. Diamo struttura ai programmi\n",
    " \n",
    " - [If...then...else](./diamo-struttura-ai-programmi/if-then-else.ipynb)\n",
    " - [Approfondimento sui booleani](./diamo-struttura-ai-programmi/approfondimento-sui-booleani.ipynb)\n",
    " - [Espressioni sempre più complesse](./diamo-struttura-ai-programmi/espressioni-sempre-piu-complesse.ipynb)\n",
    " - [Usiamo le funzioni di libreria](./diamo-struttura-ai-programmi/usiamo-le-funzioni-di-libreria.ipynb)\n",
    " - [Scriviamo le prime funzioni](./diamo-struttura-ai-programmi/scriviamo-le-prime-funzioni.ipynb)"
   ]
  },
  {
   "cell_type": "markdown",
   "id": "2f1724f4-733f-43c6-b6b4-b9e2873bf8ef",
   "metadata": {},
   "source": [
    "## 4. Collezioni di dati e cicli\n",
    "\n",
    " - [Tuple](./collezioni-di-dati-e-cicli/tuple.ipynb)\n",
    " - [Liste](./collezioni-di-dati-e-cicli/liste.ipynb)\n",
    " - [Tuple, Liste e Stringhe sono \"sequenze\"](./collezioni-di-dati-e-cicli/sequenze.ipynb)\n",
    " - [Ciclo for](./collezioni-di-dati-e-cicli/ciclo-for.ipynb)\n",
    " - [Dizionari](./collezioni-di-dati-e-cicli/dizionari.ipynb)"
   ]
  },
  {
   "cell_type": "markdown",
   "id": "302a8cc3-22e1-48dc-9e20-73e53cf3b378",
   "metadata": {},
   "source": [
    "## 5. Esercizi\n",
    "\n",
    " - [Massimo di una lista](./esercizi/massimo-di-una-lista.ipynb)\n",
    " - [Verifichiamo che la lista sia ordinata](./esercizi/verifichiamo-che-la-lista-sia-ordinata.ipynb)\n",
    " - [Frequenza di parole](./esercizi/frequenza-di-parole.ipynb)"
   ]
  },
  {
   "cell_type": "markdown",
   "id": "30207852-0805-4fc4-ab33-13be60ee5049",
   "metadata": {},
   "source": [
    "# Progetto \n",
    "\n",
    "Vedremo il calcolo del rendimento medio di titoli, secondo il calcolo di alcuni parametri di questi titoli.\n",
    "\n",
    "  - [Foglio di Lavoro del progetto](./rendimentomedio/RendimentoMedio.ipynb)\n"
   ]
  },
  {
   "cell_type": "code",
   "execution_count": null,
   "id": "dd3ac4c3-8b4a-4aae-bd2f-4a5d083208b6",
   "metadata": {},
   "outputs": [],
   "source": []
  }
 ],
 "metadata": {
  "kernelspec": {
   "display_name": "Python 3",
   "language": "python",
   "name": "python3"
  },
  "language_info": {
   "codemirror_mode": {
    "name": "ipython",
    "version": 3
   },
   "file_extension": ".py",
   "mimetype": "text/x-python",
   "name": "python",
   "nbconvert_exporter": "python",
   "pygments_lexer": "ipython3",
   "version": "3.10.3"
  }
 },
 "nbformat": 4,
 "nbformat_minor": 5
}
